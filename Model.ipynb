{
 "cells": [
  {
   "cell_type": "code",
   "execution_count": 1,
   "metadata": {},
   "outputs": [],
   "source": [
    "import pandas as pd\n",
    "import numpy as np\n",
    "import matplotlib.pyplot as plt\n",
    "\n",
    "from sklearn.ensemble import RandomForestClassifier\n",
    "from sklearn.model_selection import cross_val_score\n",
    "from sklearn.model_selection import train_test_split\n",
    "from sklearn.model_selection import RandomizedSearchCV\n",
    "from sklearn.preprocessing import LabelEncoder\n",
    "from sklearn.preprocessing import StandardScaler\n",
    "from sklearn.pipeline import make_pipeline\n",
    "\n",
    "from skopt import BayesSearchCV\n",
    "\n",
    "from xgboost import XGBClassifier\n",
    "\n",
    "%matplotlib inline"
   ]
  },
  {
   "cell_type": "code",
   "execution_count": 2,
   "metadata": {},
   "outputs": [],
   "source": [
    "class BayesSearchCV(BayesSearchCV):\n",
    "    def _run_search(self, x): raise BaseException('Use newer skopt')"
   ]
  },
  {
   "cell_type": "code",
   "execution_count": 3,
   "metadata": {},
   "outputs": [],
   "source": [
    "df = pd.read_csv('./data/all_categoricals.csv', index_col = 0)"
   ]
  },
  {
   "cell_type": "code",
   "execution_count": 4,
   "metadata": {},
   "outputs": [
    {
     "name": "stdout",
     "output_type": "stream",
     "text": [
      "\u001b[31maac_intakes.csv\u001b[m\u001b[m          df_cat.csv               hour_ids.csv\r\n",
      "\u001b[31maac_intakes_outcomes.csv\u001b[m\u001b[m df_dog.csv               hr_name.csv\r\n",
      "\u001b[31maac_outcomes.csv\u001b[m\u001b[m         df_mod.csv               master_df.csv\r\n",
      "all_categoricals.csv     engineered.csv           master_df_1128.csv\r\n",
      "concat_backup.csv        group_shade.csv          master_df_1129.csv\r\n"
     ]
    }
   ],
   "source": [
    "!ls data"
   ]
  },
  {
   "cell_type": "code",
   "execution_count": 5,
   "metadata": {},
   "outputs": [],
   "source": [
    "df_name_hour = pd.read_csv('./data/hr_name.csv', index_col=0)"
   ]
  },
  {
   "cell_type": "code",
   "execution_count": 6,
   "metadata": {},
   "outputs": [],
   "source": [
    "df_group_shade = pd.read_csv('./data/group_shade.csv', index_col=0)"
   ]
  },
  {
   "cell_type": "code",
   "execution_count": 7,
   "metadata": {},
   "outputs": [
    {
     "data": {
      "text/html": [
       "<div>\n",
       "<style scoped>\n",
       "    .dataframe tbody tr th:only-of-type {\n",
       "        vertical-align: middle;\n",
       "    }\n",
       "\n",
       "    .dataframe tbody tr th {\n",
       "        vertical-align: top;\n",
       "    }\n",
       "\n",
       "    .dataframe thead th {\n",
       "        text-align: right;\n",
       "    }\n",
       "</style>\n",
       "<table border=\"1\" class=\"dataframe\">\n",
       "  <thead>\n",
       "    <tr style=\"text-align: right;\">\n",
       "      <th></th>\n",
       "      <th>age</th>\n",
       "      <th>animal_id</th>\n",
       "      <th>animal_type</th>\n",
       "      <th>datetime_in</th>\n",
       "      <th>days_in_shelter</th>\n",
       "      <th>dow</th>\n",
       "      <th>fixed_status</th>\n",
       "      <th>gender</th>\n",
       "      <th>group</th>\n",
       "      <th>intake_condition</th>\n",
       "      <th>intake_season</th>\n",
       "      <th>intake_type</th>\n",
       "      <th>mix</th>\n",
       "      <th>name</th>\n",
       "      <th>outcome_type</th>\n",
       "      <th>simple_color</th>\n",
       "      <th>hour_in</th>\n",
       "      <th>simple_group</th>\n",
       "      <th>shade</th>\n",
       "    </tr>\n",
       "  </thead>\n",
       "  <tbody>\n",
       "    <tr>\n",
       "      <th>0</th>\n",
       "      <td>2920</td>\n",
       "      <td>A706918</td>\n",
       "      <td>Dog</td>\n",
       "      <td>2015-07-05 12:59:00</td>\n",
       "      <td>0</td>\n",
       "      <td>6</td>\n",
       "      <td>fixed</td>\n",
       "      <td>1</td>\n",
       "      <td>Sporting</td>\n",
       "      <td>Normal</td>\n",
       "      <td>summer</td>\n",
       "      <td>Stray</td>\n",
       "      <td>0</td>\n",
       "      <td>1</td>\n",
       "      <td>Return to Owner</td>\n",
       "      <td>White</td>\n",
       "      <td>12</td>\n",
       "      <td>Sporting</td>\n",
       "      <td>Light</td>\n",
       "    </tr>\n",
       "    <tr>\n",
       "      <th>1</th>\n",
       "      <td>330</td>\n",
       "      <td>A724273</td>\n",
       "      <td>Dog</td>\n",
       "      <td>2016-04-14 18:43:00</td>\n",
       "      <td>6</td>\n",
       "      <td>3</td>\n",
       "      <td>intact</td>\n",
       "      <td>0</td>\n",
       "      <td>Hound</td>\n",
       "      <td>Normal</td>\n",
       "      <td>spring</td>\n",
       "      <td>Stray</td>\n",
       "      <td>1</td>\n",
       "      <td>1</td>\n",
       "      <td>Return to Owner</td>\n",
       "      <td>Sable</td>\n",
       "      <td>18</td>\n",
       "      <td>Non-Sporting</td>\n",
       "      <td>Light</td>\n",
       "    </tr>\n",
       "    <tr>\n",
       "      <th>2</th>\n",
       "      <td>1460</td>\n",
       "      <td>A682524</td>\n",
       "      <td>Dog</td>\n",
       "      <td>2014-06-29 10:38:00</td>\n",
       "      <td>3</td>\n",
       "      <td>6</td>\n",
       "      <td>fixed</td>\n",
       "      <td>0</td>\n",
       "      <td>Working</td>\n",
       "      <td>Normal</td>\n",
       "      <td>spring</td>\n",
       "      <td>Stray</td>\n",
       "      <td>1</td>\n",
       "      <td>1</td>\n",
       "      <td>Return to Owner</td>\n",
       "      <td>Yellow</td>\n",
       "      <td>10</td>\n",
       "      <td>Non-Sporting</td>\n",
       "      <td>Light</td>\n",
       "    </tr>\n",
       "    <tr>\n",
       "      <th>3</th>\n",
       "      <td>730</td>\n",
       "      <td>A743852</td>\n",
       "      <td>Dog</td>\n",
       "      <td>2017-02-18 12:46:00</td>\n",
       "      <td>3</td>\n",
       "      <td>5</td>\n",
       "      <td>fixed</td>\n",
       "      <td>0</td>\n",
       "      <td>Sporting</td>\n",
       "      <td>Normal</td>\n",
       "      <td>winter</td>\n",
       "      <td>Owner Surrender</td>\n",
       "      <td>1</td>\n",
       "      <td>1</td>\n",
       "      <td>Return to Owner</td>\n",
       "      <td>Brown</td>\n",
       "      <td>12</td>\n",
       "      <td>Sporting</td>\n",
       "      <td>Medium</td>\n",
       "    </tr>\n",
       "    <tr>\n",
       "      <th>4</th>\n",
       "      <td>730</td>\n",
       "      <td>A708452</td>\n",
       "      <td>Dog</td>\n",
       "      <td>2015-07-30 14:37:00</td>\n",
       "      <td>5</td>\n",
       "      <td>3</td>\n",
       "      <td>intact</td>\n",
       "      <td>0</td>\n",
       "      <td>Sporting</td>\n",
       "      <td>Normal</td>\n",
       "      <td>summer</td>\n",
       "      <td>Public Assist</td>\n",
       "      <td>1</td>\n",
       "      <td>1</td>\n",
       "      <td>Return to Owner</td>\n",
       "      <td>Black</td>\n",
       "      <td>14</td>\n",
       "      <td>Sporting</td>\n",
       "      <td>Dark</td>\n",
       "    </tr>\n",
       "  </tbody>\n",
       "</table>\n",
       "</div>"
      ],
      "text/plain": [
       "    age animal_id animal_type          datetime_in  days_in_shelter  dow  \\\n",
       "0  2920   A706918         Dog  2015-07-05 12:59:00                0    6   \n",
       "1   330   A724273         Dog  2016-04-14 18:43:00                6    3   \n",
       "2  1460   A682524         Dog  2014-06-29 10:38:00                3    6   \n",
       "3   730   A743852         Dog  2017-02-18 12:46:00                3    5   \n",
       "4   730   A708452         Dog  2015-07-30 14:37:00                5    3   \n",
       "\n",
       "  fixed_status  gender     group intake_condition intake_season  \\\n",
       "0        fixed       1  Sporting           Normal        summer   \n",
       "1       intact       0     Hound           Normal        spring   \n",
       "2        fixed       0   Working           Normal        spring   \n",
       "3        fixed       0  Sporting           Normal        winter   \n",
       "4       intact       0  Sporting           Normal        summer   \n",
       "\n",
       "       intake_type  mix  name     outcome_type simple_color  hour_in  \\\n",
       "0            Stray    0     1  Return to Owner        White       12   \n",
       "1            Stray    1     1  Return to Owner        Sable       18   \n",
       "2            Stray    1     1  Return to Owner       Yellow       10   \n",
       "3  Owner Surrender    1     1  Return to Owner        Brown       12   \n",
       "4    Public Assist    1     1  Return to Owner        Black       14   \n",
       "\n",
       "   simple_group   shade  \n",
       "0      Sporting   Light  \n",
       "1  Non-Sporting   Light  \n",
       "2  Non-Sporting   Light  \n",
       "3      Sporting  Medium  \n",
       "4      Sporting    Dark  "
      ]
     },
     "execution_count": 7,
     "metadata": {},
     "output_type": "execute_result"
    }
   ],
   "source": [
    "df_group_shade.head()"
   ]
  },
  {
   "cell_type": "code",
   "execution_count": 8,
   "metadata": {},
   "outputs": [],
   "source": [
    "df_group_shade = df_group_shade[['animal_id', 'simple_group', 'shade']]"
   ]
  },
  {
   "cell_type": "code",
   "execution_count": 9,
   "metadata": {},
   "outputs": [],
   "source": [
    "df = df_name_hour.drop(labels=['name'], axis=1).merge(df, on='animal_id')"
   ]
  },
  {
   "cell_type": "code",
   "execution_count": 10,
   "metadata": {},
   "outputs": [],
   "source": [
    "df = df_group_shade.merge(df, on='animal_id')"
   ]
  },
  {
   "cell_type": "code",
   "execution_count": 13,
   "metadata": {},
   "outputs": [],
   "source": [
    "df = df[df['outcome_type'] != 'Rto-Adopt']\n",
    "df = df[df['outcome_type'] != 'Missing']\n",
    "df = df[df['outcome_type'] != 'Disposal']"
   ]
  },
  {
   "cell_type": "code",
   "execution_count": 14,
   "metadata": {},
   "outputs": [],
   "source": [
    "# We don't need animal id for modeling\n",
    "df_model = df.iloc[:, 1:]"
   ]
  },
  {
   "cell_type": "code",
   "execution_count": 15,
   "metadata": {},
   "outputs": [],
   "source": [
    "df_model = df_model[~df_model.duplicated()]"
   ]
  },
  {
   "cell_type": "code",
   "execution_count": 16,
   "metadata": {},
   "outputs": [
    {
     "data": {
      "text/plain": [
       "Adoption           33455\n",
       "Transfer           22946\n",
       "Return to Owner    14938\n",
       "Euthanasia          2873\n",
       "Died                 540\n",
       "Name: outcome_type, dtype: int64"
      ]
     },
     "execution_count": 16,
     "metadata": {},
     "output_type": "execute_result"
    }
   ],
   "source": [
    "df['outcome_type'].value_counts()"
   ]
  },
  {
   "cell_type": "code",
   "execution_count": 17,
   "metadata": {},
   "outputs": [
    {
     "data": {
      "text/plain": [
       "Adoption           32562\n",
       "Transfer           20458\n",
       "Return to Owner    14518\n",
       "Euthanasia          2847\n",
       "Died                 532\n",
       "Name: outcome_type, dtype: int64"
      ]
     },
     "execution_count": 17,
     "metadata": {},
     "output_type": "execute_result"
    }
   ],
   "source": [
    "df_model['outcome_type'].value_counts()"
   ]
  },
  {
   "cell_type": "markdown",
   "metadata": {},
   "source": [
    "Drop the days in shelter feature for now. This will be used later in regression analysis if needed."
   ]
  },
  {
   "cell_type": "code",
   "execution_count": 18,
   "metadata": {},
   "outputs": [],
   "source": [
    "df_model = df_model.drop(labels=['days_in_shelter'], axis=1)"
   ]
  },
  {
   "cell_type": "code",
   "execution_count": 19,
   "metadata": {},
   "outputs": [
    {
     "data": {
      "text/html": [
       "<div>\n",
       "<style scoped>\n",
       "    .dataframe tbody tr th:only-of-type {\n",
       "        vertical-align: middle;\n",
       "    }\n",
       "\n",
       "    .dataframe tbody tr th {\n",
       "        vertical-align: top;\n",
       "    }\n",
       "\n",
       "    .dataframe thead th {\n",
       "        text-align: right;\n",
       "    }\n",
       "</style>\n",
       "<table border=\"1\" class=\"dataframe\">\n",
       "  <thead>\n",
       "    <tr style=\"text-align: right;\">\n",
       "      <th></th>\n",
       "      <th>simple_group</th>\n",
       "      <th>shade</th>\n",
       "      <th>name_freq</th>\n",
       "      <th>hour</th>\n",
       "      <th>age</th>\n",
       "      <th>dow</th>\n",
       "      <th>gender</th>\n",
       "      <th>mix</th>\n",
       "      <th>name</th>\n",
       "      <th>animal_type_Cat</th>\n",
       "      <th>...</th>\n",
       "      <th>hour_in_22</th>\n",
       "      <th>hour_in_23</th>\n",
       "      <th>hour_in_3</th>\n",
       "      <th>hour_in_4</th>\n",
       "      <th>hour_in_5</th>\n",
       "      <th>hour_in_6</th>\n",
       "      <th>hour_in_7</th>\n",
       "      <th>hour_in_8</th>\n",
       "      <th>hour_in_9</th>\n",
       "      <th>outcome_type</th>\n",
       "    </tr>\n",
       "  </thead>\n",
       "  <tbody>\n",
       "    <tr>\n",
       "      <th>0</th>\n",
       "      <td>Sporting</td>\n",
       "      <td>Light</td>\n",
       "      <td>52</td>\n",
       "      <td>12</td>\n",
       "      <td>2920</td>\n",
       "      <td>6</td>\n",
       "      <td>1</td>\n",
       "      <td>0</td>\n",
       "      <td>1</td>\n",
       "      <td>0</td>\n",
       "      <td>...</td>\n",
       "      <td>0</td>\n",
       "      <td>0</td>\n",
       "      <td>0</td>\n",
       "      <td>0</td>\n",
       "      <td>0</td>\n",
       "      <td>0</td>\n",
       "      <td>0</td>\n",
       "      <td>0</td>\n",
       "      <td>0</td>\n",
       "      <td>Return to Owner</td>\n",
       "    </tr>\n",
       "    <tr>\n",
       "      <th>1</th>\n",
       "      <td>Non-Sporting</td>\n",
       "      <td>Light</td>\n",
       "      <td>1</td>\n",
       "      <td>18</td>\n",
       "      <td>330</td>\n",
       "      <td>3</td>\n",
       "      <td>0</td>\n",
       "      <td>1</td>\n",
       "      <td>1</td>\n",
       "      <td>0</td>\n",
       "      <td>...</td>\n",
       "      <td>0</td>\n",
       "      <td>0</td>\n",
       "      <td>0</td>\n",
       "      <td>0</td>\n",
       "      <td>0</td>\n",
       "      <td>0</td>\n",
       "      <td>0</td>\n",
       "      <td>0</td>\n",
       "      <td>0</td>\n",
       "      <td>Return to Owner</td>\n",
       "    </tr>\n",
       "    <tr>\n",
       "      <th>2</th>\n",
       "      <td>Non-Sporting</td>\n",
       "      <td>Light</td>\n",
       "      <td>22</td>\n",
       "      <td>10</td>\n",
       "      <td>1460</td>\n",
       "      <td>6</td>\n",
       "      <td>0</td>\n",
       "      <td>1</td>\n",
       "      <td>1</td>\n",
       "      <td>0</td>\n",
       "      <td>...</td>\n",
       "      <td>0</td>\n",
       "      <td>0</td>\n",
       "      <td>0</td>\n",
       "      <td>0</td>\n",
       "      <td>0</td>\n",
       "      <td>0</td>\n",
       "      <td>0</td>\n",
       "      <td>0</td>\n",
       "      <td>0</td>\n",
       "      <td>Return to Owner</td>\n",
       "    </tr>\n",
       "    <tr>\n",
       "      <th>3</th>\n",
       "      <td>Sporting</td>\n",
       "      <td>Medium</td>\n",
       "      <td>32</td>\n",
       "      <td>12</td>\n",
       "      <td>730</td>\n",
       "      <td>5</td>\n",
       "      <td>0</td>\n",
       "      <td>1</td>\n",
       "      <td>1</td>\n",
       "      <td>0</td>\n",
       "      <td>...</td>\n",
       "      <td>0</td>\n",
       "      <td>0</td>\n",
       "      <td>0</td>\n",
       "      <td>0</td>\n",
       "      <td>0</td>\n",
       "      <td>0</td>\n",
       "      <td>0</td>\n",
       "      <td>0</td>\n",
       "      <td>0</td>\n",
       "      <td>Return to Owner</td>\n",
       "    </tr>\n",
       "    <tr>\n",
       "      <th>4</th>\n",
       "      <td>Sporting</td>\n",
       "      <td>Dark</td>\n",
       "      <td>1</td>\n",
       "      <td>14</td>\n",
       "      <td>730</td>\n",
       "      <td>3</td>\n",
       "      <td>0</td>\n",
       "      <td>1</td>\n",
       "      <td>1</td>\n",
       "      <td>0</td>\n",
       "      <td>...</td>\n",
       "      <td>0</td>\n",
       "      <td>0</td>\n",
       "      <td>0</td>\n",
       "      <td>0</td>\n",
       "      <td>0</td>\n",
       "      <td>0</td>\n",
       "      <td>0</td>\n",
       "      <td>0</td>\n",
       "      <td>0</td>\n",
       "      <td>Return to Owner</td>\n",
       "    </tr>\n",
       "  </tbody>\n",
       "</table>\n",
       "<p>5 rows × 72 columns</p>\n",
       "</div>"
      ],
      "text/plain": [
       "   simple_group   shade  name_freq  hour   age  dow  gender  mix  name  \\\n",
       "0      Sporting   Light         52    12  2920    6       1    0     1   \n",
       "1  Non-Sporting   Light          1    18   330    3       0    1     1   \n",
       "2  Non-Sporting   Light         22    10  1460    6       0    1     1   \n",
       "3      Sporting  Medium         32    12   730    5       0    1     1   \n",
       "4      Sporting    Dark          1    14   730    3       0    1     1   \n",
       "\n",
       "   animal_type_Cat       ...         hour_in_22  hour_in_23  hour_in_3  \\\n",
       "0                0       ...                  0           0          0   \n",
       "1                0       ...                  0           0          0   \n",
       "2                0       ...                  0           0          0   \n",
       "3                0       ...                  0           0          0   \n",
       "4                0       ...                  0           0          0   \n",
       "\n",
       "   hour_in_4  hour_in_5  hour_in_6  hour_in_7  hour_in_8  hour_in_9  \\\n",
       "0          0          0          0          0          0          0   \n",
       "1          0          0          0          0          0          0   \n",
       "2          0          0          0          0          0          0   \n",
       "3          0          0          0          0          0          0   \n",
       "4          0          0          0          0          0          0   \n",
       "\n",
       "      outcome_type  \n",
       "0  Return to Owner  \n",
       "1  Return to Owner  \n",
       "2  Return to Owner  \n",
       "3  Return to Owner  \n",
       "4  Return to Owner  \n",
       "\n",
       "[5 rows x 72 columns]"
      ]
     },
     "execution_count": 19,
     "metadata": {},
     "output_type": "execute_result"
    }
   ],
   "source": [
    "df_model.head()"
   ]
  },
  {
   "cell_type": "code",
   "execution_count": 20,
   "metadata": {},
   "outputs": [
    {
     "data": {
      "text/plain": [
       "array(['simple_group', 'shade', 'name_freq', 'hour', 'age', 'dow',\n",
       "       'gender', 'mix', 'name', 'animal_type_Cat', 'animal_type_Dog',\n",
       "       'fixed_status_fixed', 'fixed_status_intact', 'group_Herding',\n",
       "       'group_Hound', 'group_Non-Sporting', 'group_Sporting',\n",
       "       'group_Terrier', 'group_Toy', 'group_Working', 'group_long hair',\n",
       "       'group_short hair', 'intake_condition_Aged',\n",
       "       'intake_condition_Feral', 'intake_condition_Injured',\n",
       "       'intake_condition_Normal', 'intake_condition_Nursing',\n",
       "       'intake_condition_Other', 'intake_condition_Pregnant',\n",
       "       'intake_condition_Sick', 'intake_season_fall',\n",
       "       'intake_season_spring', 'intake_season_summer',\n",
       "       'intake_season_winter', 'intake_type_Euthanasia Request',\n",
       "       'intake_type_Owner Surrender', 'intake_type_Public Assist',\n",
       "       'intake_type_Stray', 'simple_color_Black', 'simple_color_Blue',\n",
       "       'simple_color_Brown', 'simple_color_Gray', 'simple_color_Red',\n",
       "       'simple_color_Sable', 'simple_color_Tricolor',\n",
       "       'simple_color_White', 'simple_color_Yellow', 'hour_in_0',\n",
       "       'hour_in_1', 'hour_in_10', 'hour_in_11', 'hour_in_12',\n",
       "       'hour_in_13', 'hour_in_14', 'hour_in_15', 'hour_in_16',\n",
       "       'hour_in_17', 'hour_in_18', 'hour_in_19', 'hour_in_2',\n",
       "       'hour_in_20', 'hour_in_21', 'hour_in_22', 'hour_in_23',\n",
       "       'hour_in_3', 'hour_in_4', 'hour_in_5', 'hour_in_6', 'hour_in_7',\n",
       "       'hour_in_8', 'hour_in_9', 'outcome_type'], dtype=object)"
      ]
     },
     "execution_count": 20,
     "metadata": {},
     "output_type": "execute_result"
    }
   ],
   "source": [
    "df_model.columns.values"
   ]
  },
  {
   "cell_type": "code",
   "execution_count": 21,
   "metadata": {},
   "outputs": [],
   "source": [
    "df_model = df_model.drop(labels=['hour_in_0',\n",
    "       'hour_in_1', 'hour_in_10', 'hour_in_11', 'hour_in_12',\n",
    "       'hour_in_13', 'hour_in_14', 'hour_in_15', 'hour_in_16',\n",
    "       'hour_in_17', 'hour_in_18', 'hour_in_19', 'hour_in_2',\n",
    "       'hour_in_20', 'hour_in_21', 'hour_in_22', 'hour_in_23',\n",
    "       'hour_in_3', 'hour_in_4', 'hour_in_5', 'hour_in_6', \n",
    "       'hour_in_7', 'hour_in_8', 'hour_in_9'], axis=1)"
   ]
  },
  {
   "cell_type": "code",
   "execution_count": 37,
   "metadata": {},
   "outputs": [],
   "source": [
    "df_model = df_model.drop(labels=['intake_season_fall', 'intake_season_spring', 'intake_season_summer'], axis=1)"
   ]
  },
  {
   "cell_type": "code",
   "execution_count": 38,
   "metadata": {},
   "outputs": [
    {
     "data": {
      "text/plain": [
       "array(['simple_group_Non-Sporting', 'simple_group_Sporting',\n",
       "       'simple_group_long hair', 'simple_group_short hair', 'shade_Dark',\n",
       "       'shade_Light', 'shade_Medium', 'name_freq', 'hour', 'age', 'dow',\n",
       "       'gender', 'mix', 'animal_type_Cat', 'animal_type_Dog',\n",
       "       'fixed_status_fixed', 'fixed_status_intact',\n",
       "       'intake_condition_Aged', 'intake_condition_Feral',\n",
       "       'intake_condition_Injured', 'intake_condition_Normal',\n",
       "       'intake_condition_Nursing', 'intake_condition_Other',\n",
       "       'intake_condition_Pregnant', 'intake_condition_Sick',\n",
       "       'intake_season_winter', 'intake_type_Euthanasia Request',\n",
       "       'intake_type_Owner Surrender', 'intake_type_Public Assist',\n",
       "       'intake_type_Stray', 'outcome_type'], dtype=object)"
      ]
     },
     "execution_count": 38,
     "metadata": {},
     "output_type": "execute_result"
    }
   ],
   "source": [
    "df_model.columns.values"
   ]
  },
  {
   "cell_type": "code",
   "execution_count": 23,
   "metadata": {},
   "outputs": [],
   "source": [
    "df_model = df_model.drop(labels=['name'], axis=1)"
   ]
  },
  {
   "cell_type": "code",
   "execution_count": 24,
   "metadata": {},
   "outputs": [],
   "source": [
    "df_model = df_model.drop(labels=['simple_color_Black', 'simple_color_Blue',\n",
    "       'simple_color_Brown', 'simple_color_Gray', 'simple_color_Red',\n",
    "       'simple_color_Sable', 'simple_color_Tricolor',\n",
    "       'simple_color_White', 'simple_color_Yellow', 'group_Herding',\n",
    "       'group_Hound', 'group_Non-Sporting', 'group_Sporting',\n",
    "       'group_Terrier', 'group_Toy', 'group_Working', 'group_long hair',\n",
    "       'group_short hair'], axis=1)"
   ]
  },
  {
   "cell_type": "code",
   "execution_count": 25,
   "metadata": {},
   "outputs": [
    {
     "data": {
      "text/html": [
       "<div>\n",
       "<style scoped>\n",
       "    .dataframe tbody tr th:only-of-type {\n",
       "        vertical-align: middle;\n",
       "    }\n",
       "\n",
       "    .dataframe tbody tr th {\n",
       "        vertical-align: top;\n",
       "    }\n",
       "\n",
       "    .dataframe thead th {\n",
       "        text-align: right;\n",
       "    }\n",
       "</style>\n",
       "<table border=\"1\" class=\"dataframe\">\n",
       "  <thead>\n",
       "    <tr style=\"text-align: right;\">\n",
       "      <th></th>\n",
       "      <th>simple_group</th>\n",
       "      <th>shade</th>\n",
       "      <th>name_freq</th>\n",
       "      <th>hour</th>\n",
       "      <th>age</th>\n",
       "      <th>dow</th>\n",
       "      <th>gender</th>\n",
       "      <th>mix</th>\n",
       "      <th>animal_type_Cat</th>\n",
       "      <th>animal_type_Dog</th>\n",
       "      <th>...</th>\n",
       "      <th>intake_condition_Sick</th>\n",
       "      <th>intake_season_fall</th>\n",
       "      <th>intake_season_spring</th>\n",
       "      <th>intake_season_summer</th>\n",
       "      <th>intake_season_winter</th>\n",
       "      <th>intake_type_Euthanasia Request</th>\n",
       "      <th>intake_type_Owner Surrender</th>\n",
       "      <th>intake_type_Public Assist</th>\n",
       "      <th>intake_type_Stray</th>\n",
       "      <th>outcome_type</th>\n",
       "    </tr>\n",
       "  </thead>\n",
       "  <tbody>\n",
       "    <tr>\n",
       "      <th>0</th>\n",
       "      <td>Sporting</td>\n",
       "      <td>Light</td>\n",
       "      <td>52</td>\n",
       "      <td>12</td>\n",
       "      <td>2920</td>\n",
       "      <td>6</td>\n",
       "      <td>1</td>\n",
       "      <td>0</td>\n",
       "      <td>0</td>\n",
       "      <td>1</td>\n",
       "      <td>...</td>\n",
       "      <td>0</td>\n",
       "      <td>0</td>\n",
       "      <td>0</td>\n",
       "      <td>1</td>\n",
       "      <td>0</td>\n",
       "      <td>0</td>\n",
       "      <td>0</td>\n",
       "      <td>0</td>\n",
       "      <td>1</td>\n",
       "      <td>Return to Owner</td>\n",
       "    </tr>\n",
       "    <tr>\n",
       "      <th>1</th>\n",
       "      <td>Non-Sporting</td>\n",
       "      <td>Light</td>\n",
       "      <td>1</td>\n",
       "      <td>18</td>\n",
       "      <td>330</td>\n",
       "      <td>3</td>\n",
       "      <td>0</td>\n",
       "      <td>1</td>\n",
       "      <td>0</td>\n",
       "      <td>1</td>\n",
       "      <td>...</td>\n",
       "      <td>0</td>\n",
       "      <td>0</td>\n",
       "      <td>1</td>\n",
       "      <td>0</td>\n",
       "      <td>0</td>\n",
       "      <td>0</td>\n",
       "      <td>0</td>\n",
       "      <td>0</td>\n",
       "      <td>1</td>\n",
       "      <td>Return to Owner</td>\n",
       "    </tr>\n",
       "    <tr>\n",
       "      <th>2</th>\n",
       "      <td>Non-Sporting</td>\n",
       "      <td>Light</td>\n",
       "      <td>22</td>\n",
       "      <td>10</td>\n",
       "      <td>1460</td>\n",
       "      <td>6</td>\n",
       "      <td>0</td>\n",
       "      <td>1</td>\n",
       "      <td>0</td>\n",
       "      <td>1</td>\n",
       "      <td>...</td>\n",
       "      <td>0</td>\n",
       "      <td>0</td>\n",
       "      <td>1</td>\n",
       "      <td>0</td>\n",
       "      <td>0</td>\n",
       "      <td>0</td>\n",
       "      <td>0</td>\n",
       "      <td>0</td>\n",
       "      <td>1</td>\n",
       "      <td>Return to Owner</td>\n",
       "    </tr>\n",
       "    <tr>\n",
       "      <th>3</th>\n",
       "      <td>Sporting</td>\n",
       "      <td>Medium</td>\n",
       "      <td>32</td>\n",
       "      <td>12</td>\n",
       "      <td>730</td>\n",
       "      <td>5</td>\n",
       "      <td>0</td>\n",
       "      <td>1</td>\n",
       "      <td>0</td>\n",
       "      <td>1</td>\n",
       "      <td>...</td>\n",
       "      <td>0</td>\n",
       "      <td>0</td>\n",
       "      <td>0</td>\n",
       "      <td>0</td>\n",
       "      <td>1</td>\n",
       "      <td>0</td>\n",
       "      <td>1</td>\n",
       "      <td>0</td>\n",
       "      <td>0</td>\n",
       "      <td>Return to Owner</td>\n",
       "    </tr>\n",
       "    <tr>\n",
       "      <th>4</th>\n",
       "      <td>Sporting</td>\n",
       "      <td>Dark</td>\n",
       "      <td>1</td>\n",
       "      <td>14</td>\n",
       "      <td>730</td>\n",
       "      <td>3</td>\n",
       "      <td>0</td>\n",
       "      <td>1</td>\n",
       "      <td>0</td>\n",
       "      <td>1</td>\n",
       "      <td>...</td>\n",
       "      <td>0</td>\n",
       "      <td>0</td>\n",
       "      <td>0</td>\n",
       "      <td>1</td>\n",
       "      <td>0</td>\n",
       "      <td>0</td>\n",
       "      <td>0</td>\n",
       "      <td>1</td>\n",
       "      <td>0</td>\n",
       "      <td>Return to Owner</td>\n",
       "    </tr>\n",
       "  </tbody>\n",
       "</table>\n",
       "<p>5 rows × 29 columns</p>\n",
       "</div>"
      ],
      "text/plain": [
       "   simple_group   shade  name_freq  hour   age  dow  gender  mix  \\\n",
       "0      Sporting   Light         52    12  2920    6       1    0   \n",
       "1  Non-Sporting   Light          1    18   330    3       0    1   \n",
       "2  Non-Sporting   Light         22    10  1460    6       0    1   \n",
       "3      Sporting  Medium         32    12   730    5       0    1   \n",
       "4      Sporting    Dark          1    14   730    3       0    1   \n",
       "\n",
       "   animal_type_Cat  animal_type_Dog       ...         intake_condition_Sick  \\\n",
       "0                0                1       ...                             0   \n",
       "1                0                1       ...                             0   \n",
       "2                0                1       ...                             0   \n",
       "3                0                1       ...                             0   \n",
       "4                0                1       ...                             0   \n",
       "\n",
       "   intake_season_fall  intake_season_spring  intake_season_summer  \\\n",
       "0                   0                     0                     1   \n",
       "1                   0                     1                     0   \n",
       "2                   0                     1                     0   \n",
       "3                   0                     0                     0   \n",
       "4                   0                     0                     1   \n",
       "\n",
       "   intake_season_winter  intake_type_Euthanasia Request  \\\n",
       "0                     0                               0   \n",
       "1                     0                               0   \n",
       "2                     0                               0   \n",
       "3                     1                               0   \n",
       "4                     0                               0   \n",
       "\n",
       "   intake_type_Owner Surrender  intake_type_Public Assist  intake_type_Stray  \\\n",
       "0                            0                          0                  1   \n",
       "1                            0                          0                  1   \n",
       "2                            0                          0                  1   \n",
       "3                            1                          0                  0   \n",
       "4                            0                          1                  0   \n",
       "\n",
       "      outcome_type  \n",
       "0  Return to Owner  \n",
       "1  Return to Owner  \n",
       "2  Return to Owner  \n",
       "3  Return to Owner  \n",
       "4  Return to Owner  \n",
       "\n",
       "[5 rows x 29 columns]"
      ]
     },
     "execution_count": 25,
     "metadata": {},
     "output_type": "execute_result"
    }
   ],
   "source": [
    "df_model.head()"
   ]
  },
  {
   "cell_type": "code",
   "execution_count": 26,
   "metadata": {},
   "outputs": [],
   "source": [
    "df_model = pd.concat([pd.get_dummies(df[['simple_group', 'shade']]), df_model.drop(labels=['simple_group', 'shade'],\n",
    "                                                                       axis=1)], axis=1)"
   ]
  },
  {
   "cell_type": "code",
   "execution_count": 27,
   "metadata": {},
   "outputs": [],
   "source": [
    "df_model = df_model.dropna()"
   ]
  },
  {
   "cell_type": "code",
   "execution_count": 28,
   "metadata": {},
   "outputs": [
    {
     "data": {
      "text/plain": [
       "(70917, 34)"
      ]
     },
     "execution_count": 28,
     "metadata": {},
     "output_type": "execute_result"
    }
   ],
   "source": [
    "df_model.shape"
   ]
  },
  {
   "cell_type": "code",
   "execution_count": 39,
   "metadata": {},
   "outputs": [],
   "source": [
    "X = df_model.iloc[:, :-1]"
   ]
  },
  {
   "cell_type": "code",
   "execution_count": 40,
   "metadata": {},
   "outputs": [],
   "source": [
    "y = df_model.iloc[:, -1]"
   ]
  },
  {
   "cell_type": "code",
   "execution_count": 41,
   "metadata": {},
   "outputs": [
    {
     "data": {
      "text/plain": [
       "LabelEncoder()"
      ]
     },
     "execution_count": 41,
     "metadata": {},
     "output_type": "execute_result"
    }
   ],
   "source": [
    "le = LabelEncoder()\n",
    "le.fit(y)"
   ]
  },
  {
   "cell_type": "code",
   "execution_count": 42,
   "metadata": {},
   "outputs": [
    {
     "data": {
      "text/plain": [
       "array(['Adoption', 'Died', 'Euthanasia', 'Return to Owner', 'Transfer'],\n",
       "      dtype=object)"
      ]
     },
     "execution_count": 42,
     "metadata": {},
     "output_type": "execute_result"
    }
   ],
   "source": [
    "le.classes_"
   ]
  },
  {
   "cell_type": "code",
   "execution_count": 43,
   "metadata": {},
   "outputs": [],
   "source": [
    "y = le.transform(y)"
   ]
  },
  {
   "cell_type": "code",
   "execution_count": 44,
   "metadata": {},
   "outputs": [],
   "source": [
    "X_train, X_test, y_train, y_test = train_test_split(X, y, stratify = y, random_state = 2325)"
   ]
  },
  {
   "cell_type": "code",
   "execution_count": 35,
   "metadata": {},
   "outputs": [
    {
     "data": {
      "text/plain": [
       "RandomForestClassifier(bootstrap=True, class_weight=None, criterion='gini',\n",
       "            max_depth=100, max_features='sqrt', max_leaf_nodes=50,\n",
       "            min_impurity_decrease=0.0, min_impurity_split=None,\n",
       "            min_samples_leaf=1, min_samples_split=2,\n",
       "            min_weight_fraction_leaf=0.0, n_estimators=800, n_jobs=None,\n",
       "            oob_score=False, random_state=None, verbose=0,\n",
       "            warm_start=False)"
      ]
     },
     "execution_count": 35,
     "metadata": {},
     "output_type": "execute_result"
    }
   ],
   "source": [
    "rf_cv = RandomForestClassifier(n_estimators = 800, max_features='sqrt', max_leaf_nodes=50,\n",
    "                               max_depth = 100)\n",
    "\n",
    "rf_cv.fit(X_train, y_train)"
   ]
  },
  {
   "cell_type": "code",
   "execution_count": 36,
   "metadata": {},
   "outputs": [
    {
     "data": {
      "image/png": "[encoded data removed]",
      "text/plain": [
       "<Figure size 1008x720 with 1 Axes>"
      ]
     },
     "metadata": {},
     "output_type": "display_data"
    }
   ],
   "source": [
    "plt.figure(figsize=(14, 10))\n",
    "plt.bar(X_train.columns.values, rf_cv.feature_importances_)\n",
    "plt.xticks(rotation=70, size=11);"
   ]
  },
  {
   "cell_type": "code",
   "execution_count": null,
   "metadata": {},
   "outputs": [],
   "source": [
    "rfc = RandomForestClassifier()\n",
    "\n",
    "tuning_params_rf = {'n_estimators': [300, 800], 'max_features': ['sqrt'], 'max_leaf_nodes': [150, 200],\n",
    "                    'max_depth': [50, 200]}\n",
    "\n",
    "bs = BayesSearchCV(rfc, tuning_params_rf, n_jobs=-1, n_iter = 20, scoring='f1_micro', cv=3)\n",
    "\n",
    "bs.fit(X_train, y_train)"
   ]
  },
  {
   "cell_type": "code",
   "execution_count": null,
   "metadata": {},
   "outputs": [],
   "source": [
    "bs.best_score_"
   ]
  },
  {
   "cell_type": "code",
   "execution_count": null,
   "metadata": {},
   "outputs": [],
   "source": [
    "bs.best_params_"
   ]
  },
  {
   "cell_type": "markdown",
   "metadata": {},
   "source": [
    "## XGBoost hyperparameter tuning"
   ]
  },
  {
   "cell_type": "code",
   "execution_count": 48,
   "metadata": {},
   "outputs": [
    {
     "name": "stdout",
     "output_type": "stream",
     "text": [
      "Fitting 3 folds for each of 1 candidates, totalling 3 fits\n"
     ]
    },
    {
     "name": "stderr",
     "output_type": "stream",
     "text": [
      "[Parallel(n_jobs=-1)]: Using backend LokyBackend with 8 concurrent workers.\n",
      "[Parallel(n_jobs=-1)]: Done   3 out of   3 | elapsed:  1.8min finished\n",
      "[Parallel(n_jobs=-1)]: Using backend LokyBackend with 8 concurrent workers.\n"
     ]
    },
    {
     "name": "stdout",
     "output_type": "stream",
     "text": [
      "Fitting 3 folds for each of 1 candidates, totalling 3 fits\n"
     ]
    },
    {
     "name": "stderr",
     "output_type": "stream",
     "text": [
      "[Parallel(n_jobs=-1)]: Done   3 out of   3 | elapsed:  2.0min finished\n",
      "[Parallel(n_jobs=-1)]: Using backend LokyBackend with 8 concurrent workers.\n"
     ]
    },
    {
     "name": "stdout",
     "output_type": "stream",
     "text": [
      "Fitting 3 folds for each of 1 candidates, totalling 3 fits\n",
      "Fitting 3 folds for each of 1 candidates, totalling 3 fits\n"
     ]
    },
    {
     "name": "stderr",
     "output_type": "stream",
     "text": [
      "[Parallel(n_jobs=-1)]: Done   3 out of   3 | elapsed:  1.1min finished\n",
      "[Parallel(n_jobs=-1)]: Using backend LokyBackend with 8 concurrent workers.\n",
      "[Parallel(n_jobs=-1)]: Done   3 out of   3 | elapsed:  1.7min finished\n",
      "[Parallel(n_jobs=-1)]: Using backend LokyBackend with 8 concurrent workers.\n"
     ]
    },
    {
     "name": "stdout",
     "output_type": "stream",
     "text": [
      "Fitting 3 folds for each of 1 candidates, totalling 3 fits\n"
     ]
    },
    {
     "name": "stderr",
     "output_type": "stream",
     "text": [
      "[Parallel(n_jobs=-1)]: Done   3 out of   3 | elapsed:  1.7min finished\n",
      "[Parallel(n_jobs=-1)]: Using backend LokyBackend with 8 concurrent workers.\n"
     ]
    },
    {
     "name": "stdout",
     "output_type": "stream",
     "text": [
      "Fitting 3 folds for each of 1 candidates, totalling 3 fits\n"
     ]
    },
    {
     "name": "stderr",
     "output_type": "stream",
     "text": [
      "[Parallel(n_jobs=-1)]: Done   3 out of   3 | elapsed:  1.6min finished\n",
      "[Parallel(n_jobs=-1)]: Using backend LokyBackend with 8 concurrent workers.\n"
     ]
    },
    {
     "name": "stdout",
     "output_type": "stream",
     "text": [
      "Fitting 3 folds for each of 1 candidates, totalling 3 fits\n",
      "Fitting 3 folds for each of 1 candidates, totalling 3 fits\n"
     ]
    },
    {
     "name": "stderr",
     "output_type": "stream",
     "text": [
      "[Parallel(n_jobs=-1)]: Done   3 out of   3 | elapsed:  1.7min finished\n",
      "[Parallel(n_jobs=-1)]: Using backend LokyBackend with 8 concurrent workers.\n",
      "[Parallel(n_jobs=-1)]: Done   3 out of   3 | elapsed:   51.4s finished\n",
      "[Parallel(n_jobs=-1)]: Using backend LokyBackend with 8 concurrent workers.\n"
     ]
    },
    {
     "name": "stdout",
     "output_type": "stream",
     "text": [
      "Fitting 3 folds for each of 1 candidates, totalling 3 fits\n",
      "Fitting 3 folds for each of 1 candidates, totalling 3 fits\n"
     ]
    },
    {
     "name": "stderr",
     "output_type": "stream",
     "text": [
      "[Parallel(n_jobs=-1)]: Done   3 out of   3 | elapsed:  1.9min finished\n",
      "[Parallel(n_jobs=-1)]: Using backend LokyBackend with 8 concurrent workers.\n",
      "[Parallel(n_jobs=-1)]: Done   3 out of   3 | elapsed:  1.9min finished\n"
     ]
    },
    {
     "data": {
      "text/plain": [
       "BayesSearchCV(cv=3, error_score='raise',\n",
       "       estimator=XGBClassifier(base_score=0.5, booster='gbtree', colsample_bylevel=1,\n",
       "       colsample_bytree=1, gamma=0, learning_rate=0.1, max_delta_step=0,\n",
       "       max_depth=3, min_child_weight=1, missing=None, n_estimators=100,\n",
       "       n_jobs=-1, nthread=None, objective='binary:logistic',\n",
       "       random_state=0, reg_alpha=0, reg_lambda=1, scale_pos_weight=1,\n",
       "       seed=None, silent=True, subsample=1),\n",
       "       fit_params=None, iid=True, n_iter=10, n_jobs=-1, n_points=1,\n",
       "       optimizer_kwargs=None, pre_dispatch='2*n_jobs', random_state=None,\n",
       "       refit=True, return_train_score=False, scoring='f1_micro',\n",
       "       search_spaces={'max_depth': [5, 90], 'learning_rate': [0, 1], 'objective': ['multi:softprob'], 'min_child_weight': [1, 3, 5]},\n",
       "       verbose=True)"
      ]
     },
     "execution_count": 48,
     "metadata": {},
     "output_type": "execute_result"
    }
   ],
   "source": [
    "xg = XGBClassifier(n_jobs = -1)\n",
    "\n",
    "tuning_params = {'max_depth': [5, 90], 'learning_rate': [0, 1], 'objective': ['multi:softprob'],\n",
    "                 'min_child_weight': [1, 3, 5]}\n",
    "\n",
    "bs = BayesSearchCV(xg, tuning_params, cv=3, verbose=True, scoring = 'f1_micro', n_jobs=-1, n_iter = 10)\n",
    "\n",
    "bs.fit(X_train, y_train)"
   ]
  },
  {
   "cell_type": "code",
   "execution_count": 49,
   "metadata": {},
   "outputs": [
    {
     "data": {
      "text/plain": [
       "{'learning_rate': 1,\n",
       " 'max_depth': 10,\n",
       " 'min_child_weight': 3,\n",
       " 'objective': 'multi:softprob'}"
      ]
     },
     "execution_count": 49,
     "metadata": {},
     "output_type": "execute_result"
    }
   ],
   "source": [
    "bs.best_params_"
   ]
  },
  {
   "cell_type": "code",
   "execution_count": 50,
   "metadata": {},
   "outputs": [
    {
     "data": {
      "text/plain": [
       "0.6031361046872356"
      ]
     },
     "execution_count": 50,
     "metadata": {},
     "output_type": "execute_result"
    }
   ],
   "source": [
    "bs.best_score_"
   ]
  },
  {
   "cell_type": "code",
   "execution_count": null,
   "metadata": {},
   "outputs": [],
   "source": []
  },
  {
   "cell_type": "code",
   "execution_count": 56,
   "metadata": {},
   "outputs": [],
   "source": [
    "pipe = make_pipeline(StandardScaler(), XGBClassifier(learning_rate=1, max_depth=10, min_child_weight=3,\n",
    "                                                    objective='multi:softprob'))"
   ]
  },
  {
   "cell_type": "code",
   "execution_count": null,
   "metadata": {},
   "outputs": [],
   "source": [
    "scores = cross_val_score(pipe, cv=3, n_jobs = -1, scoring='f1_micro', X=X_train, y=y_train)"
   ]
  },
  {
   "cell_type": "code",
   "execution_count": null,
   "metadata": {},
   "outputs": [],
   "source": [
    "scores"
   ]
  }
 ],
 "metadata": {
  "kernelspec": {
   "display_name": "Python 3",
   "language": "python",
   "name": "python3"
  },
  "language_info": {
   "codemirror_mode": {
    "name": "ipython",
    "version": 3
   },
   "file_extension": ".py",
   "mimetype": "text/x-python",
   "name": "python",
   "nbconvert_exporter": "python",
   "pygments_lexer": "ipython3",
   "version": "3.6.5"
  }
 },
 "nbformat": 4,
 "nbformat_minor": 2
}
