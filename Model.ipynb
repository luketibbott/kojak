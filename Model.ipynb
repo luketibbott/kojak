{
 "cells": [
  {
   "cell_type": "code",
   "execution_count": 49,
   "metadata": {},
   "outputs": [],
   "source": [
    "import pandas as pd\n",
    "import numpy as np\n",
    "import matplotlib.pyplot as plt\n",
    "\n",
    "from sklearn.ensemble import RandomForestClassifier\n",
    "from sklearn.model_selection import cross_val_score\n",
    "from sklearn.model_selection import train_test_split\n",
    "\n",
    "from xgboost import XGBClassifier\n",
    "\n",
    "%matplotlib inline"
   ]
  },
  {
   "cell_type": "code",
   "execution_count": 87,
   "metadata": {},
   "outputs": [],
   "source": [
    "df = pd.read_csv('./data/df_mod.csv', index_col = 0)"
   ]
  },
  {
   "cell_type": "code",
   "execution_count": 88,
   "metadata": {},
   "outputs": [
    {
     "data": {
      "text/plain": [
       "array(['Cat', 'Dog', 'age', 'fixed', 'intact', 'male', 'female',\n",
       "       'Herding', 'Hound', 'Non-Sporting', 'Sporting', 'Terrier', 'Toy',\n",
       "       'Working', 'long hair', 'short hair', 'Aged', 'Feral', 'Injured',\n",
       "       'Normal', 'Nursing', 'Other', 'Pregnant', 'Sick', 'mix', 'name',\n",
       "       'intake_condition_Aged', 'intake_condition_Feral',\n",
       "       'intake_condition_Injured', 'intake_condition_Normal',\n",
       "       'intake_condition_Nursing', 'intake_condition_Other',\n",
       "       'intake_condition_Pregnant', 'intake_condition_Sick',\n",
       "       'intake_season_fall', 'intake_season_spring',\n",
       "       'intake_season_summer', 'intake_season_winter',\n",
       "       'intake_type_Euthanasia Request', 'intake_type_Owner Surrender',\n",
       "       'intake_type_Public Assist', 'intake_type_Stray',\n",
       "       'simple_color_Black', 'simple_color_Blue', 'simple_color_Brown',\n",
       "       'simple_color_Gray', 'simple_color_Red', 'simple_color_Sable',\n",
       "       'simple_color_Tricolor', 'simple_color_White',\n",
       "       'simple_color_Yellow', '0', '1', '2', '3', '4', '5', '6',\n",
       "       'outcome_type'], dtype=object)"
      ]
     },
     "execution_count": 88,
     "metadata": {},
     "output_type": "execute_result"
    }
   ],
   "source": [
    "df.columns.values"
   ]
  },
  {
   "cell_type": "code",
   "execution_count": 89,
   "metadata": {},
   "outputs": [
    {
     "data": {
      "text/plain": [
       "array(['Dog', 'age', 'intact', 'female', 'Herding', 'Hound',\n",
       "       'Non-Sporting', 'Sporting', 'Terrier', 'Toy', 'Working',\n",
       "       'long hair', 'short hair', 'Aged', 'Feral', 'Injured', 'Normal',\n",
       "       'Nursing', 'Other', 'Pregnant', 'Sick', 'mix', 'name',\n",
       "       'intake_condition_Aged', 'intake_condition_Feral',\n",
       "       'intake_condition_Injured', 'intake_condition_Normal',\n",
       "       'intake_condition_Nursing', 'intake_condition_Other',\n",
       "       'intake_condition_Pregnant', 'intake_condition_Sick',\n",
       "       'intake_season_fall', 'intake_season_spring',\n",
       "       'intake_season_summer', 'intake_season_winter',\n",
       "       'intake_type_Euthanasia Request', 'intake_type_Owner Surrender',\n",
       "       'intake_type_Public Assist', 'intake_type_Stray',\n",
       "       'simple_color_Black', 'simple_color_Blue', 'simple_color_Brown',\n",
       "       'simple_color_Gray', 'simple_color_Red', 'simple_color_Sable',\n",
       "       'simple_color_Tricolor', 'simple_color_White',\n",
       "       'simple_color_Yellow', '0', '1', '2', '3', '4', '5', '6',\n",
       "       'outcome_type'], dtype=object)"
      ]
     },
     "execution_count": 89,
     "metadata": {},
     "output_type": "execute_result"
    }
   ],
   "source": [
    "df_test.columns.values"
   ]
  },
  {
   "cell_type": "code",
   "execution_count": 91,
   "metadata": {},
   "outputs": [],
   "source": [
    "df = df[df['outcome_type'] != 'Rto-Adopt']\n",
    "df = df[df['outcome_type'] != 'Missing']\n",
    "df = df[df['outcome_type'] != 'Disposal']"
   ]
  },
  {
   "cell_type": "code",
   "execution_count": 92,
   "metadata": {},
   "outputs": [
    {
     "data": {
      "text/plain": [
       "Adoption           29439\n",
       "Transfer           22113\n",
       "Return to Owner    12108\n",
       "Euthanasia          2805\n",
       "Died                 535\n",
       "Name: outcome_type, dtype: int64"
      ]
     },
     "execution_count": 92,
     "metadata": {},
     "output_type": "execute_result"
    }
   ],
   "source": [
    "df['outcome_type'].value_counts()"
   ]
  },
  {
   "cell_type": "code",
   "execution_count": 93,
   "metadata": {},
   "outputs": [],
   "source": [
    "df_test = df.drop(labels=['Cat', 'fixed', 'male'], axis=1)"
   ]
  },
  {
   "cell_type": "code",
   "execution_count": 94,
   "metadata": {},
   "outputs": [],
   "source": [
    "X = df_test.iloc[:, :-1]"
   ]
  },
  {
   "cell_type": "code",
   "execution_count": 95,
   "metadata": {},
   "outputs": [],
   "source": [
    "y = df_test.iloc[:, -1]"
   ]
  },
  {
   "cell_type": "code",
   "execution_count": 96,
   "metadata": {},
   "outputs": [],
   "source": [
    "X_train, X_test, y_train, y_test = train_test_split(X, y, stratify = y)"
   ]
  },
  {
   "cell_type": "code",
   "execution_count": 97,
   "metadata": {},
   "outputs": [],
   "source": [
    "rfc = RandomForestClassifier(n_estimators = 250, n_jobs = -1)\n",
    "\n",
    "scores = cross_val_score(rfc, X_train, y_train, scoring='f1_micro', cv = 3)"
   ]
  },
  {
   "cell_type": "code",
   "execution_count": 98,
   "metadata": {},
   "outputs": [
    {
     "data": {
      "text/plain": [
       "array([0.61819484, 0.60776119, 0.6142823 ])"
      ]
     },
     "execution_count": 98,
     "metadata": {},
     "output_type": "execute_result"
    }
   ],
   "source": [
    "scores"
   ]
  },
  {
   "cell_type": "code",
   "execution_count": null,
   "metadata": {},
   "outputs": [],
   "source": [
    "xg = XGBClassifier()\n",
    "\n",
    "scores = cross_val_score(xg, X_train, y_train, scoring='f1_micro', cv=3)"
   ]
  },
  {
   "cell_type": "code",
   "execution_count": null,
   "metadata": {},
   "outputs": [],
   "source": [
    "scores"
   ]
  }
 ],
 "metadata": {
  "kernelspec": {
   "display_name": "Python 3",
   "language": "python",
   "name": "python3"
  },
  "language_info": {
   "codemirror_mode": {
    "name": "ipython",
    "version": 3
   },
   "file_extension": ".py",
   "mimetype": "text/x-python",
   "name": "python",
   "nbconvert_exporter": "python",
   "pygments_lexer": "ipython3",
   "version": "3.6.5"
  }
 },
 "nbformat": 4,
 "nbformat_minor": 2
}
