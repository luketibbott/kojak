{
 "cells": [
  {
   "cell_type": "code",
   "execution_count": 46,
   "metadata": {},
   "outputs": [
    {
     "name": "stdout",
     "output_type": "stream",
     "text": [
      "The autoreload extension is already loaded. To reload it, use:\n",
      "  %reload_ext autoreload\n"
     ]
    }
   ],
   "source": [
    "import pandas as pd\n",
    "import numpy as np\n",
    "import animalhelper as ah\n",
    "\n",
    "%load_ext autoreload\n",
    "%autoreload 2"
   ]
  },
  {
   "cell_type": "code",
   "execution_count": 78,
   "metadata": {},
   "outputs": [],
   "source": [
    "df = pd.read_csv('./data/engineered.csv', index_col = 0, dtype={'intake_condition': str})"
   ]
  },
  {
   "cell_type": "code",
   "execution_count": 59,
   "metadata": {},
   "outputs": [
    {
     "name": "stdout",
     "output_type": "stream",
     "text": [
      "<class 'pandas.core.frame.DataFrame'>\n",
      "Int64Index: 67211 entries, 0 to 28302\n",
      "Data columns (total 16 columns):\n",
      "age                 67211 non-null int64\n",
      "animal_id           67211 non-null object\n",
      "animal_type         67211 non-null object\n",
      "datetime_in         67211 non-null object\n",
      "days_in_shelter     67211 non-null int64\n",
      "dow                 67211 non-null int64\n",
      "fixed_status        67211 non-null object\n",
      "gender              67211 non-null int64\n",
      "group               67211 non-null object\n",
      "intake_condition    67211 non-null object\n",
      "intake_season       67211 non-null object\n",
      "intake_type         67211 non-null object\n",
      "mix                 67211 non-null int64\n",
      "name                67211 non-null int64\n",
      "outcome_type        67211 non-null object\n",
      "simple_color        67211 non-null object\n",
      "dtypes: int64(6), object(10)\n",
      "memory usage: 8.7+ MB\n"
     ]
    }
   ],
   "source": [
    "df.info()"
   ]
  },
  {
   "cell_type": "code",
   "execution_count": 79,
   "metadata": {},
   "outputs": [],
   "source": [
    "df_mod = pd.DataFrame()"
   ]
  },
  {
   "cell_type": "code",
   "execution_count": 80,
   "metadata": {},
   "outputs": [],
   "source": [
    "df_mod[['Cat', 'Dog']] = pd.get_dummies(df['animal_type'])"
   ]
  },
  {
   "cell_type": "code",
   "execution_count": 81,
   "metadata": {},
   "outputs": [],
   "source": [
    "df_mod['age'] = df['age']"
   ]
  },
  {
   "cell_type": "code",
   "execution_count": 82,
   "metadata": {},
   "outputs": [
    {
     "data": {
      "text/plain": [
       "intact     45760\n",
       "fixed      18644\n",
       "unknown     2807\n",
       "Name: fixed_status, dtype: int64"
      ]
     },
     "execution_count": 82,
     "metadata": {},
     "output_type": "execute_result"
    }
   ],
   "source": [
    "df['fixed_status'].value_counts()"
   ]
  },
  {
   "cell_type": "markdown",
   "metadata": {},
   "source": [
    "## Impute unknown fixed status values"
   ]
  },
  {
   "cell_type": "code",
   "execution_count": 83,
   "metadata": {},
   "outputs": [],
   "source": [
    "df['fixed_status'] = df['fixed_status'].apply(lambda x: ah.impute_fixed_status(x))"
   ]
  },
  {
   "cell_type": "code",
   "execution_count": 84,
   "metadata": {},
   "outputs": [],
   "source": [
    "df_mod[['fixed', 'intact']] = pd.get_dummies(df['fixed_status'])"
   ]
  },
  {
   "cell_type": "code",
   "execution_count": 85,
   "metadata": {},
   "outputs": [
    {
     "name": "stdout",
     "output_type": "stream",
     "text": [
      "<class 'pandas.core.frame.DataFrame'>\n",
      "Int64Index: 67211 entries, 0 to 28302\n",
      "Data columns (total 16 columns):\n",
      "age                 67211 non-null int64\n",
      "animal_id           67211 non-null object\n",
      "animal_type         67211 non-null object\n",
      "datetime_in         67211 non-null object\n",
      "days_in_shelter     67211 non-null int64\n",
      "dow                 67211 non-null int64\n",
      "fixed_status        67211 non-null object\n",
      "gender              67211 non-null int64\n",
      "group               67211 non-null object\n",
      "intake_condition    67211 non-null object\n",
      "intake_season       67211 non-null object\n",
      "intake_type         67211 non-null object\n",
      "mix                 67211 non-null int64\n",
      "name                67211 non-null int64\n",
      "outcome_type        67211 non-null object\n",
      "simple_color        67211 non-null object\n",
      "dtypes: int64(6), object(10)\n",
      "memory usage: 8.7+ MB\n"
     ]
    }
   ],
   "source": [
    "df.info()"
   ]
  },
  {
   "cell_type": "code",
   "execution_count": 86,
   "metadata": {},
   "outputs": [],
   "source": [
    "df_mod[['male', 'female']] = pd.get_dummies(df['gender'])"
   ]
  },
  {
   "cell_type": "markdown",
   "metadata": {},
   "source": [
    "# Clean up groups quickly"
   ]
  },
  {
   "cell_type": "code",
   "execution_count": 87,
   "metadata": {},
   "outputs": [
    {
     "data": {
      "text/plain": [
       "short hair       27058\n",
       "Terrier           9524\n",
       "Toy               7376\n",
       "Sporting          6530\n",
       "Herding           5897\n",
       "Working           4604\n",
       "Hound             2995\n",
       "Non-Sporting      1870\n",
       "long hair         1245\n",
       "Terrier & Toy      111\n",
       "Unknown              1\n",
       "Name: group, dtype: int64"
      ]
     },
     "execution_count": 87,
     "metadata": {},
     "output_type": "execute_result"
    }
   ],
   "source": [
    "df['group'].value_counts()"
   ]
  },
  {
   "cell_type": "code",
   "execution_count": 88,
   "metadata": {},
   "outputs": [
    {
     "name": "stdout",
     "output_type": "stream",
     "text": [
      "<class 'pandas.core.frame.DataFrame'>\n",
      "Int64Index: 67211 entries, 0 to 28302\n",
      "Data columns (total 16 columns):\n",
      "age                 67211 non-null int64\n",
      "animal_id           67211 non-null object\n",
      "animal_type         67211 non-null object\n",
      "datetime_in         67211 non-null object\n",
      "days_in_shelter     67211 non-null int64\n",
      "dow                 67211 non-null int64\n",
      "fixed_status        67211 non-null object\n",
      "gender              67211 non-null int64\n",
      "group               67211 non-null object\n",
      "intake_condition    67211 non-null object\n",
      "intake_season       67211 non-null object\n",
      "intake_type         67211 non-null object\n",
      "mix                 67211 non-null int64\n",
      "name                67211 non-null int64\n",
      "outcome_type        67211 non-null object\n",
      "simple_color        67211 non-null object\n",
      "dtypes: int64(6), object(10)\n",
      "memory usage: 8.7+ MB\n"
     ]
    }
   ],
   "source": [
    "df.info()"
   ]
  },
  {
   "cell_type": "code",
   "execution_count": 89,
   "metadata": {},
   "outputs": [],
   "source": [
    "def clean_groups(s):\n",
    "    if s == 'Terrier & Toy':\n",
    "        return 'Terrier'\n",
    "    return s"
   ]
  },
  {
   "cell_type": "code",
   "execution_count": 90,
   "metadata": {},
   "outputs": [],
   "source": [
    "df['group'] = df['group'].apply(lambda x: clean_groups(x))"
   ]
  },
  {
   "cell_type": "code",
   "execution_count": 91,
   "metadata": {},
   "outputs": [],
   "source": [
    "df = df[~(df['group'] == 'Unknown')]"
   ]
  },
  {
   "cell_type": "code",
   "execution_count": 92,
   "metadata": {},
   "outputs": [
    {
     "data": {
      "text/plain": [
       "short hair      27058\n",
       "Terrier          9635\n",
       "Toy              7376\n",
       "Sporting         6530\n",
       "Herding          5897\n",
       "Working          4604\n",
       "Hound            2995\n",
       "Non-Sporting     1870\n",
       "long hair        1245\n",
       "Name: group, dtype: int64"
      ]
     },
     "execution_count": 92,
     "metadata": {},
     "output_type": "execute_result"
    }
   ],
   "source": [
    "df['group'].value_counts()"
   ]
  }
 ],
 "metadata": {
  "kernelspec": {
   "display_name": "Python 3",
   "language": "python",
   "name": "python3"
  },
  "language_info": {
   "codemirror_mode": {
    "name": "ipython",
    "version": 3
   },
   "file_extension": ".py",
   "mimetype": "text/x-python",
   "name": "python",
   "nbconvert_exporter": "python",
   "pygments_lexer": "ipython3",
   "version": "3.6.5"
  }
 },
 "nbformat": 4,
 "nbformat_minor": 2
}
