{
 "cells": [
  {
   "cell_type": "code",
   "execution_count": 46,
   "metadata": {},
   "outputs": [
    {
     "name": "stdout",
     "output_type": "stream",
     "text": [
      "The autoreload extension is already loaded. To reload it, use:\n",
      "  %reload_ext autoreload\n"
     ]
    }
   ],
   "source": [
    "import pandas as pd\n",
    "import numpy as np\n",
    "import animalhelper as ah\n",
    "\n",
    "%load_ext autoreload\n",
    "%autoreload 2"
   ]
  },
  {
   "cell_type": "code",
   "execution_count": 78,
   "metadata": {},
   "outputs": [],
   "source": [
    "df = pd.read_csv('./data/engineered.csv', index_col = 0, dtype={'intake_condition': str})"
   ]
  },
  {
   "cell_type": "code",
   "execution_count": 59,
   "metadata": {},
   "outputs": [
    {
     "name": "stdout",
     "output_type": "stream",
     "text": [
      "<class 'pandas.core.frame.DataFrame'>\n",
      "Int64Index: 67211 entries, 0 to 28302\n",
      "Data columns (total 16 columns):\n",
      "age                 67211 non-null int64\n",
      "animal_id           67211 non-null object\n",
      "animal_type         67211 non-null object\n",
      "datetime_in         67211 non-null object\n",
      "days_in_shelter     67211 non-null int64\n",
      "dow                 67211 non-null int64\n",
      "fixed_status        67211 non-null object\n",
      "gender              67211 non-null int64\n",
      "group               67211 non-null object\n",
      "intake_condition    67211 non-null object\n",
      "intake_season       67211 non-null object\n",
      "intake_type         67211 non-null object\n",
      "mix                 67211 non-null int64\n",
      "name                67211 non-null int64\n",
      "outcome_type        67211 non-null object\n",
      "simple_color        67211 non-null object\n",
      "dtypes: int64(6), object(10)\n",
      "memory usage: 8.7+ MB\n"
     ]
    }
   ],
   "source": [
    "df.info()"
   ]
  },
  {
   "cell_type": "code",
   "execution_count": 149,
   "metadata": {},
   "outputs": [],
   "source": [
    "df_mod = pd.DataFrame()"
   ]
  },
  {
   "cell_type": "code",
   "execution_count": 150,
   "metadata": {},
   "outputs": [],
   "source": [
    "df_mod[['Cat', 'Dog']] = pd.get_dummies(df['animal_type'])"
   ]
  },
  {
   "cell_type": "code",
   "execution_count": 151,
   "metadata": {},
   "outputs": [],
   "source": [
    "df_mod['age'] = df['age']"
   ]
  },
  {
   "cell_type": "code",
   "execution_count": 152,
   "metadata": {},
   "outputs": [
    {
     "data": {
      "text/plain": [
       "intact    45759\n",
       "fixed     21451\n",
       "Name: fixed_status, dtype: int64"
      ]
     },
     "execution_count": 152,
     "metadata": {},
     "output_type": "execute_result"
    }
   ],
   "source": [
    "df['fixed_status'].value_counts()"
   ]
  },
  {
   "cell_type": "markdown",
   "metadata": {},
   "source": [
    "## Impute unknown fixed status values"
   ]
  },
  {
   "cell_type": "code",
   "execution_count": 153,
   "metadata": {},
   "outputs": [],
   "source": [
    "df['fixed_status'] = df['fixed_status'].apply(lambda x: ah.impute_fixed_status(x))"
   ]
  },
  {
   "cell_type": "code",
   "execution_count": 154,
   "metadata": {},
   "outputs": [],
   "source": [
    "df_mod[['fixed', 'intact']] = pd.get_dummies(df['fixed_status'])"
   ]
  },
  {
   "cell_type": "code",
   "execution_count": 155,
   "metadata": {},
   "outputs": [
    {
     "name": "stdout",
     "output_type": "stream",
     "text": [
      "<class 'pandas.core.frame.DataFrame'>\n",
      "RangeIndex: 67210 entries, 0 to 67209\n",
      "Data columns (total 16 columns):\n",
      "age                 67210 non-null int64\n",
      "animal_id           67210 non-null object\n",
      "animal_type         67210 non-null object\n",
      "datetime_in         67210 non-null object\n",
      "days_in_shelter     67210 non-null int64\n",
      "dow                 67210 non-null int64\n",
      "fixed_status        67210 non-null object\n",
      "gender              67210 non-null int64\n",
      "group               67210 non-null object\n",
      "intake_condition    67210 non-null object\n",
      "intake_season       67210 non-null object\n",
      "intake_type         67210 non-null object\n",
      "mix                 67210 non-null int64\n",
      "name                67210 non-null int64\n",
      "outcome_type        67210 non-null object\n",
      "simple_color        67210 non-null object\n",
      "dtypes: int64(6), object(10)\n",
      "memory usage: 8.2+ MB\n"
     ]
    }
   ],
   "source": [
    "df.info()"
   ]
  },
  {
   "cell_type": "code",
   "execution_count": 156,
   "metadata": {},
   "outputs": [],
   "source": [
    "df_mod[['male', 'female']] = pd.get_dummies(df['gender'])"
   ]
  },
  {
   "cell_type": "markdown",
   "metadata": {},
   "source": [
    "# Clean up groups and add to `df_mod`"
   ]
  },
  {
   "cell_type": "code",
   "execution_count": 157,
   "metadata": {},
   "outputs": [
    {
     "data": {
      "text/plain": [
       "short hair      27058\n",
       "Terrier          9635\n",
       "Toy              7376\n",
       "Sporting         6530\n",
       "Herding          5897\n",
       "Working          4604\n",
       "Hound            2995\n",
       "Non-Sporting     1870\n",
       "long hair        1245\n",
       "Name: group, dtype: int64"
      ]
     },
     "execution_count": 157,
     "metadata": {},
     "output_type": "execute_result"
    }
   ],
   "source": [
    "df['group'].value_counts()"
   ]
  },
  {
   "cell_type": "code",
   "execution_count": 158,
   "metadata": {},
   "outputs": [
    {
     "name": "stdout",
     "output_type": "stream",
     "text": [
      "<class 'pandas.core.frame.DataFrame'>\n",
      "RangeIndex: 67210 entries, 0 to 67209\n",
      "Data columns (total 16 columns):\n",
      "age                 67210 non-null int64\n",
      "animal_id           67210 non-null object\n",
      "animal_type         67210 non-null object\n",
      "datetime_in         67210 non-null object\n",
      "days_in_shelter     67210 non-null int64\n",
      "dow                 67210 non-null int64\n",
      "fixed_status        67210 non-null object\n",
      "gender              67210 non-null int64\n",
      "group               67210 non-null object\n",
      "intake_condition    67210 non-null object\n",
      "intake_season       67210 non-null object\n",
      "intake_type         67210 non-null object\n",
      "mix                 67210 non-null int64\n",
      "name                67210 non-null int64\n",
      "outcome_type        67210 non-null object\n",
      "simple_color        67210 non-null object\n",
      "dtypes: int64(6), object(10)\n",
      "memory usage: 8.2+ MB\n"
     ]
    }
   ],
   "source": [
    "df.info()"
   ]
  },
  {
   "cell_type": "code",
   "execution_count": 159,
   "metadata": {},
   "outputs": [],
   "source": [
    "def clean_groups(s):\n",
    "    if s == 'Terrier & Toy':\n",
    "        return 'Terrier'\n",
    "    return s"
   ]
  },
  {
   "cell_type": "code",
   "execution_count": 160,
   "metadata": {},
   "outputs": [],
   "source": [
    "df['group'] = df['group'].apply(lambda x: clean_groups(x))"
   ]
  },
  {
   "cell_type": "code",
   "execution_count": 161,
   "metadata": {},
   "outputs": [],
   "source": [
    "df = df[~(df['group'] == 'Unknown')]"
   ]
  },
  {
   "cell_type": "code",
   "execution_count": 162,
   "metadata": {},
   "outputs": [
    {
     "data": {
      "text/plain": [
       "short hair      27058\n",
       "Terrier          9635\n",
       "Toy              7376\n",
       "Sporting         6530\n",
       "Herding          5897\n",
       "Working          4604\n",
       "Hound            2995\n",
       "Non-Sporting     1870\n",
       "long hair        1245\n",
       "Name: group, dtype: int64"
      ]
     },
     "execution_count": 162,
     "metadata": {},
     "output_type": "execute_result"
    }
   ],
   "source": [
    "df['group'].value_counts()"
   ]
  },
  {
   "cell_type": "code",
   "execution_count": 163,
   "metadata": {},
   "outputs": [
    {
     "data": {
      "text/plain": [
       "array(['Herding', 'Hound', 'Non-Sporting', 'Sporting', 'Terrier', 'Toy',\n",
       "       'Working', 'long hair', 'short hair'], dtype=object)"
      ]
     },
     "execution_count": 163,
     "metadata": {},
     "output_type": "execute_result"
    }
   ],
   "source": [
    "pd.get_dummies(df['group']).columns.values"
   ]
  },
  {
   "cell_type": "code",
   "execution_count": 164,
   "metadata": {},
   "outputs": [],
   "source": [
    "s = set(df_mod.columns.values)\n",
    "m = set(df['group'].unique())"
   ]
  },
  {
   "cell_type": "code",
   "execution_count": 165,
   "metadata": {},
   "outputs": [
    {
     "data": {
      "text/plain": [
       "set()"
      ]
     },
     "execution_count": 165,
     "metadata": {},
     "output_type": "execute_result"
    }
   ],
   "source": [
    "s.intersection(m)"
   ]
  },
  {
   "cell_type": "code",
   "execution_count": 166,
   "metadata": {},
   "outputs": [
    {
     "data": {
      "text/plain": [
       "short hair      27058\n",
       "Terrier          9635\n",
       "Toy              7376\n",
       "Sporting         6530\n",
       "Herding          5897\n",
       "Working          4604\n",
       "Hound            2995\n",
       "Non-Sporting     1870\n",
       "long hair        1245\n",
       "Name: group, dtype: int64"
      ]
     },
     "execution_count": 166,
     "metadata": {},
     "output_type": "execute_result"
    }
   ],
   "source": [
    "df['group'].value_counts()"
   ]
  },
  {
   "cell_type": "code",
   "execution_count": 167,
   "metadata": {},
   "outputs": [
    {
     "data": {
      "text/plain": [
       "array(['Herding', 'Hound', 'Non-Sporting', 'Sporting', 'Terrier', 'Toy',\n",
       "       'Working', 'long hair', 'short hair'], dtype=object)"
      ]
     },
     "execution_count": 167,
     "metadata": {},
     "output_type": "execute_result"
    }
   ],
   "source": [
    "pd.get_dummies(df['group']).columns.values"
   ]
  },
  {
   "cell_type": "code",
   "execution_count": 168,
   "metadata": {},
   "outputs": [],
   "source": [
    "df_mod.reset_index(inplace=True, drop=True)"
   ]
  },
  {
   "cell_type": "code",
   "execution_count": 169,
   "metadata": {},
   "outputs": [
    {
     "data": {
      "text/plain": [
       "(67210, 9)"
      ]
     },
     "execution_count": 169,
     "metadata": {},
     "output_type": "execute_result"
    }
   ],
   "source": [
    "pd.get_dummies(df['group']).shape"
   ]
  },
  {
   "cell_type": "code",
   "execution_count": 170,
   "metadata": {},
   "outputs": [],
   "source": [
    "df.reset_index(inplace=True, drop=True)"
   ]
  },
  {
   "cell_type": "code",
   "execution_count": 171,
   "metadata": {},
   "outputs": [
    {
     "data": {
      "text/plain": [
       "0"
      ]
     },
     "execution_count": 171,
     "metadata": {},
     "output_type": "execute_result"
    }
   ],
   "source": [
    "df_mod.index.duplicated().sum()"
   ]
  },
  {
   "cell_type": "code",
   "execution_count": 172,
   "metadata": {},
   "outputs": [
    {
     "data": {
      "text/plain": [
       "0"
      ]
     },
     "execution_count": 172,
     "metadata": {},
     "output_type": "execute_result"
    }
   ],
   "source": [
    "df.index.duplicated().sum()"
   ]
  },
  {
   "cell_type": "code",
   "execution_count": 173,
   "metadata": {},
   "outputs": [],
   "source": [
    "df_mod = pd.concat([df_mod, pd.get_dummies(df['group'])], axis=1)"
   ]
  },
  {
   "cell_type": "code",
   "execution_count": null,
   "metadata": {},
   "outputs": [],
   "source": []
  },
  {
   "cell_type": "markdown",
   "metadata": {},
   "source": [
    "## Add intake condition"
   ]
  },
  {
   "cell_type": "code",
   "execution_count": 174,
   "metadata": {},
   "outputs": [
    {
     "name": "stdout",
     "output_type": "stream",
     "text": [
      "<class 'pandas.core.frame.DataFrame'>\n",
      "RangeIndex: 67210 entries, 0 to 67209\n",
      "Data columns (total 16 columns):\n",
      "age                 67210 non-null int64\n",
      "animal_id           67210 non-null object\n",
      "animal_type         67210 non-null object\n",
      "datetime_in         67210 non-null object\n",
      "days_in_shelter     67210 non-null int64\n",
      "dow                 67210 non-null int64\n",
      "fixed_status        67210 non-null object\n",
      "gender              67210 non-null int64\n",
      "group               67210 non-null object\n",
      "intake_condition    67210 non-null object\n",
      "intake_season       67210 non-null object\n",
      "intake_type         67210 non-null object\n",
      "mix                 67210 non-null int64\n",
      "name                67210 non-null int64\n",
      "outcome_type        67210 non-null object\n",
      "simple_color        67210 non-null object\n",
      "dtypes: int64(6), object(10)\n",
      "memory usage: 8.2+ MB\n"
     ]
    }
   ],
   "source": [
    "df.info()"
   ]
  },
  {
   "cell_type": "code",
   "execution_count": 175,
   "metadata": {},
   "outputs": [],
   "source": [
    "df_mod = pd.concat([df_mod, pd.get_dummies(df['intake_condition'])], axis=1)"
   ]
  },
  {
   "cell_type": "markdown",
   "metadata": {},
   "source": [
    "## Add intake season, intake type, name or not, and simple color"
   ]
  },
  {
   "cell_type": "code",
   "execution_count": 176,
   "metadata": {},
   "outputs": [],
   "source": [
    "df_mod = pd.concat([df_mod, pd.get_dummies(df[['intake_condition', 'intake_season', 'intake_type', 'mix', 'name',\n",
    "                                      'simple_color']])], axis=1)"
   ]
  },
  {
   "cell_type": "code",
   "execution_count": 195,
   "metadata": {},
   "outputs": [],
   "source": [
    "df_mod = pd.concat([df_mod, pd.get_dummies(df['dow'])], axis=1)"
   ]
  },
  {
   "cell_type": "code",
   "execution_count": 198,
   "metadata": {},
   "outputs": [],
   "source": [
    "df_mod.drop(labels=[0, 1, 2, 3, 4, 5, 6], axis=1, inplace=True)"
   ]
  },
  {
   "cell_type": "code",
   "execution_count": 202,
   "metadata": {},
   "outputs": [
    {
     "data": {
      "text/plain": [
       "array(['Cat', 'Dog', 'age', 'fixed', 'intact', 'male', 'female',\n",
       "       'Herding', 'Hound', 'Non-Sporting', 'Sporting', 'Terrier', 'Toy',\n",
       "       'Working', 'long hair', 'short hair', 'Aged', 'Feral', 'Injured',\n",
       "       'Normal', 'Nursing', 'Other', 'Pregnant', 'Sick', 'mix', 'name',\n",
       "       'intake_condition_Aged', 'intake_condition_Feral',\n",
       "       'intake_condition_Injured', 'intake_condition_Normal',\n",
       "       'intake_condition_Nursing', 'intake_condition_Other',\n",
       "       'intake_condition_Pregnant', 'intake_condition_Sick',\n",
       "       'intake_season_fall', 'intake_season_spring',\n",
       "       'intake_season_summer', 'intake_season_winter',\n",
       "       'intake_type_Euthanasia Request', 'intake_type_Owner Surrender',\n",
       "       'intake_type_Public Assist', 'intake_type_Stray',\n",
       "       'simple_color_Black', 'simple_color_Blue', 'simple_color_Brown',\n",
       "       'simple_color_Gray', 'simple_color_Red', 'simple_color_Sable',\n",
       "       'simple_color_Tricolor', 'simple_color_White',\n",
       "       'simple_color_Yellow'], dtype=object)"
      ]
     },
     "execution_count": 202,
     "metadata": {},
     "output_type": "execute_result"
    }
   ],
   "source": [
    "df_mod.columns.values"
   ]
  },
  {
   "cell_type": "code",
   "execution_count": 203,
   "metadata": {},
   "outputs": [],
   "source": [
    "df_mod = pd.concat([df_mod, pd.get_dummies(df['dow'])], axis=1)"
   ]
  },
  {
   "cell_type": "code",
   "execution_count": 204,
   "metadata": {},
   "outputs": [],
   "source": [
    "df_mod = pd.concat([df_mod, df['outcome_type']], axis=1)"
   ]
  },
  {
   "cell_type": "code",
   "execution_count": 205,
   "metadata": {},
   "outputs": [
    {
     "data": {
      "text/html": [
       "<div>\n",
       "<style scoped>\n",
       "    .dataframe tbody tr th:only-of-type {\n",
       "        vertical-align: middle;\n",
       "    }\n",
       "\n",
       "    .dataframe tbody tr th {\n",
       "        vertical-align: top;\n",
       "    }\n",
       "\n",
       "    .dataframe thead th {\n",
       "        text-align: right;\n",
       "    }\n",
       "</style>\n",
       "<table border=\"1\" class=\"dataframe\">\n",
       "  <thead>\n",
       "    <tr style=\"text-align: right;\">\n",
       "      <th></th>\n",
       "      <th>Cat</th>\n",
       "      <th>Dog</th>\n",
       "      <th>age</th>\n",
       "      <th>fixed</th>\n",
       "      <th>intact</th>\n",
       "      <th>male</th>\n",
       "      <th>female</th>\n",
       "      <th>Herding</th>\n",
       "      <th>Hound</th>\n",
       "      <th>Non-Sporting</th>\n",
       "      <th>...</th>\n",
       "      <th>simple_color_White</th>\n",
       "      <th>simple_color_Yellow</th>\n",
       "      <th>0</th>\n",
       "      <th>1</th>\n",
       "      <th>2</th>\n",
       "      <th>3</th>\n",
       "      <th>4</th>\n",
       "      <th>5</th>\n",
       "      <th>6</th>\n",
       "      <th>outcome_type</th>\n",
       "    </tr>\n",
       "  </thead>\n",
       "  <tbody>\n",
       "    <tr>\n",
       "      <th>0</th>\n",
       "      <td>0</td>\n",
       "      <td>1</td>\n",
       "      <td>2920</td>\n",
       "      <td>1</td>\n",
       "      <td>0</td>\n",
       "      <td>0</td>\n",
       "      <td>1</td>\n",
       "      <td>0</td>\n",
       "      <td>0</td>\n",
       "      <td>0</td>\n",
       "      <td>...</td>\n",
       "      <td>1</td>\n",
       "      <td>0</td>\n",
       "      <td>0</td>\n",
       "      <td>0</td>\n",
       "      <td>0</td>\n",
       "      <td>0</td>\n",
       "      <td>0</td>\n",
       "      <td>0</td>\n",
       "      <td>1</td>\n",
       "      <td>Return to Owner</td>\n",
       "    </tr>\n",
       "    <tr>\n",
       "      <th>1</th>\n",
       "      <td>0</td>\n",
       "      <td>1</td>\n",
       "      <td>330</td>\n",
       "      <td>0</td>\n",
       "      <td>1</td>\n",
       "      <td>1</td>\n",
       "      <td>0</td>\n",
       "      <td>0</td>\n",
       "      <td>1</td>\n",
       "      <td>0</td>\n",
       "      <td>...</td>\n",
       "      <td>0</td>\n",
       "      <td>0</td>\n",
       "      <td>0</td>\n",
       "      <td>0</td>\n",
       "      <td>0</td>\n",
       "      <td>1</td>\n",
       "      <td>0</td>\n",
       "      <td>0</td>\n",
       "      <td>0</td>\n",
       "      <td>Return to Owner</td>\n",
       "    </tr>\n",
       "    <tr>\n",
       "      <th>2</th>\n",
       "      <td>0</td>\n",
       "      <td>1</td>\n",
       "      <td>1460</td>\n",
       "      <td>1</td>\n",
       "      <td>0</td>\n",
       "      <td>1</td>\n",
       "      <td>0</td>\n",
       "      <td>0</td>\n",
       "      <td>0</td>\n",
       "      <td>0</td>\n",
       "      <td>...</td>\n",
       "      <td>0</td>\n",
       "      <td>1</td>\n",
       "      <td>0</td>\n",
       "      <td>0</td>\n",
       "      <td>0</td>\n",
       "      <td>0</td>\n",
       "      <td>0</td>\n",
       "      <td>0</td>\n",
       "      <td>1</td>\n",
       "      <td>Return to Owner</td>\n",
       "    </tr>\n",
       "    <tr>\n",
       "      <th>3</th>\n",
       "      <td>0</td>\n",
       "      <td>1</td>\n",
       "      <td>730</td>\n",
       "      <td>1</td>\n",
       "      <td>0</td>\n",
       "      <td>1</td>\n",
       "      <td>0</td>\n",
       "      <td>0</td>\n",
       "      <td>0</td>\n",
       "      <td>0</td>\n",
       "      <td>...</td>\n",
       "      <td>0</td>\n",
       "      <td>0</td>\n",
       "      <td>0</td>\n",
       "      <td>0</td>\n",
       "      <td>0</td>\n",
       "      <td>0</td>\n",
       "      <td>0</td>\n",
       "      <td>1</td>\n",
       "      <td>0</td>\n",
       "      <td>Return to Owner</td>\n",
       "    </tr>\n",
       "    <tr>\n",
       "      <th>4</th>\n",
       "      <td>0</td>\n",
       "      <td>1</td>\n",
       "      <td>730</td>\n",
       "      <td>0</td>\n",
       "      <td>1</td>\n",
       "      <td>1</td>\n",
       "      <td>0</td>\n",
       "      <td>0</td>\n",
       "      <td>0</td>\n",
       "      <td>0</td>\n",
       "      <td>...</td>\n",
       "      <td>0</td>\n",
       "      <td>0</td>\n",
       "      <td>0</td>\n",
       "      <td>0</td>\n",
       "      <td>0</td>\n",
       "      <td>1</td>\n",
       "      <td>0</td>\n",
       "      <td>0</td>\n",
       "      <td>0</td>\n",
       "      <td>Return to Owner</td>\n",
       "    </tr>\n",
       "  </tbody>\n",
       "</table>\n",
       "<p>5 rows × 59 columns</p>\n",
       "</div>"
      ],
      "text/plain": [
       "   Cat  Dog   age  fixed  intact  male  female  Herding  Hound  Non-Sporting  \\\n",
       "0    0    1  2920      1       0     0       1        0      0             0   \n",
       "1    0    1   330      0       1     1       0        0      1             0   \n",
       "2    0    1  1460      1       0     1       0        0      0             0   \n",
       "3    0    1   730      1       0     1       0        0      0             0   \n",
       "4    0    1   730      0       1     1       0        0      0             0   \n",
       "\n",
       "        ...         simple_color_White  simple_color_Yellow  0  1  2  3  4  5  \\\n",
       "0       ...                          1                    0  0  0  0  0  0  0   \n",
       "1       ...                          0                    0  0  0  0  1  0  0   \n",
       "2       ...                          0                    1  0  0  0  0  0  0   \n",
       "3       ...                          0                    0  0  0  0  0  0  1   \n",
       "4       ...                          0                    0  0  0  0  1  0  0   \n",
       "\n",
       "   6     outcome_type  \n",
       "0  1  Return to Owner  \n",
       "1  0  Return to Owner  \n",
       "2  1  Return to Owner  \n",
       "3  0  Return to Owner  \n",
       "4  0  Return to Owner  \n",
       "\n",
       "[5 rows x 59 columns]"
      ]
     },
     "execution_count": 205,
     "metadata": {},
     "output_type": "execute_result"
    }
   ],
   "source": [
    "df_mod.head()"
   ]
  },
  {
   "cell_type": "code",
   "execution_count": 206,
   "metadata": {},
   "outputs": [],
   "source": [
    "df_mod.to_csv('./data/df_mod.csv')"
   ]
  },
  {
   "cell_type": "code",
   "execution_count": 189,
   "metadata": {},
   "outputs": [],
   "source": [
    "df.to_csv('./data/master_df_1128.csv')"
   ]
  }
 ],
 "metadata": {
  "kernelspec": {
   "display_name": "Python 3",
   "language": "python",
   "name": "python3"
  },
  "language_info": {
   "codemirror_mode": {
    "name": "ipython",
    "version": 3
   },
   "file_extension": ".py",
   "mimetype": "text/x-python",
   "name": "python",
   "nbconvert_exporter": "python",
   "pygments_lexer": "ipython3",
   "version": "3.6.5"
  }
 },
 "nbformat": 4,
 "nbformat_minor": 2
}
