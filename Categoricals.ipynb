{
 "cells": [
  {
   "cell_type": "code",
   "execution_count": 46,
   "metadata": {},
   "outputs": [
    {
     "name": "stdout",
     "output_type": "stream",
     "text": [
      "The autoreload extension is already loaded. To reload it, use:\n",
      "  %reload_ext autoreload\n"
     ]
    }
   ],
   "source": [
    "import pandas as pd\n",
    "import numpy as np\n",
    "import animalhelper as ah\n",
    "\n",
    "%load_ext autoreload\n",
    "%autoreload 2"
   ]
  },
  {
   "cell_type": "code",
   "execution_count": 247,
   "metadata": {},
   "outputs": [],
   "source": [
    "df = pd.read_csv('./data/engineered.csv', index_col = 0, dtype={'intake_condition': str})"
   ]
  },
  {
   "cell_type": "code",
   "execution_count": 248,
   "metadata": {},
   "outputs": [],
   "source": [
    "df = df[~(df['group'] == 'Unknown')]"
   ]
  },
  {
   "cell_type": "markdown",
   "metadata": {},
   "source": [
    "## Generate df_mod"
   ]
  },
  {
   "cell_type": "code",
   "execution_count": 258,
   "metadata": {},
   "outputs": [
    {
     "data": {
      "text/plain": [
       "array(['age', 'animal_id', 'animal_type', 'datetime_in',\n",
       "       'days_in_shelter', 'dow', 'fixed_status', 'gender', 'group',\n",
       "       'intake_condition', 'intake_season', 'intake_type', 'mix', 'name',\n",
       "       'outcome_type', 'simple_color'], dtype=object)"
      ]
     },
     "execution_count": 258,
     "metadata": {},
     "output_type": "execute_result"
    }
   ],
   "source": [
    "df.columns.values"
   ]
  },
  {
   "cell_type": "code",
   "execution_count": 264,
   "metadata": {},
   "outputs": [],
   "source": [
    "df['datetime_in'] = pd.to_datetime(df['datetime_in'])"
   ]
  },
  {
   "cell_type": "code",
   "execution_count": 265,
   "metadata": {},
   "outputs": [],
   "source": [
    "df['hour_in'] = df['datetime_in'].dt.hour"
   ]
  },
  {
   "cell_type": "code",
   "execution_count": 266,
   "metadata": {},
   "outputs": [],
   "source": [
    "df['hour_in'] = df['hour_in'].astype(str)"
   ]
  },
  {
   "cell_type": "code",
   "execution_count": 226,
   "metadata": {},
   "outputs": [],
   "source": [
    "df_hour = pd.concat([df['animal_id'], pd.get_dummies(df['hour_in'])], axis=1)"
   ]
  },
  {
   "cell_type": "code",
   "execution_count": 268,
   "metadata": {},
   "outputs": [],
   "source": [
    "df_mod = pd.concat([df[['animal_id', 'age']],\n",
    "           pd.get_dummies(df[['animal_type', 'dow', 'fixed_status', 'gender', 'group',\n",
    "                             'intake_condition', 'intake_season', 'intake_type', 'mix', 'name', \n",
    "                             'simple_color', 'hour_in']]), df[['outcome_type', 'days_in_shelter']]], axis=1)"
   ]
  },
  {
   "cell_type": "code",
   "execution_count": 227,
   "metadata": {},
   "outputs": [],
   "source": [
    "df_mod = pd.DataFrame()"
   ]
  },
  {
   "cell_type": "markdown",
   "metadata": {},
   "source": [
    "## Impute unknown fixed status values"
   ]
  },
  {
   "cell_type": "code",
   "execution_count": 250,
   "metadata": {},
   "outputs": [],
   "source": [
    "df['fixed_status'] = df['fixed_status'].apply(lambda x: ah.impute_fixed_status(x))"
   ]
  },
  {
   "cell_type": "markdown",
   "metadata": {},
   "source": [
    "# Clean up groups"
   ]
  },
  {
   "cell_type": "code",
   "execution_count": 235,
   "metadata": {
    "collapsed": true
   },
   "outputs": [
    {
     "data": {
      "text/plain": [
       "short hair       27058\n",
       "Terrier           9524\n",
       "Toy               7376\n",
       "Sporting          6530\n",
       "Herding           5897\n",
       "Working           4604\n",
       "Hound             2995\n",
       "Non-Sporting      1870\n",
       "long hair         1245\n",
       "Terrier & Toy      111\n",
       "Unknown              1\n",
       "Name: group, dtype: int64"
      ]
     },
     "execution_count": 235,
     "metadata": {},
     "output_type": "execute_result"
    }
   ],
   "source": [
    "df['group'].value_counts()"
   ]
  },
  {
   "cell_type": "code",
   "execution_count": 236,
   "metadata": {
    "collapsed": true
   },
   "outputs": [
    {
     "name": "stdout",
     "output_type": "stream",
     "text": [
      "<class 'pandas.core.frame.DataFrame'>\n",
      "Int64Index: 67211 entries, 0 to 28302\n",
      "Data columns (total 17 columns):\n",
      "age                 67211 non-null int64\n",
      "animal_id           67211 non-null object\n",
      "animal_type         67211 non-null object\n",
      "datetime_in         67211 non-null datetime64[ns]\n",
      "days_in_shelter     67211 non-null int64\n",
      "dow                 67211 non-null int64\n",
      "fixed_status        67211 non-null object\n",
      "gender              67211 non-null int64\n",
      "group               67211 non-null object\n",
      "intake_condition    67211 non-null object\n",
      "intake_season       67211 non-null object\n",
      "intake_type         67211 non-null object\n",
      "mix                 67211 non-null int64\n",
      "name                67211 non-null int64\n",
      "outcome_type        67211 non-null object\n",
      "simple_color        67211 non-null object\n",
      "hour_in             67211 non-null object\n",
      "dtypes: datetime64[ns](1), int64(6), object(10)\n",
      "memory usage: 9.2+ MB\n"
     ]
    }
   ],
   "source": [
    "df.info()"
   ]
  },
  {
   "cell_type": "code",
   "execution_count": 237,
   "metadata": {},
   "outputs": [],
   "source": [
    "def clean_groups(s):\n",
    "    if s == 'Terrier & Toy':\n",
    "        return 'Terrier'\n",
    "    return s"
   ]
  },
  {
   "cell_type": "code",
   "execution_count": 251,
   "metadata": {},
   "outputs": [],
   "source": [
    "df['group'] = df['group'].apply(lambda x: clean_groups(x))"
   ]
  },
  {
   "cell_type": "code",
   "execution_count": 254,
   "metadata": {},
   "outputs": [],
   "source": [
    "df.reset_index(inplace=True, drop=True)"
   ]
  },
  {
   "cell_type": "code",
   "execution_count": null,
   "metadata": {},
   "outputs": [],
   "source": []
  },
  {
   "cell_type": "markdown",
   "metadata": {},
   "source": [
    "## Generate dummy variable dataframe"
   ]
  },
  {
   "cell_type": "code",
   "execution_count": 269,
   "metadata": {},
   "outputs": [],
   "source": [
    "df_mod = pd.concat([df[['animal_id', 'age']],\n",
    "           pd.get_dummies(df[['animal_type', 'dow', 'fixed_status', 'gender', 'group',\n",
    "                             'intake_condition', 'intake_season', 'intake_type', 'mix', 'name', \n",
    "                             'simple_color', 'hour_in']]), df[['outcome_type', 'days_in_shelter']]], axis=1)"
   ]
  },
  {
   "cell_type": "code",
   "execution_count": 271,
   "metadata": {},
   "outputs": [
    {
     "data": {
      "text/html": [
       "<div>\n",
       "<style scoped>\n",
       "    .dataframe tbody tr th:only-of-type {\n",
       "        vertical-align: middle;\n",
       "    }\n",
       "\n",
       "    .dataframe tbody tr th {\n",
       "        vertical-align: top;\n",
       "    }\n",
       "\n",
       "    .dataframe thead th {\n",
       "        text-align: right;\n",
       "    }\n",
       "</style>\n",
       "<table border=\"1\" class=\"dataframe\">\n",
       "  <thead>\n",
       "    <tr style=\"text-align: right;\">\n",
       "      <th></th>\n",
       "      <th>animal_id</th>\n",
       "      <th>age</th>\n",
       "      <th>dow</th>\n",
       "      <th>gender</th>\n",
       "      <th>mix</th>\n",
       "      <th>name</th>\n",
       "      <th>animal_type_Cat</th>\n",
       "      <th>animal_type_Dog</th>\n",
       "      <th>fixed_status_fixed</th>\n",
       "      <th>fixed_status_intact</th>\n",
       "      <th>...</th>\n",
       "      <th>hour_in_23</th>\n",
       "      <th>hour_in_3</th>\n",
       "      <th>hour_in_4</th>\n",
       "      <th>hour_in_5</th>\n",
       "      <th>hour_in_6</th>\n",
       "      <th>hour_in_7</th>\n",
       "      <th>hour_in_8</th>\n",
       "      <th>hour_in_9</th>\n",
       "      <th>outcome_type</th>\n",
       "      <th>days_in_shelter</th>\n",
       "    </tr>\n",
       "  </thead>\n",
       "  <tbody>\n",
       "    <tr>\n",
       "      <th>0</th>\n",
       "      <td>A706918</td>\n",
       "      <td>2920</td>\n",
       "      <td>6</td>\n",
       "      <td>1</td>\n",
       "      <td>0</td>\n",
       "      <td>1</td>\n",
       "      <td>0</td>\n",
       "      <td>1</td>\n",
       "      <td>1</td>\n",
       "      <td>0</td>\n",
       "      <td>...</td>\n",
       "      <td>0</td>\n",
       "      <td>0</td>\n",
       "      <td>0</td>\n",
       "      <td>0</td>\n",
       "      <td>0</td>\n",
       "      <td>0</td>\n",
       "      <td>0</td>\n",
       "      <td>0</td>\n",
       "      <td>Return to Owner</td>\n",
       "      <td>0</td>\n",
       "    </tr>\n",
       "    <tr>\n",
       "      <th>1</th>\n",
       "      <td>A724273</td>\n",
       "      <td>330</td>\n",
       "      <td>3</td>\n",
       "      <td>0</td>\n",
       "      <td>1</td>\n",
       "      <td>1</td>\n",
       "      <td>0</td>\n",
       "      <td>1</td>\n",
       "      <td>0</td>\n",
       "      <td>1</td>\n",
       "      <td>...</td>\n",
       "      <td>0</td>\n",
       "      <td>0</td>\n",
       "      <td>0</td>\n",
       "      <td>0</td>\n",
       "      <td>0</td>\n",
       "      <td>0</td>\n",
       "      <td>0</td>\n",
       "      <td>0</td>\n",
       "      <td>Return to Owner</td>\n",
       "      <td>6</td>\n",
       "    </tr>\n",
       "    <tr>\n",
       "      <th>2</th>\n",
       "      <td>A682524</td>\n",
       "      <td>1460</td>\n",
       "      <td>6</td>\n",
       "      <td>0</td>\n",
       "      <td>1</td>\n",
       "      <td>1</td>\n",
       "      <td>0</td>\n",
       "      <td>1</td>\n",
       "      <td>1</td>\n",
       "      <td>0</td>\n",
       "      <td>...</td>\n",
       "      <td>0</td>\n",
       "      <td>0</td>\n",
       "      <td>0</td>\n",
       "      <td>0</td>\n",
       "      <td>0</td>\n",
       "      <td>0</td>\n",
       "      <td>0</td>\n",
       "      <td>0</td>\n",
       "      <td>Return to Owner</td>\n",
       "      <td>3</td>\n",
       "    </tr>\n",
       "    <tr>\n",
       "      <th>3</th>\n",
       "      <td>A743852</td>\n",
       "      <td>730</td>\n",
       "      <td>5</td>\n",
       "      <td>0</td>\n",
       "      <td>1</td>\n",
       "      <td>1</td>\n",
       "      <td>0</td>\n",
       "      <td>1</td>\n",
       "      <td>1</td>\n",
       "      <td>0</td>\n",
       "      <td>...</td>\n",
       "      <td>0</td>\n",
       "      <td>0</td>\n",
       "      <td>0</td>\n",
       "      <td>0</td>\n",
       "      <td>0</td>\n",
       "      <td>0</td>\n",
       "      <td>0</td>\n",
       "      <td>0</td>\n",
       "      <td>Return to Owner</td>\n",
       "      <td>3</td>\n",
       "    </tr>\n",
       "    <tr>\n",
       "      <th>4</th>\n",
       "      <td>A708452</td>\n",
       "      <td>730</td>\n",
       "      <td>3</td>\n",
       "      <td>0</td>\n",
       "      <td>1</td>\n",
       "      <td>1</td>\n",
       "      <td>0</td>\n",
       "      <td>1</td>\n",
       "      <td>0</td>\n",
       "      <td>1</td>\n",
       "      <td>...</td>\n",
       "      <td>0</td>\n",
       "      <td>0</td>\n",
       "      <td>0</td>\n",
       "      <td>0</td>\n",
       "      <td>0</td>\n",
       "      <td>0</td>\n",
       "      <td>0</td>\n",
       "      <td>0</td>\n",
       "      <td>Return to Owner</td>\n",
       "      <td>5</td>\n",
       "    </tr>\n",
       "  </tbody>\n",
       "</table>\n",
       "<p>5 rows × 70 columns</p>\n",
       "</div>"
      ],
      "text/plain": [
       "  animal_id   age  dow  gender  mix  name  animal_type_Cat  animal_type_Dog  \\\n",
       "0   A706918  2920    6       1    0     1                0                1   \n",
       "1   A724273   330    3       0    1     1                0                1   \n",
       "2   A682524  1460    6       0    1     1                0                1   \n",
       "3   A743852   730    5       0    1     1                0                1   \n",
       "4   A708452   730    3       0    1     1                0                1   \n",
       "\n",
       "   fixed_status_fixed  fixed_status_intact       ...         hour_in_23  \\\n",
       "0                   1                    0       ...                  0   \n",
       "1                   0                    1       ...                  0   \n",
       "2                   1                    0       ...                  0   \n",
       "3                   1                    0       ...                  0   \n",
       "4                   0                    1       ...                  0   \n",
       "\n",
       "   hour_in_3  hour_in_4  hour_in_5  hour_in_6  hour_in_7  hour_in_8  \\\n",
       "0          0          0          0          0          0          0   \n",
       "1          0          0          0          0          0          0   \n",
       "2          0          0          0          0          0          0   \n",
       "3          0          0          0          0          0          0   \n",
       "4          0          0          0          0          0          0   \n",
       "\n",
       "   hour_in_9     outcome_type  days_in_shelter  \n",
       "0          0  Return to Owner                0  \n",
       "1          0  Return to Owner                6  \n",
       "2          0  Return to Owner                3  \n",
       "3          0  Return to Owner                3  \n",
       "4          0  Return to Owner                5  \n",
       "\n",
       "[5 rows x 70 columns]"
      ]
     },
     "execution_count": 271,
     "metadata": {},
     "output_type": "execute_result"
    }
   ],
   "source": [
    "df_mod.head()"
   ]
  },
  {
   "cell_type": "code",
   "execution_count": 272,
   "metadata": {},
   "outputs": [],
   "source": [
    "df_mod.to_csv('./data/all_categoricals.csv')"
   ]
  },
  {
   "cell_type": "code",
   "execution_count": 273,
   "metadata": {},
   "outputs": [],
   "source": [
    "df.to_csv('./data/master_df_1129.csv')"
   ]
  }
 ],
 "metadata": {
  "kernelspec": {
   "display_name": "Python 3",
   "language": "python",
   "name": "python3"
  },
  "language_info": {
   "codemirror_mode": {
    "name": "ipython",
    "version": 3
   },
   "file_extension": ".py",
   "mimetype": "text/x-python",
   "name": "python",
   "nbconvert_exporter": "python",
   "pygments_lexer": "ipython3",
   "version": "3.6.5"
  }
 },
 "nbformat": 4,
 "nbformat_minor": 2
}
