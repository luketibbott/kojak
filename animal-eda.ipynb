{
 "cells": [
  {
   "cell_type": "code",
   "execution_count": 1,
   "metadata": {},
   "outputs": [],
   "source": [
    "import pandas as pd\n",
    "import numpy as np\n",
    "import matplotlib.pyplot as plt\n",
    "\n",
    "%matplotlib inline"
   ]
  },
  {
   "cell_type": "code",
   "execution_count": 2,
   "metadata": {},
   "outputs": [
    {
     "name": "stdout",
     "output_type": "stream",
     "text": [
      "\u001b[31maac_intakes.csv\u001b[m\u001b[m          \u001b[31maac_intakes_outcomes.csv\u001b[m\u001b[m \u001b[31maac_outcomes.csv\u001b[m\u001b[m\r\n"
     ]
    }
   ],
   "source": [
    "!ls data"
   ]
  },
  {
   "cell_type": "code",
   "execution_count": 8,
   "metadata": {},
   "outputs": [],
   "source": [
    "df_out = pd.read_csv('data/aac_outcomes.csv')"
   ]
  },
  {
   "cell_type": "code",
   "execution_count": 9,
   "metadata": {},
   "outputs": [],
   "source": [
    "df_in = pd.read_csv('data/aac_intakes.csv')"
   ]
  },
  {
   "cell_type": "code",
   "execution_count": 12,
   "metadata": {},
   "outputs": [
    {
     "name": "stdout",
     "output_type": "stream",
     "text": [
      "<class 'pandas.core.frame.DataFrame'>\n",
      "RangeIndex: 80681 entries, 0 to 80680\n",
      "Data columns (total 12 columns):\n",
      "age_upon_outcome    80673 non-null object\n",
      "animal_id           80681 non-null object\n",
      "animal_type         80681 non-null object\n",
      "breed               80681 non-null object\n",
      "color               80681 non-null object\n",
      "date_of_birth       80681 non-null object\n",
      "datetime            80681 non-null object\n",
      "monthyear           80681 non-null object\n",
      "name                56116 non-null object\n",
      "outcome_subtype     36893 non-null object\n",
      "outcome_type        80667 non-null object\n",
      "sex_upon_outcome    80679 non-null object\n",
      "dtypes: object(12)\n",
      "memory usage: 7.4+ MB\n"
     ]
    }
   ],
   "source": [
    "df_out.info()"
   ]
  },
  {
   "cell_type": "code",
   "execution_count": 13,
   "metadata": {},
   "outputs": [
    {
     "name": "stdout",
     "output_type": "stream",
     "text": [
      "<class 'pandas.core.frame.DataFrame'>\n",
      "RangeIndex: 80187 entries, 0 to 80186\n",
      "Data columns (total 12 columns):\n",
      "age_upon_intake     80187 non-null object\n",
      "animal_id           80187 non-null object\n",
      "animal_type         80187 non-null object\n",
      "breed               80187 non-null object\n",
      "color               80187 non-null object\n",
      "datetime            80187 non-null object\n",
      "datetime2           80187 non-null object\n",
      "found_location      80187 non-null object\n",
      "intake_condition    80187 non-null object\n",
      "intake_type         80187 non-null object\n",
      "name                55603 non-null object\n",
      "sex_upon_intake     80186 non-null object\n",
      "dtypes: object(12)\n",
      "memory usage: 7.3+ MB\n"
     ]
    }
   ],
   "source": [
    "df_in.info()"
   ]
  },
  {
   "cell_type": "code",
   "execution_count": 20,
   "metadata": {},
   "outputs": [],
   "source": [
    "df = df_in.merge(df_out, on='animal_id', suffixes=('_in', '_out'))"
   ]
  },
  {
   "cell_type": "code",
   "execution_count": 22,
   "metadata": {},
   "outputs": [
    {
     "data": {
      "text/plain": [
       "array(['age_upon_intake', 'animal_id', 'animal_type_in', 'breed_in',\n",
       "       'color_in', 'datetime_in', 'datetime2', 'found_location',\n",
       "       'intake_condition', 'intake_type', 'name_in', 'sex_upon_intake',\n",
       "       'age_upon_outcome', 'animal_type_out', 'breed_out', 'color_out',\n",
       "       'date_of_birth', 'datetime_out', 'monthyear', 'name_out',\n",
       "       'outcome_subtype', 'outcome_type', 'sex_upon_outcome'],\n",
       "      dtype=object)"
      ]
     },
     "execution_count": 22,
     "metadata": {},
     "output_type": "execute_result"
    }
   ],
   "source": [
    "df.columns.values"
   ]
  },
  {
   "cell_type": "markdown",
   "metadata": {},
   "source": [
    "## Drop columns that will stay the same across out and in"
   ]
  },
  {
   "cell_type": "code",
   "execution_count": 30,
   "metadata": {},
   "outputs": [],
   "source": [
    "df = df.drop(labels=['animal_type_in', 'breed_in', 'color_in', 'datetime2', 'name_in'], axis=1)"
   ]
  },
  {
   "cell_type": "code",
   "execution_count": 34,
   "metadata": {},
   "outputs": [
    {
     "data": {
      "text/plain": [
       "array(['age_upon_intake', 'animal_id', 'datetime_in', 'found_location',\n",
       "       'intake_condition', 'intake_type', 'sex_upon_intake',\n",
       "       'age_upon_outcome', 'animal_type_out', 'breed_out', 'color_out',\n",
       "       'date_of_birth', 'datetime_out', 'monthyear', 'name_out',\n",
       "       'outcome_subtype', 'outcome_type', 'sex_upon_outcome'],\n",
       "      dtype=object)"
      ]
     },
     "execution_count": 34,
     "metadata": {},
     "output_type": "execute_result"
    }
   ],
   "source": [
    "df.columns.values"
   ]
  },
  {
   "cell_type": "code",
   "execution_count": 35,
   "metadata": {},
   "outputs": [
    {
     "data": {
      "text/html": [
       "<div>\n",
       "<style scoped>\n",
       "    .dataframe tbody tr th:only-of-type {\n",
       "        vertical-align: middle;\n",
       "    }\n",
       "\n",
       "    .dataframe tbody tr th {\n",
       "        vertical-align: top;\n",
       "    }\n",
       "\n",
       "    .dataframe thead th {\n",
       "        text-align: right;\n",
       "    }\n",
       "</style>\n",
       "<table border=\"1\" class=\"dataframe\">\n",
       "  <thead>\n",
       "    <tr style=\"text-align: right;\">\n",
       "      <th></th>\n",
       "      <th>age_upon_intake</th>\n",
       "      <th>animal_id</th>\n",
       "      <th>datetime_in</th>\n",
       "      <th>found_location</th>\n",
       "      <th>intake_condition</th>\n",
       "      <th>intake_type</th>\n",
       "      <th>sex_upon_intake</th>\n",
       "      <th>age_upon_outcome</th>\n",
       "      <th>animal_type_out</th>\n",
       "      <th>breed_out</th>\n",
       "      <th>color_out</th>\n",
       "      <th>date_of_birth</th>\n",
       "      <th>datetime_out</th>\n",
       "      <th>monthyear</th>\n",
       "      <th>name_out</th>\n",
       "      <th>outcome_subtype</th>\n",
       "      <th>outcome_type</th>\n",
       "      <th>sex_upon_outcome</th>\n",
       "    </tr>\n",
       "  </thead>\n",
       "  <tbody>\n",
       "    <tr>\n",
       "      <th>0</th>\n",
       "      <td>8 years</td>\n",
       "      <td>A706918</td>\n",
       "      <td>2015-07-05T12:59:00.000</td>\n",
       "      <td>9409 Bluegrass Dr in Austin (TX)</td>\n",
       "      <td>Normal</td>\n",
       "      <td>Stray</td>\n",
       "      <td>Spayed Female</td>\n",
       "      <td>8 years</td>\n",
       "      <td>Dog</td>\n",
       "      <td>English Springer Spaniel</td>\n",
       "      <td>White/Liver</td>\n",
       "      <td>2007-07-05T00:00:00</td>\n",
       "      <td>2015-07-05T15:13:00</td>\n",
       "      <td>2015-07-05T15:13:00</td>\n",
       "      <td>Belle</td>\n",
       "      <td>NaN</td>\n",
       "      <td>Return to Owner</td>\n",
       "      <td>Spayed Female</td>\n",
       "    </tr>\n",
       "    <tr>\n",
       "      <th>1</th>\n",
       "      <td>11 months</td>\n",
       "      <td>A724273</td>\n",
       "      <td>2016-04-14T18:43:00.000</td>\n",
       "      <td>2818 Palomino Trail in Austin (TX)</td>\n",
       "      <td>Normal</td>\n",
       "      <td>Stray</td>\n",
       "      <td>Intact Male</td>\n",
       "      <td>1 year</td>\n",
       "      <td>Dog</td>\n",
       "      <td>Basenji Mix</td>\n",
       "      <td>Sable/White</td>\n",
       "      <td>2015-04-17T00:00:00</td>\n",
       "      <td>2016-04-21T17:17:00</td>\n",
       "      <td>2016-04-21T17:17:00</td>\n",
       "      <td>Runster</td>\n",
       "      <td>NaN</td>\n",
       "      <td>Return to Owner</td>\n",
       "      <td>Neutered Male</td>\n",
       "    </tr>\n",
       "    <tr>\n",
       "      <th>2</th>\n",
       "      <td>4 weeks</td>\n",
       "      <td>A665644</td>\n",
       "      <td>2013-10-21T07:59:00.000</td>\n",
       "      <td>Austin (TX)</td>\n",
       "      <td>Sick</td>\n",
       "      <td>Stray</td>\n",
       "      <td>Intact Female</td>\n",
       "      <td>4 weeks</td>\n",
       "      <td>Cat</td>\n",
       "      <td>Domestic Shorthair Mix</td>\n",
       "      <td>Calico</td>\n",
       "      <td>2013-09-21T00:00:00</td>\n",
       "      <td>2013-10-21T11:39:00</td>\n",
       "      <td>2013-10-21T11:39:00</td>\n",
       "      <td>NaN</td>\n",
       "      <td>Partner</td>\n",
       "      <td>Transfer</td>\n",
       "      <td>Intact Female</td>\n",
       "    </tr>\n",
       "    <tr>\n",
       "      <th>3</th>\n",
       "      <td>4 years</td>\n",
       "      <td>A682524</td>\n",
       "      <td>2014-06-29T10:38:00.000</td>\n",
       "      <td>800 Grove Blvd in Austin (TX)</td>\n",
       "      <td>Normal</td>\n",
       "      <td>Stray</td>\n",
       "      <td>Neutered Male</td>\n",
       "      <td>4 years</td>\n",
       "      <td>Dog</td>\n",
       "      <td>Doberman Pinsch/Australian Cattle Dog</td>\n",
       "      <td>Tan/Gray</td>\n",
       "      <td>2010-06-29T00:00:00</td>\n",
       "      <td>2014-07-02T14:16:00</td>\n",
       "      <td>2014-07-02T14:16:00</td>\n",
       "      <td>Rio</td>\n",
       "      <td>NaN</td>\n",
       "      <td>Return to Owner</td>\n",
       "      <td>Neutered Male</td>\n",
       "    </tr>\n",
       "    <tr>\n",
       "      <th>4</th>\n",
       "      <td>2 years</td>\n",
       "      <td>A743852</td>\n",
       "      <td>2017-02-18T12:46:00.000</td>\n",
       "      <td>Austin (TX)</td>\n",
       "      <td>Normal</td>\n",
       "      <td>Owner Surrender</td>\n",
       "      <td>Neutered Male</td>\n",
       "      <td>2 years</td>\n",
       "      <td>Dog</td>\n",
       "      <td>Labrador Retriever Mix</td>\n",
       "      <td>Chocolate</td>\n",
       "      <td>2015-02-18T00:00:00</td>\n",
       "      <td>2017-02-21T17:44:00</td>\n",
       "      <td>2017-02-21T17:44:00</td>\n",
       "      <td>Odin</td>\n",
       "      <td>NaN</td>\n",
       "      <td>Return to Owner</td>\n",
       "      <td>Neutered Male</td>\n",
       "    </tr>\n",
       "  </tbody>\n",
       "</table>\n",
       "</div>"
      ],
      "text/plain": [
       "  age_upon_intake animal_id              datetime_in  \\\n",
       "0         8 years   A706918  2015-07-05T12:59:00.000   \n",
       "1       11 months   A724273  2016-04-14T18:43:00.000   \n",
       "2         4 weeks   A665644  2013-10-21T07:59:00.000   \n",
       "3         4 years   A682524  2014-06-29T10:38:00.000   \n",
       "4         2 years   A743852  2017-02-18T12:46:00.000   \n",
       "\n",
       "                       found_location intake_condition      intake_type  \\\n",
       "0    9409 Bluegrass Dr in Austin (TX)           Normal            Stray   \n",
       "1  2818 Palomino Trail in Austin (TX)           Normal            Stray   \n",
       "2                         Austin (TX)             Sick            Stray   \n",
       "3       800 Grove Blvd in Austin (TX)           Normal            Stray   \n",
       "4                         Austin (TX)           Normal  Owner Surrender   \n",
       "\n",
       "  sex_upon_intake age_upon_outcome animal_type_out  \\\n",
       "0   Spayed Female          8 years             Dog   \n",
       "1     Intact Male           1 year             Dog   \n",
       "2   Intact Female          4 weeks             Cat   \n",
       "3   Neutered Male          4 years             Dog   \n",
       "4   Neutered Male          2 years             Dog   \n",
       "\n",
       "                               breed_out    color_out        date_of_birth  \\\n",
       "0               English Springer Spaniel  White/Liver  2007-07-05T00:00:00   \n",
       "1                            Basenji Mix  Sable/White  2015-04-17T00:00:00   \n",
       "2                 Domestic Shorthair Mix       Calico  2013-09-21T00:00:00   \n",
       "3  Doberman Pinsch/Australian Cattle Dog     Tan/Gray  2010-06-29T00:00:00   \n",
       "4                 Labrador Retriever Mix    Chocolate  2015-02-18T00:00:00   \n",
       "\n",
       "          datetime_out            monthyear name_out outcome_subtype  \\\n",
       "0  2015-07-05T15:13:00  2015-07-05T15:13:00    Belle             NaN   \n",
       "1  2016-04-21T17:17:00  2016-04-21T17:17:00  Runster             NaN   \n",
       "2  2013-10-21T11:39:00  2013-10-21T11:39:00      NaN         Partner   \n",
       "3  2014-07-02T14:16:00  2014-07-02T14:16:00      Rio             NaN   \n",
       "4  2017-02-21T17:44:00  2017-02-21T17:44:00     Odin             NaN   \n",
       "\n",
       "      outcome_type sex_upon_outcome  \n",
       "0  Return to Owner    Spayed Female  \n",
       "1  Return to Owner    Neutered Male  \n",
       "2         Transfer    Intact Female  \n",
       "3  Return to Owner    Neutered Male  \n",
       "4  Return to Owner    Neutered Male  "
      ]
     },
     "execution_count": 35,
     "metadata": {},
     "output_type": "execute_result"
    }
   ],
   "source": [
    "df.head()"
   ]
  },
  {
   "cell_type": "code",
   "execution_count": 37,
   "metadata": {},
   "outputs": [],
   "source": [
    "df.rename(mapper={'animal_type_out': 'animal_type', 'breed_out': 'breed', 'color_out': 'color',\n",
    "                  'name_out': 'name'}, inplace=True)"
   ]
  },
  {
   "cell_type": "code",
   "execution_count": 39,
   "metadata": {},
   "outputs": [],
   "source": [
    "df.drop(labels=['monthyear'], axis=1, inplace=True)"
   ]
  },
  {
   "cell_type": "code",
   "execution_count": 40,
   "metadata": {},
   "outputs": [
    {
     "data": {
      "text/plain": [
       "array(['age_upon_intake', 'animal_id', 'datetime_in', 'found_location',\n",
       "       'intake_condition', 'intake_type', 'sex_upon_intake',\n",
       "       'age_upon_outcome', 'animal_type_out', 'breed_out', 'color_out',\n",
       "       'date_of_birth', 'datetime_out', 'name_out', 'outcome_subtype',\n",
       "       'outcome_type', 'sex_upon_outcome'], dtype=object)"
      ]
     },
     "execution_count": 40,
     "metadata": {},
     "output_type": "execute_result"
    }
   ],
   "source": [
    "df.columns.values"
   ]
  },
  {
   "cell_type": "code",
   "execution_count": 41,
   "metadata": {},
   "outputs": [
    {
     "data": {
      "text/plain": [
       "(100230, 17)"
      ]
     },
     "execution_count": 41,
     "metadata": {},
     "output_type": "execute_result"
    }
   ],
   "source": [
    "df.shape"
   ]
  }
 ],
 "metadata": {
  "kernelspec": {
   "display_name": "Python 3",
   "language": "python",
   "name": "python3"
  },
  "language_info": {
   "codemirror_mode": {
    "name": "ipython",
    "version": 3
   },
   "file_extension": ".py",
   "mimetype": "text/x-python",
   "name": "python",
   "nbconvert_exporter": "python",
   "pygments_lexer": "ipython3",
   "version": "3.6.5"
  }
 },
 "nbformat": 4,
 "nbformat_minor": 2
}
