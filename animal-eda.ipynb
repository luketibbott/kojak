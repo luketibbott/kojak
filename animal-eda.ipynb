{
 "cells": [
  {
   "cell_type": "code",
   "execution_count": 3,
   "metadata": {},
   "outputs": [
    {
     "name": "stdout",
     "output_type": "stream",
     "text": [
      "The autoreload extension is already loaded. To reload it, use:\n",
      "  %reload_ext autoreload\n"
     ]
    }
   ],
   "source": [
    "import pandas as pd\n",
    "import numpy as np\n",
    "import matplotlib.pyplot as plt\n",
    "import re\n",
    "import animalhelper\n",
    "\n",
    "%matplotlib inline\n",
    "\n",
    "%load_ext autoreload\n",
    "%autoreload 2"
   ]
  },
  {
   "cell_type": "code",
   "execution_count": 4,
   "metadata": {},
   "outputs": [],
   "source": [
    "df_out = pd.read_csv('data/aac_outcomes.csv')"
   ]
  },
  {
   "cell_type": "code",
   "execution_count": 5,
   "metadata": {},
   "outputs": [],
   "source": [
    "df_in = pd.read_csv('data/aac_intakes.csv')"
   ]
  },
  {
   "cell_type": "code",
   "execution_count": 6,
   "metadata": {},
   "outputs": [
    {
     "name": "stdout",
     "output_type": "stream",
     "text": [
      "<class 'pandas.core.frame.DataFrame'>\n",
      "RangeIndex: 80681 entries, 0 to 80680\n",
      "Data columns (total 12 columns):\n",
      "age_upon_outcome    80673 non-null object\n",
      "animal_id           80681 non-null object\n",
      "animal_type         80681 non-null object\n",
      "breed               80681 non-null object\n",
      "color               80681 non-null object\n",
      "date_of_birth       80681 non-null object\n",
      "datetime            80681 non-null object\n",
      "monthyear           80681 non-null object\n",
      "name                56116 non-null object\n",
      "outcome_subtype     36893 non-null object\n",
      "outcome_type        80667 non-null object\n",
      "sex_upon_outcome    80679 non-null object\n",
      "dtypes: object(12)\n",
      "memory usage: 7.4+ MB\n"
     ]
    }
   ],
   "source": [
    "df_out.info()"
   ]
  },
  {
   "cell_type": "code",
   "execution_count": 7,
   "metadata": {},
   "outputs": [
    {
     "name": "stdout",
     "output_type": "stream",
     "text": [
      "<class 'pandas.core.frame.DataFrame'>\n",
      "RangeIndex: 80187 entries, 0 to 80186\n",
      "Data columns (total 12 columns):\n",
      "age_upon_intake     80187 non-null object\n",
      "animal_id           80187 non-null object\n",
      "animal_type         80187 non-null object\n",
      "breed               80187 non-null object\n",
      "color               80187 non-null object\n",
      "datetime            80187 non-null object\n",
      "datetime2           80187 non-null object\n",
      "found_location      80187 non-null object\n",
      "intake_condition    80187 non-null object\n",
      "intake_type         80187 non-null object\n",
      "name                55603 non-null object\n",
      "sex_upon_intake     80186 non-null object\n",
      "dtypes: object(12)\n",
      "memory usage: 7.3+ MB\n"
     ]
    }
   ],
   "source": [
    "df_in.info()"
   ]
  },
  {
   "cell_type": "code",
   "execution_count": 8,
   "metadata": {},
   "outputs": [],
   "source": [
    "df = df_in.merge(df_out, on='animal_id', suffixes=('_in', '_out'))"
   ]
  },
  {
   "cell_type": "code",
   "execution_count": 9,
   "metadata": {},
   "outputs": [
    {
     "data": {
      "text/plain": [
       "array(['age_upon_intake', 'animal_id', 'animal_type_in', 'breed_in',\n",
       "       'color_in', 'datetime_in', 'datetime2', 'found_location',\n",
       "       'intake_condition', 'intake_type', 'name_in', 'sex_upon_intake',\n",
       "       'age_upon_outcome', 'animal_type_out', 'breed_out', 'color_out',\n",
       "       'date_of_birth', 'datetime_out', 'monthyear', 'name_out',\n",
       "       'outcome_subtype', 'outcome_type', 'sex_upon_outcome'],\n",
       "      dtype=object)"
      ]
     },
     "execution_count": 9,
     "metadata": {},
     "output_type": "execute_result"
    }
   ],
   "source": [
    "df.columns.values"
   ]
  },
  {
   "cell_type": "markdown",
   "metadata": {},
   "source": [
    "## Drop columns that will stay the same across out and in"
   ]
  },
  {
   "cell_type": "code",
   "execution_count": 10,
   "metadata": {},
   "outputs": [],
   "source": [
    "df = df.drop(labels=['animal_type_in', 'breed_in', 'color_in', 'datetime2', 'name_in'], axis=1)"
   ]
  },
  {
   "cell_type": "code",
   "execution_count": 11,
   "metadata": {},
   "outputs": [
    {
     "data": {
      "text/plain": [
       "array(['age_upon_intake', 'animal_id', 'datetime_in', 'found_location',\n",
       "       'intake_condition', 'intake_type', 'sex_upon_intake',\n",
       "       'age_upon_outcome', 'animal_type_out', 'breed_out', 'color_out',\n",
       "       'date_of_birth', 'datetime_out', 'monthyear', 'name_out',\n",
       "       'outcome_subtype', 'outcome_type', 'sex_upon_outcome'],\n",
       "      dtype=object)"
      ]
     },
     "execution_count": 11,
     "metadata": {},
     "output_type": "execute_result"
    }
   ],
   "source": [
    "df.columns.values"
   ]
  },
  {
   "cell_type": "code",
   "execution_count": 12,
   "metadata": {},
   "outputs": [
    {
     "data": {
      "text/html": [
       "<div>\n",
       "<style scoped>\n",
       "    .dataframe tbody tr th:only-of-type {\n",
       "        vertical-align: middle;\n",
       "    }\n",
       "\n",
       "    .dataframe tbody tr th {\n",
       "        vertical-align: top;\n",
       "    }\n",
       "\n",
       "    .dataframe thead th {\n",
       "        text-align: right;\n",
       "    }\n",
       "</style>\n",
       "<table border=\"1\" class=\"dataframe\">\n",
       "  <thead>\n",
       "    <tr style=\"text-align: right;\">\n",
       "      <th></th>\n",
       "      <th>age_upon_intake</th>\n",
       "      <th>animal_id</th>\n",
       "      <th>datetime_in</th>\n",
       "      <th>found_location</th>\n",
       "      <th>intake_condition</th>\n",
       "      <th>intake_type</th>\n",
       "      <th>sex_upon_intake</th>\n",
       "      <th>age_upon_outcome</th>\n",
       "      <th>animal_type_out</th>\n",
       "      <th>breed_out</th>\n",
       "      <th>color_out</th>\n",
       "      <th>date_of_birth</th>\n",
       "      <th>datetime_out</th>\n",
       "      <th>monthyear</th>\n",
       "      <th>name_out</th>\n",
       "      <th>outcome_subtype</th>\n",
       "      <th>outcome_type</th>\n",
       "      <th>sex_upon_outcome</th>\n",
       "    </tr>\n",
       "  </thead>\n",
       "  <tbody>\n",
       "    <tr>\n",
       "      <th>0</th>\n",
       "      <td>8 years</td>\n",
       "      <td>A706918</td>\n",
       "      <td>2015-07-05T12:59:00.000</td>\n",
       "      <td>9409 Bluegrass Dr in Austin (TX)</td>\n",
       "      <td>Normal</td>\n",
       "      <td>Stray</td>\n",
       "      <td>Spayed Female</td>\n",
       "      <td>8 years</td>\n",
       "      <td>Dog</td>\n",
       "      <td>English Springer Spaniel</td>\n",
       "      <td>White/Liver</td>\n",
       "      <td>2007-07-05T00:00:00</td>\n",
       "      <td>2015-07-05T15:13:00</td>\n",
       "      <td>2015-07-05T15:13:00</td>\n",
       "      <td>Belle</td>\n",
       "      <td>NaN</td>\n",
       "      <td>Return to Owner</td>\n",
       "      <td>Spayed Female</td>\n",
       "    </tr>\n",
       "    <tr>\n",
       "      <th>1</th>\n",
       "      <td>11 months</td>\n",
       "      <td>A724273</td>\n",
       "      <td>2016-04-14T18:43:00.000</td>\n",
       "      <td>2818 Palomino Trail in Austin (TX)</td>\n",
       "      <td>Normal</td>\n",
       "      <td>Stray</td>\n",
       "      <td>Intact Male</td>\n",
       "      <td>1 year</td>\n",
       "      <td>Dog</td>\n",
       "      <td>Basenji Mix</td>\n",
       "      <td>Sable/White</td>\n",
       "      <td>2015-04-17T00:00:00</td>\n",
       "      <td>2016-04-21T17:17:00</td>\n",
       "      <td>2016-04-21T17:17:00</td>\n",
       "      <td>Runster</td>\n",
       "      <td>NaN</td>\n",
       "      <td>Return to Owner</td>\n",
       "      <td>Neutered Male</td>\n",
       "    </tr>\n",
       "    <tr>\n",
       "      <th>2</th>\n",
       "      <td>4 weeks</td>\n",
       "      <td>A665644</td>\n",
       "      <td>2013-10-21T07:59:00.000</td>\n",
       "      <td>Austin (TX)</td>\n",
       "      <td>Sick</td>\n",
       "      <td>Stray</td>\n",
       "      <td>Intact Female</td>\n",
       "      <td>4 weeks</td>\n",
       "      <td>Cat</td>\n",
       "      <td>Domestic Shorthair Mix</td>\n",
       "      <td>Calico</td>\n",
       "      <td>2013-09-21T00:00:00</td>\n",
       "      <td>2013-10-21T11:39:00</td>\n",
       "      <td>2013-10-21T11:39:00</td>\n",
       "      <td>NaN</td>\n",
       "      <td>Partner</td>\n",
       "      <td>Transfer</td>\n",
       "      <td>Intact Female</td>\n",
       "    </tr>\n",
       "    <tr>\n",
       "      <th>3</th>\n",
       "      <td>4 years</td>\n",
       "      <td>A682524</td>\n",
       "      <td>2014-06-29T10:38:00.000</td>\n",
       "      <td>800 Grove Blvd in Austin (TX)</td>\n",
       "      <td>Normal</td>\n",
       "      <td>Stray</td>\n",
       "      <td>Neutered Male</td>\n",
       "      <td>4 years</td>\n",
       "      <td>Dog</td>\n",
       "      <td>Doberman Pinsch/Australian Cattle Dog</td>\n",
       "      <td>Tan/Gray</td>\n",
       "      <td>2010-06-29T00:00:00</td>\n",
       "      <td>2014-07-02T14:16:00</td>\n",
       "      <td>2014-07-02T14:16:00</td>\n",
       "      <td>Rio</td>\n",
       "      <td>NaN</td>\n",
       "      <td>Return to Owner</td>\n",
       "      <td>Neutered Male</td>\n",
       "    </tr>\n",
       "    <tr>\n",
       "      <th>4</th>\n",
       "      <td>2 years</td>\n",
       "      <td>A743852</td>\n",
       "      <td>2017-02-18T12:46:00.000</td>\n",
       "      <td>Austin (TX)</td>\n",
       "      <td>Normal</td>\n",
       "      <td>Owner Surrender</td>\n",
       "      <td>Neutered Male</td>\n",
       "      <td>2 years</td>\n",
       "      <td>Dog</td>\n",
       "      <td>Labrador Retriever Mix</td>\n",
       "      <td>Chocolate</td>\n",
       "      <td>2015-02-18T00:00:00</td>\n",
       "      <td>2017-02-21T17:44:00</td>\n",
       "      <td>2017-02-21T17:44:00</td>\n",
       "      <td>Odin</td>\n",
       "      <td>NaN</td>\n",
       "      <td>Return to Owner</td>\n",
       "      <td>Neutered Male</td>\n",
       "    </tr>\n",
       "  </tbody>\n",
       "</table>\n",
       "</div>"
      ],
      "text/plain": [
       "  age_upon_intake animal_id              datetime_in  \\\n",
       "0         8 years   A706918  2015-07-05T12:59:00.000   \n",
       "1       11 months   A724273  2016-04-14T18:43:00.000   \n",
       "2         4 weeks   A665644  2013-10-21T07:59:00.000   \n",
       "3         4 years   A682524  2014-06-29T10:38:00.000   \n",
       "4         2 years   A743852  2017-02-18T12:46:00.000   \n",
       "\n",
       "                       found_location intake_condition      intake_type  \\\n",
       "0    9409 Bluegrass Dr in Austin (TX)           Normal            Stray   \n",
       "1  2818 Palomino Trail in Austin (TX)           Normal            Stray   \n",
       "2                         Austin (TX)             Sick            Stray   \n",
       "3       800 Grove Blvd in Austin (TX)           Normal            Stray   \n",
       "4                         Austin (TX)           Normal  Owner Surrender   \n",
       "\n",
       "  sex_upon_intake age_upon_outcome animal_type_out  \\\n",
       "0   Spayed Female          8 years             Dog   \n",
       "1     Intact Male           1 year             Dog   \n",
       "2   Intact Female          4 weeks             Cat   \n",
       "3   Neutered Male          4 years             Dog   \n",
       "4   Neutered Male          2 years             Dog   \n",
       "\n",
       "                               breed_out    color_out        date_of_birth  \\\n",
       "0               English Springer Spaniel  White/Liver  2007-07-05T00:00:00   \n",
       "1                            Basenji Mix  Sable/White  2015-04-17T00:00:00   \n",
       "2                 Domestic Shorthair Mix       Calico  2013-09-21T00:00:00   \n",
       "3  Doberman Pinsch/Australian Cattle Dog     Tan/Gray  2010-06-29T00:00:00   \n",
       "4                 Labrador Retriever Mix    Chocolate  2015-02-18T00:00:00   \n",
       "\n",
       "          datetime_out            monthyear name_out outcome_subtype  \\\n",
       "0  2015-07-05T15:13:00  2015-07-05T15:13:00    Belle             NaN   \n",
       "1  2016-04-21T17:17:00  2016-04-21T17:17:00  Runster             NaN   \n",
       "2  2013-10-21T11:39:00  2013-10-21T11:39:00      NaN         Partner   \n",
       "3  2014-07-02T14:16:00  2014-07-02T14:16:00      Rio             NaN   \n",
       "4  2017-02-21T17:44:00  2017-02-21T17:44:00     Odin             NaN   \n",
       "\n",
       "      outcome_type sex_upon_outcome  \n",
       "0  Return to Owner    Spayed Female  \n",
       "1  Return to Owner    Neutered Male  \n",
       "2         Transfer    Intact Female  \n",
       "3  Return to Owner    Neutered Male  \n",
       "4  Return to Owner    Neutered Male  "
      ]
     },
     "execution_count": 12,
     "metadata": {},
     "output_type": "execute_result"
    }
   ],
   "source": [
    "df.head()"
   ]
  },
  {
   "cell_type": "code",
   "execution_count": 13,
   "metadata": {},
   "outputs": [],
   "source": [
    "df.drop(labels=['monthyear'], axis=1, inplace=True)"
   ]
  },
  {
   "cell_type": "code",
   "execution_count": 14,
   "metadata": {},
   "outputs": [],
   "source": [
    "df.drop(labels=['found_location'], axis=1, inplace=True)"
   ]
  },
  {
   "cell_type": "code",
   "execution_count": 15,
   "metadata": {},
   "outputs": [
    {
     "data": {
      "text/plain": [
       "array(['age_upon_intake', 'animal_id', 'datetime_in', 'intake_condition',\n",
       "       'intake_type', 'sex_upon_intake', 'age_upon_outcome',\n",
       "       'animal_type_out', 'breed_out', 'color_out', 'date_of_birth',\n",
       "       'datetime_out', 'name_out', 'outcome_subtype', 'outcome_type',\n",
       "       'sex_upon_outcome'], dtype=object)"
      ]
     },
     "execution_count": 15,
     "metadata": {},
     "output_type": "execute_result"
    }
   ],
   "source": [
    "df.columns.values"
   ]
  },
  {
   "cell_type": "code",
   "execution_count": 16,
   "metadata": {},
   "outputs": [],
   "source": [
    "df.rename(mapper={'animal_type_out': 'animal_type', 'breed_out': 'breed', 'color_out': 'color',\n",
    "                  'name_out': 'name'}, inplace=True, axis=1)"
   ]
  },
  {
   "cell_type": "code",
   "execution_count": 17,
   "metadata": {},
   "outputs": [
    {
     "data": {
      "text/plain": [
       "Dog          63145\n",
       "Cat          32280\n",
       "Other         4456\n",
       "Bird           340\n",
       "Livestock        9\n",
       "Name: animal_type, dtype: int64"
      ]
     },
     "execution_count": 17,
     "metadata": {},
     "output_type": "execute_result"
    }
   ],
   "source": [
    "df.animal_type.value_counts()"
   ]
  },
  {
   "cell_type": "code",
   "execution_count": 18,
   "metadata": {},
   "outputs": [
    {
     "data": {
      "text/html": [
       "<div>\n",
       "<style scoped>\n",
       "    .dataframe tbody tr th:only-of-type {\n",
       "        vertical-align: middle;\n",
       "    }\n",
       "\n",
       "    .dataframe tbody tr th {\n",
       "        vertical-align: top;\n",
       "    }\n",
       "\n",
       "    .dataframe thead th {\n",
       "        text-align: right;\n",
       "    }\n",
       "</style>\n",
       "<table border=\"1\" class=\"dataframe\">\n",
       "  <thead>\n",
       "    <tr style=\"text-align: right;\">\n",
       "      <th></th>\n",
       "      <th>age_upon_intake</th>\n",
       "      <th>animal_id</th>\n",
       "      <th>datetime_in</th>\n",
       "      <th>intake_condition</th>\n",
       "      <th>intake_type</th>\n",
       "      <th>sex_upon_intake</th>\n",
       "      <th>age_upon_outcome</th>\n",
       "      <th>animal_type</th>\n",
       "      <th>breed</th>\n",
       "      <th>color</th>\n",
       "      <th>date_of_birth</th>\n",
       "      <th>datetime_out</th>\n",
       "      <th>name</th>\n",
       "      <th>outcome_subtype</th>\n",
       "      <th>outcome_type</th>\n",
       "      <th>sex_upon_outcome</th>\n",
       "    </tr>\n",
       "  </thead>\n",
       "  <tbody>\n",
       "    <tr>\n",
       "      <th>18633</th>\n",
       "      <td>2 weeks</td>\n",
       "      <td>A674214</td>\n",
       "      <td>2014-03-09T16:45:00.000</td>\n",
       "      <td>Normal</td>\n",
       "      <td>Stray</td>\n",
       "      <td>Unknown</td>\n",
       "      <td>5 weeks</td>\n",
       "      <td>Livestock</td>\n",
       "      <td>Pig Mix</td>\n",
       "      <td>Black</td>\n",
       "      <td>2014-02-22T00:00:00</td>\n",
       "      <td>2014-03-29T14:00:00</td>\n",
       "      <td>NaN</td>\n",
       "      <td>Foster</td>\n",
       "      <td>Adoption</td>\n",
       "      <td>Unknown</td>\n",
       "    </tr>\n",
       "    <tr>\n",
       "      <th>18655</th>\n",
       "      <td>2 years</td>\n",
       "      <td>A701250</td>\n",
       "      <td>2015-04-26T12:37:00.000</td>\n",
       "      <td>Normal</td>\n",
       "      <td>Stray</td>\n",
       "      <td>Intact Female</td>\n",
       "      <td>2 years</td>\n",
       "      <td>Livestock</td>\n",
       "      <td>Pig Mix</td>\n",
       "      <td>Pink</td>\n",
       "      <td>2013-04-26T00:00:00</td>\n",
       "      <td>2015-05-11T00:00:00</td>\n",
       "      <td>NaN</td>\n",
       "      <td>Partner</td>\n",
       "      <td>Transfer</td>\n",
       "      <td>Intact Female</td>\n",
       "    </tr>\n",
       "    <tr>\n",
       "      <th>35658</th>\n",
       "      <td>1 year</td>\n",
       "      <td>A718910</td>\n",
       "      <td>2016-01-09T12:14:00.000</td>\n",
       "      <td>Normal</td>\n",
       "      <td>Stray</td>\n",
       "      <td>Intact Male</td>\n",
       "      <td>1 year</td>\n",
       "      <td>Livestock</td>\n",
       "      <td>Pig Mix</td>\n",
       "      <td>White</td>\n",
       "      <td>2015-01-09T00:00:00</td>\n",
       "      <td>2016-01-27T00:00:00</td>\n",
       "      <td>NaN</td>\n",
       "      <td>Partner</td>\n",
       "      <td>Transfer</td>\n",
       "      <td>Intact Male</td>\n",
       "    </tr>\n",
       "    <tr>\n",
       "      <th>72153</th>\n",
       "      <td>6 months</td>\n",
       "      <td>A742204</td>\n",
       "      <td>2017-01-17T12:22:00.000</td>\n",
       "      <td>Normal</td>\n",
       "      <td>Owner Surrender</td>\n",
       "      <td>Intact Female</td>\n",
       "      <td>7 months</td>\n",
       "      <td>Livestock</td>\n",
       "      <td>Potbelly Pig Mix</td>\n",
       "      <td>Black/White</td>\n",
       "      <td>2016-07-17T00:00:00</td>\n",
       "      <td>2017-03-15T12:49:00</td>\n",
       "      <td>NaN</td>\n",
       "      <td>Partner</td>\n",
       "      <td>Transfer</td>\n",
       "      <td>Intact Female</td>\n",
       "    </tr>\n",
       "    <tr>\n",
       "      <th>77502</th>\n",
       "      <td>6 months</td>\n",
       "      <td>A668167</td>\n",
       "      <td>2013-11-28T19:39:00.000</td>\n",
       "      <td>Normal</td>\n",
       "      <td>Stray</td>\n",
       "      <td>Intact Female</td>\n",
       "      <td>6 months</td>\n",
       "      <td>Livestock</td>\n",
       "      <td>Pig Mix</td>\n",
       "      <td>Black/White</td>\n",
       "      <td>2013-05-28T00:00:00</td>\n",
       "      <td>2013-11-30T12:18:00</td>\n",
       "      <td>NaN</td>\n",
       "      <td>NaN</td>\n",
       "      <td>Return to Owner</td>\n",
       "      <td>Intact Female</td>\n",
       "    </tr>\n",
       "    <tr>\n",
       "      <th>83194</th>\n",
       "      <td>1 year</td>\n",
       "      <td>A673651</td>\n",
       "      <td>2014-02-28T11:06:00.000</td>\n",
       "      <td>Normal</td>\n",
       "      <td>Stray</td>\n",
       "      <td>Neutered Male</td>\n",
       "      <td>1 year</td>\n",
       "      <td>Livestock</td>\n",
       "      <td>Pig Mix</td>\n",
       "      <td>Black/White</td>\n",
       "      <td>2013-02-28T00:00:00</td>\n",
       "      <td>2014-03-11T14:39:00</td>\n",
       "      <td>NaN</td>\n",
       "      <td>Foster</td>\n",
       "      <td>Adoption</td>\n",
       "      <td>Neutered Male</td>\n",
       "    </tr>\n",
       "    <tr>\n",
       "      <th>84791</th>\n",
       "      <td>1 year</td>\n",
       "      <td>A715047</td>\n",
       "      <td>2015-10-30T21:02:00.000</td>\n",
       "      <td>Normal</td>\n",
       "      <td>Public Assist</td>\n",
       "      <td>Unknown</td>\n",
       "      <td>1 year</td>\n",
       "      <td>Livestock</td>\n",
       "      <td>Goat Mix</td>\n",
       "      <td>Brown</td>\n",
       "      <td>2014-10-30T00:00:00</td>\n",
       "      <td>2015-12-07T00:00:00</td>\n",
       "      <td>NaN</td>\n",
       "      <td>Partner</td>\n",
       "      <td>Transfer</td>\n",
       "      <td>Unknown</td>\n",
       "    </tr>\n",
       "    <tr>\n",
       "      <th>85804</th>\n",
       "      <td>2 years</td>\n",
       "      <td>A764822</td>\n",
       "      <td>2018-01-06T17:34:00.000</td>\n",
       "      <td>Normal</td>\n",
       "      <td>Stray</td>\n",
       "      <td>Intact Female</td>\n",
       "      <td>2 years</td>\n",
       "      <td>Livestock</td>\n",
       "      <td>Potbelly Pig Mix</td>\n",
       "      <td>White</td>\n",
       "      <td>2016-01-06T00:00:00</td>\n",
       "      <td>2018-02-12T16:51:00</td>\n",
       "      <td>NaN</td>\n",
       "      <td>NaN</td>\n",
       "      <td>Adoption</td>\n",
       "      <td>Intact Female</td>\n",
       "    </tr>\n",
       "    <tr>\n",
       "      <th>86964</th>\n",
       "      <td>5 months</td>\n",
       "      <td>A679540</td>\n",
       "      <td>2014-05-22T14:22:00.000</td>\n",
       "      <td>Normal</td>\n",
       "      <td>Stray</td>\n",
       "      <td>Intact Male</td>\n",
       "      <td>6 months</td>\n",
       "      <td>Livestock</td>\n",
       "      <td>Goat Mix</td>\n",
       "      <td>Black</td>\n",
       "      <td>2013-11-22T00:00:00</td>\n",
       "      <td>2014-06-17T10:30:00</td>\n",
       "      <td>NaN</td>\n",
       "      <td>Partner</td>\n",
       "      <td>Transfer</td>\n",
       "      <td>Intact Male</td>\n",
       "    </tr>\n",
       "  </tbody>\n",
       "</table>\n",
       "</div>"
      ],
      "text/plain": [
       "      age_upon_intake animal_id              datetime_in intake_condition  \\\n",
       "18633         2 weeks   A674214  2014-03-09T16:45:00.000           Normal   \n",
       "18655         2 years   A701250  2015-04-26T12:37:00.000           Normal   \n",
       "35658          1 year   A718910  2016-01-09T12:14:00.000           Normal   \n",
       "72153        6 months   A742204  2017-01-17T12:22:00.000           Normal   \n",
       "77502        6 months   A668167  2013-11-28T19:39:00.000           Normal   \n",
       "83194          1 year   A673651  2014-02-28T11:06:00.000           Normal   \n",
       "84791          1 year   A715047  2015-10-30T21:02:00.000           Normal   \n",
       "85804         2 years   A764822  2018-01-06T17:34:00.000           Normal   \n",
       "86964        5 months   A679540  2014-05-22T14:22:00.000           Normal   \n",
       "\n",
       "           intake_type sex_upon_intake age_upon_outcome animal_type  \\\n",
       "18633            Stray         Unknown          5 weeks   Livestock   \n",
       "18655            Stray   Intact Female          2 years   Livestock   \n",
       "35658            Stray     Intact Male           1 year   Livestock   \n",
       "72153  Owner Surrender   Intact Female         7 months   Livestock   \n",
       "77502            Stray   Intact Female         6 months   Livestock   \n",
       "83194            Stray   Neutered Male           1 year   Livestock   \n",
       "84791    Public Assist         Unknown           1 year   Livestock   \n",
       "85804            Stray   Intact Female          2 years   Livestock   \n",
       "86964            Stray     Intact Male         6 months   Livestock   \n",
       "\n",
       "                  breed        color        date_of_birth  \\\n",
       "18633           Pig Mix        Black  2014-02-22T00:00:00   \n",
       "18655           Pig Mix         Pink  2013-04-26T00:00:00   \n",
       "35658           Pig Mix        White  2015-01-09T00:00:00   \n",
       "72153  Potbelly Pig Mix  Black/White  2016-07-17T00:00:00   \n",
       "77502           Pig Mix  Black/White  2013-05-28T00:00:00   \n",
       "83194           Pig Mix  Black/White  2013-02-28T00:00:00   \n",
       "84791          Goat Mix        Brown  2014-10-30T00:00:00   \n",
       "85804  Potbelly Pig Mix        White  2016-01-06T00:00:00   \n",
       "86964          Goat Mix        Black  2013-11-22T00:00:00   \n",
       "\n",
       "              datetime_out name outcome_subtype     outcome_type  \\\n",
       "18633  2014-03-29T14:00:00  NaN          Foster         Adoption   \n",
       "18655  2015-05-11T00:00:00  NaN         Partner         Transfer   \n",
       "35658  2016-01-27T00:00:00  NaN         Partner         Transfer   \n",
       "72153  2017-03-15T12:49:00  NaN         Partner         Transfer   \n",
       "77502  2013-11-30T12:18:00  NaN             NaN  Return to Owner   \n",
       "83194  2014-03-11T14:39:00  NaN          Foster         Adoption   \n",
       "84791  2015-12-07T00:00:00  NaN         Partner         Transfer   \n",
       "85804  2018-02-12T16:51:00  NaN             NaN         Adoption   \n",
       "86964  2014-06-17T10:30:00  NaN         Partner         Transfer   \n",
       "\n",
       "      sex_upon_outcome  \n",
       "18633          Unknown  \n",
       "18655    Intact Female  \n",
       "35658      Intact Male  \n",
       "72153    Intact Female  \n",
       "77502    Intact Female  \n",
       "83194    Neutered Male  \n",
       "84791          Unknown  \n",
       "85804    Intact Female  \n",
       "86964      Intact Male  "
      ]
     },
     "execution_count": 18,
     "metadata": {},
     "output_type": "execute_result"
    }
   ],
   "source": [
    "df[df.animal_type == 'Livestock']"
   ]
  },
  {
   "cell_type": "code",
   "execution_count": 18,
   "metadata": {},
   "outputs": [
    {
     "data": {
      "image/png": "[encoded data removed]",
      "text/plain": [
       "<Figure size 864x576 with 1 Axes>"
      ]
     },
     "metadata": {},
     "output_type": "display_data"
    }
   ],
   "source": [
    "plt.figure(figsize=(12, 8))\n",
    "\n",
    "plt.bar(df.intake_condition.unique(), df.intake_condition.value_counts(), color='green', alpha=0.5);"
   ]
  },
  {
   "cell_type": "code",
   "execution_count": 19,
   "metadata": {},
   "outputs": [
    {
     "data": {
      "text/plain": [
       "Normal      89768\n",
       "Injured      4509\n",
       "Sick         3277\n",
       "Nursing      1971\n",
       "Aged          376\n",
       "Other         174\n",
       "Feral          96\n",
       "Pregnant       59\n",
       "Name: intake_condition, dtype: int64"
      ]
     },
     "execution_count": 19,
     "metadata": {},
     "output_type": "execute_result"
    }
   ],
   "source": [
    "df.intake_condition.value_counts()"
   ]
  },
  {
   "cell_type": "code",
   "execution_count": 20,
   "metadata": {},
   "outputs": [
    {
     "data": {
      "text/plain": [
       "array(['age_upon_intake', 'animal_id', 'datetime_in', 'intake_condition',\n",
       "       'intake_type', 'sex_upon_intake', 'age_upon_outcome',\n",
       "       'animal_type', 'breed', 'color', 'date_of_birth', 'datetime_out',\n",
       "       'name', 'outcome_subtype', 'outcome_type', 'sex_upon_outcome'],\n",
       "      dtype=object)"
      ]
     },
     "execution_count": 20,
     "metadata": {},
     "output_type": "execute_result"
    }
   ],
   "source": [
    "df.columns.values"
   ]
  },
  {
   "cell_type": "code",
   "execution_count": 21,
   "metadata": {},
   "outputs": [
    {
     "data": {
      "text/plain": [
       "0           [8, years]\n",
       "1         [11, months]\n",
       "2           [4, weeks]\n",
       "3           [4, years]\n",
       "4           [2, years]\n",
       "5           [2, years]\n",
       "6          [5, months]\n",
       "7          [5, months]\n",
       "8          [4, months]\n",
       "9          [4, months]\n",
       "10          [2, years]\n",
       "11         [5, months]\n",
       "12          [2, years]\n",
       "13          [2, years]\n",
       "14         [14, years]\n",
       "15         [14, years]\n",
       "16          [4, weeks]\n",
       "17          [1, month]\n",
       "18         [2, months]\n",
       "19         [18, years]\n",
       "20          [2, years]\n",
       "21         [5, months]\n",
       "22         [4, months]\n",
       "23           [1, year]\n",
       "24          [2, years]\n",
       "25          [2, years]\n",
       "26          [2, years]\n",
       "27          [2, years]\n",
       "28          [1, month]\n",
       "29           [1, year]\n",
       "              ...     \n",
       "100200      [4, years]\n",
       "100201      [4, years]\n",
       "100202      [3, years]\n",
       "100203      [3, years]\n",
       "100204      [7, years]\n",
       "100205     [8, months]\n",
       "100206     [2, months]\n",
       "100207      [1, month]\n",
       "100208      [3, years]\n",
       "100209      [1, month]\n",
       "100210      [1, month]\n",
       "100211      [1, month]\n",
       "100212      [1, month]\n",
       "100213      [2, weeks]\n",
       "100214      [2, weeks]\n",
       "100215      [2, weeks]\n",
       "100216       [1, year]\n",
       "100217      [2, weeks]\n",
       "100218      [2, weeks]\n",
       "100219      [2, weeks]\n",
       "100220     [5, months]\n",
       "100221     [6, months]\n",
       "100222      [1, month]\n",
       "100223      [1, month]\n",
       "100224     [5, months]\n",
       "100225     [5, months]\n",
       "100226       [1, year]\n",
       "100227     [10, years]\n",
       "100228      [5, years]\n",
       "100229      [2, years]\n",
       "Name: age_upon_intake, Length: 100230, dtype: object"
      ]
     },
     "execution_count": 21,
     "metadata": {},
     "output_type": "execute_result"
    }
   ],
   "source": [
    "df.age_upon_intake.str.split(' ')"
   ]
  },
  {
   "cell_type": "code",
   "execution_count": 24,
   "metadata": {},
   "outputs": [],
   "source": [
    "df.to_csv('master_df.csv')"
   ]
  },
  {
   "cell_type": "code",
   "execution_count": 25,
   "metadata": {},
   "outputs": [
    {
     "data": {
      "text/plain": [
       "1 year       19308\n",
       "2 years      15549\n",
       "1 month       7945\n",
       "3 years       7428\n",
       "2 months      4614\n",
       "4 years       4439\n",
       "5 years       3832\n",
       "4 weeks       2890\n",
       "6 years       2568\n",
       "4 months      2452\n",
       "5 months      2380\n",
       "3 weeks       2313\n",
       "3 months      2224\n",
       "7 years       2170\n",
       "8 years       2006\n",
       "6 months      1857\n",
       "2 weeks       1615\n",
       "9 months      1553\n",
       "7 months      1539\n",
       "10 years      1393\n",
       "8 months      1188\n",
       "9 years       1157\n",
       "10 months     1085\n",
       "11 months      796\n",
       "12 years       705\n",
       "1 week         674\n",
       "11 years       605\n",
       "1 weeks        532\n",
       "0 years        471\n",
       "13 years       451\n",
       "1 day          356\n",
       "3 days         351\n",
       "14 years       288\n",
       "2 days         276\n",
       "15 years       254\n",
       "5 weeks        203\n",
       "6 days         196\n",
       "4 days         193\n",
       "5 days         125\n",
       "16 years       117\n",
       "17 years        70\n",
       "18 years        29\n",
       "20 years        14\n",
       "19 years        14\n",
       "22 years         4\n",
       "25 years         1\n",
       "Name: age_upon_intake, dtype: int64"
      ]
     },
     "execution_count": 25,
     "metadata": {},
     "output_type": "execute_result"
    }
   ],
   "source": [
    "df.age_upon_intake.value_counts()"
   ]
  }
 ],
 "metadata": {
  "kernelspec": {
   "display_name": "Python 3",
   "language": "python",
   "name": "python3"
  },
  "language_info": {
   "codemirror_mode": {
    "name": "ipython",
    "version": 3
   },
   "file_extension": ".py",
   "mimetype": "text/x-python",
   "name": "python",
   "nbconvert_exporter": "python",
   "pygments_lexer": "ipython3",
   "version": "3.6.5"
  }
 },
 "nbformat": 4,
 "nbformat_minor": 2
}
