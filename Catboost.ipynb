{
 "cells": [
  {
   "cell_type": "code",
   "execution_count": 158,
   "metadata": {},
   "outputs": [],
   "source": [
    "import pandas as pd\n",
    "import numpy as np\n",
    "import matplotlib.pyplot as plt\n",
    "\n",
    "from sklearn.ensemble import RandomForestClassifier\n",
    "from sklearn.model_selection import cross_val_score\n",
    "from sklearn.model_selection import train_test_split\n",
    "from sklearn.model_selection import RandomizedSearchCV\n",
    "from sklearn.model_selection import StratifiedKFold\n",
    "from sklearn.preprocessing import LabelEncoder\n",
    "from sklearn.preprocessing import StandardScaler\n",
    "from sklearn.pipeline import make_pipeline\n",
    "from sklearn.metrics import log_loss\n",
    "\n",
    "from catboost import CatBoostClassifier\n",
    "\n",
    "from skopt import BayesSearchCV\n",
    "\n",
    "from xgboost import XGBClassifier\n",
    "\n",
    "import pickle\n",
    "\n",
    "%matplotlib inline"
   ]
  },
  {
   "cell_type": "code",
   "execution_count": 172,
   "metadata": {},
   "outputs": [],
   "source": [
    "class BayesSearchCV(BayesSearchCV):\n",
    "    def _run_search(self, x): raise BaseException('Use newer skopt')"
   ]
  },
  {
   "cell_type": "code",
   "execution_count": 66,
   "metadata": {},
   "outputs": [
    {
     "name": "stdout",
     "output_type": "stream",
     "text": [
      "\u001b[31maac_intakes.csv\u001b[m\u001b[m          df_dog.csv               master12218.csv\r\n",
      "\u001b[31maac_intakes_outcomes.csv\u001b[m\u001b[m df_mod.csv               master_df.csv\r\n",
      "\u001b[31maac_outcomes.csv\u001b[m\u001b[m         engineered.csv           master_df_1128.csv\r\n",
      "all_categoricals.csv     group_shade.csv          master_df_1129.csv\r\n",
      "concat_backup.csv        hour_ids.csv             model12218.csv\r\n",
      "df_cat.csv               hr_name.csv\r\n"
     ]
    }
   ],
   "source": [
    "!ls data"
   ]
  },
  {
   "cell_type": "code",
   "execution_count": 89,
   "metadata": {},
   "outputs": [],
   "source": [
    "df_raw = pd.read_csv('./data/master12218.csv', index_col=0)"
   ]
  },
  {
   "cell_type": "code",
   "execution_count": 90,
   "metadata": {},
   "outputs": [],
   "source": [
    "df_raw['datetime_in'] = pd.to_datetime(df_raw['datetime_in'])"
   ]
  },
  {
   "cell_type": "code",
   "execution_count": 91,
   "metadata": {},
   "outputs": [],
   "source": [
    "df_raw['hour'] = df_raw['datetime_in'].dt.hour + (df_raw['datetime_in'].dt.minute/60.0)"
   ]
  },
  {
   "cell_type": "code",
   "execution_count": 92,
   "metadata": {},
   "outputs": [],
   "source": [
    "df_raw = df_raw[~df_raw.duplicated()]"
   ]
  },
  {
   "cell_type": "code",
   "execution_count": 126,
   "metadata": {},
   "outputs": [
    {
     "name": "stdout",
     "output_type": "stream",
     "text": [
      "<class 'pandas.core.frame.DataFrame'>\n",
      "Int64Index: 64906 entries, 0 to 75010\n",
      "Data columns (total 19 columns):\n",
      "age                 64906 non-null int64\n",
      "animal_type         64906 non-null object\n",
      "days_in_shelter     64906 non-null int64\n",
      "dow                 64906 non-null int64\n",
      "fixed_status        64906 non-null object\n",
      "gender              64906 non-null int64\n",
      "group               64906 non-null object\n",
      "intake_condition    64906 non-null object\n",
      "intake_season       64906 non-null object\n",
      "intake_type         64906 non-null object\n",
      "mix                 64906 non-null int64\n",
      "name                64906 non-null int64\n",
      "outcome_type        64696 non-null object\n",
      "simple_color        64906 non-null object\n",
      "simple_group        64906 non-null object\n",
      "shade               64906 non-null object\n",
      "given_name          47196 non-null object\n",
      "name_freq           64906 non-null int64\n",
      "hour                64906 non-null float64\n",
      "dtypes: float64(1), int64(7), object(11)\n",
      "memory usage: 9.9+ MB\n"
     ]
    }
   ],
   "source": [
    "df_raw.info()"
   ]
  },
  {
   "cell_type": "code",
   "execution_count": 94,
   "metadata": {},
   "outputs": [],
   "source": [
    "df_raw.drop(labels=['animal_id', 'datetime_in', 'hour_in'], axis=1, inplace=True)"
   ]
  },
  {
   "cell_type": "code",
   "execution_count": 95,
   "metadata": {},
   "outputs": [],
   "source": [
    "df_raw.drop_duplicates(inplace=True)"
   ]
  },
  {
   "cell_type": "code",
   "execution_count": 118,
   "metadata": {},
   "outputs": [
    {
     "data": {
      "text/plain": [
       "Adoption           29197\n",
       "Transfer           20117\n",
       "Return to Owner    12067\n",
       "Euthanasia          2788\n",
       "Died                 527\n",
       "Rto-Adopt            147\n",
       "Missing               41\n",
       "Disposal              22\n",
       "Name: outcome_type, dtype: int64"
      ]
     },
     "execution_count": 118,
     "metadata": {},
     "output_type": "execute_result"
    }
   ],
   "source": [
    "df_raw.outcome_type.value_counts()"
   ]
  },
  {
   "cell_type": "code",
   "execution_count": 119,
   "metadata": {},
   "outputs": [],
   "source": [
    "df_raw = df_raw[df_raw != 'Rto-Adopt']\n",
    "df_raw = df_raw[df_raw != 'Missing']\n",
    "df_raw = df_raw[df_raw != 'Disposal']"
   ]
  },
  {
   "cell_type": "code",
   "execution_count": 96,
   "metadata": {},
   "outputs": [],
   "source": [
    "df = pd.read_csv('./data/model12218.csv', index_col = 0)"
   ]
  },
  {
   "cell_type": "code",
   "execution_count": 97,
   "metadata": {},
   "outputs": [
    {
     "name": "stdout",
     "output_type": "stream",
     "text": [
      "<class 'pandas.core.frame.DataFrame'>\n",
      "Int64Index: 64339 entries, 0 to 75010\n",
      "Data columns (total 18 columns):\n",
      "age                 64339 non-null int64\n",
      "animal_type         64339 non-null object\n",
      "dow                 64339 non-null int64\n",
      "fixed_status        64339 non-null object\n",
      "gender              64339 non-null int64\n",
      "group               64339 non-null object\n",
      "intake_condition    64339 non-null object\n",
      "intake_season       64339 non-null object\n",
      "intake_type         64339 non-null object\n",
      "mix                 64339 non-null int64\n",
      "simple_color        64339 non-null object\n",
      "hour_in             64339 non-null int64\n",
      "simple_group        64339 non-null object\n",
      "shade               64339 non-null object\n",
      "given_name          47018 non-null object\n",
      "name_freq           64339 non-null int64\n",
      "days_in_shelter     64339 non-null int64\n",
      "outcome_type        64339 non-null object\n",
      "dtypes: int64(7), object(11)\n",
      "memory usage: 9.3+ MB\n"
     ]
    }
   ],
   "source": [
    "df.info()"
   ]
  },
  {
   "cell_type": "code",
   "execution_count": 98,
   "metadata": {},
   "outputs": [],
   "source": [
    "df['gender'] = df['gender'].astype(str)"
   ]
  },
  {
   "cell_type": "code",
   "execution_count": 99,
   "metadata": {},
   "outputs": [],
   "source": [
    "df['dow'] = df['dow'].astype(str)\n",
    "df['mix'] = df['mix'].astype(str)\n",
    "df['hour_in'] = df['hour_in'].astype(str)"
   ]
  },
  {
   "cell_type": "code",
   "execution_count": 100,
   "metadata": {},
   "outputs": [],
   "source": [
    "df = df.drop(labels=['days_in_shelter'], axis=1)"
   ]
  },
  {
   "cell_type": "code",
   "execution_count": 101,
   "metadata": {},
   "outputs": [],
   "source": [
    "df = df[~df.duplicated()]"
   ]
  },
  {
   "cell_type": "code",
   "execution_count": 102,
   "metadata": {},
   "outputs": [],
   "source": [
    "df.reset_index(inplace=True, drop=True)"
   ]
  },
  {
   "cell_type": "code",
   "execution_count": 161,
   "metadata": {},
   "outputs": [],
   "source": [
    "def reduce_response(x):\n",
    "    if x == 'Adoption':\n",
    "        return x\n",
    "    else:\n",
    "        return 'Not Adoption'"
   ]
  },
  {
   "cell_type": "code",
   "execution_count": 163,
   "metadata": {},
   "outputs": [],
   "source": [
    "df['outcome_type'] = df['outcome_type'].apply(lambda x: reduce_response(x))"
   ]
  },
  {
   "cell_type": "code",
   "execution_count": 164,
   "metadata": {},
   "outputs": [],
   "source": [
    "X = df.iloc[:, :-1]\n",
    "y = df.iloc[:, -1]"
   ]
  },
  {
   "cell_type": "code",
   "execution_count": 165,
   "metadata": {},
   "outputs": [],
   "source": [
    "X = X.drop(labels=['given_name'], axis=1)"
   ]
  },
  {
   "cell_type": "code",
   "execution_count": 166,
   "metadata": {},
   "outputs": [],
   "source": [
    "le = LabelEncoder()\n",
    "le.fit(y)\n",
    "y = le.transform(y)"
   ]
  },
  {
   "cell_type": "code",
   "execution_count": 167,
   "metadata": {},
   "outputs": [],
   "source": [
    "X_train, X_test, y_train, y_test = train_test_split(X, y)"
   ]
  },
  {
   "cell_type": "code",
   "execution_count": 168,
   "metadata": {},
   "outputs": [
    {
     "data": {
      "text/html": [
       "<div>\n",
       "<style scoped>\n",
       "    .dataframe tbody tr th:only-of-type {\n",
       "        vertical-align: middle;\n",
       "    }\n",
       "\n",
       "    .dataframe tbody tr th {\n",
       "        vertical-align: top;\n",
       "    }\n",
       "\n",
       "    .dataframe thead th {\n",
       "        text-align: right;\n",
       "    }\n",
       "</style>\n",
       "<table border=\"1\" class=\"dataframe\">\n",
       "  <thead>\n",
       "    <tr style=\"text-align: right;\">\n",
       "      <th></th>\n",
       "      <th>age</th>\n",
       "      <th>animal_type</th>\n",
       "      <th>dow</th>\n",
       "      <th>fixed_status</th>\n",
       "      <th>gender</th>\n",
       "      <th>group</th>\n",
       "      <th>intake_condition</th>\n",
       "      <th>intake_season</th>\n",
       "      <th>intake_type</th>\n",
       "      <th>mix</th>\n",
       "      <th>simple_color</th>\n",
       "      <th>hour_in</th>\n",
       "      <th>simple_group</th>\n",
       "      <th>shade</th>\n",
       "      <th>name_freq</th>\n",
       "    </tr>\n",
       "  </thead>\n",
       "  <tbody>\n",
       "    <tr>\n",
       "      <th>0</th>\n",
       "      <td>2920</td>\n",
       "      <td>Dog</td>\n",
       "      <td>6</td>\n",
       "      <td>fixed</td>\n",
       "      <td>1</td>\n",
       "      <td>Sporting</td>\n",
       "      <td>Normal</td>\n",
       "      <td>summer</td>\n",
       "      <td>Stray</td>\n",
       "      <td>0</td>\n",
       "      <td>White</td>\n",
       "      <td>12</td>\n",
       "      <td>Sporting</td>\n",
       "      <td>Light</td>\n",
       "      <td>52</td>\n",
       "    </tr>\n",
       "    <tr>\n",
       "      <th>1</th>\n",
       "      <td>330</td>\n",
       "      <td>Dog</td>\n",
       "      <td>3</td>\n",
       "      <td>intact</td>\n",
       "      <td>0</td>\n",
       "      <td>Hound</td>\n",
       "      <td>Normal</td>\n",
       "      <td>spring</td>\n",
       "      <td>Stray</td>\n",
       "      <td>1</td>\n",
       "      <td>Sable</td>\n",
       "      <td>18</td>\n",
       "      <td>Non-Sporting</td>\n",
       "      <td>Light</td>\n",
       "      <td>1</td>\n",
       "    </tr>\n",
       "    <tr>\n",
       "      <th>2</th>\n",
       "      <td>1460</td>\n",
       "      <td>Dog</td>\n",
       "      <td>6</td>\n",
       "      <td>fixed</td>\n",
       "      <td>0</td>\n",
       "      <td>Working</td>\n",
       "      <td>Normal</td>\n",
       "      <td>spring</td>\n",
       "      <td>Stray</td>\n",
       "      <td>1</td>\n",
       "      <td>Yellow</td>\n",
       "      <td>10</td>\n",
       "      <td>Non-Sporting</td>\n",
       "      <td>Light</td>\n",
       "      <td>22</td>\n",
       "    </tr>\n",
       "    <tr>\n",
       "      <th>3</th>\n",
       "      <td>730</td>\n",
       "      <td>Dog</td>\n",
       "      <td>5</td>\n",
       "      <td>fixed</td>\n",
       "      <td>0</td>\n",
       "      <td>Sporting</td>\n",
       "      <td>Normal</td>\n",
       "      <td>winter</td>\n",
       "      <td>Owner Surrender</td>\n",
       "      <td>1</td>\n",
       "      <td>Brown</td>\n",
       "      <td>12</td>\n",
       "      <td>Sporting</td>\n",
       "      <td>Medium</td>\n",
       "      <td>32</td>\n",
       "    </tr>\n",
       "    <tr>\n",
       "      <th>4</th>\n",
       "      <td>730</td>\n",
       "      <td>Dog</td>\n",
       "      <td>3</td>\n",
       "      <td>intact</td>\n",
       "      <td>0</td>\n",
       "      <td>Sporting</td>\n",
       "      <td>Normal</td>\n",
       "      <td>summer</td>\n",
       "      <td>Public Assist</td>\n",
       "      <td>1</td>\n",
       "      <td>Black</td>\n",
       "      <td>14</td>\n",
       "      <td>Sporting</td>\n",
       "      <td>Dark</td>\n",
       "      <td>1</td>\n",
       "    </tr>\n",
       "  </tbody>\n",
       "</table>\n",
       "</div>"
      ],
      "text/plain": [
       "    age animal_type dow fixed_status gender     group intake_condition  \\\n",
       "0  2920         Dog   6        fixed      1  Sporting           Normal   \n",
       "1   330         Dog   3       intact      0     Hound           Normal   \n",
       "2  1460         Dog   6        fixed      0   Working           Normal   \n",
       "3   730         Dog   5        fixed      0  Sporting           Normal   \n",
       "4   730         Dog   3       intact      0  Sporting           Normal   \n",
       "\n",
       "  intake_season      intake_type mix simple_color hour_in  simple_group  \\\n",
       "0        summer            Stray   0        White      12      Sporting   \n",
       "1        spring            Stray   1        Sable      18  Non-Sporting   \n",
       "2        spring            Stray   1       Yellow      10  Non-Sporting   \n",
       "3        winter  Owner Surrender   1        Brown      12      Sporting   \n",
       "4        summer    Public Assist   1        Black      14      Sporting   \n",
       "\n",
       "    shade  name_freq  \n",
       "0   Light         52  \n",
       "1   Light          1  \n",
       "2   Light         22  \n",
       "3  Medium         32  \n",
       "4    Dark          1  "
      ]
     },
     "execution_count": 168,
     "metadata": {},
     "output_type": "execute_result"
    }
   ],
   "source": [
    "X.head()"
   ]
  },
  {
   "cell_type": "code",
   "execution_count": 173,
   "metadata": {},
   "outputs": [
    {
     "name": "stdout",
     "output_type": "stream",
     "text": [
      "Fitting 3 folds for each of 1 candidates, totalling 3 fits\n"
     ]
    },
    {
     "name": "stderr",
     "output_type": "stream",
     "text": [
      "[Parallel(n_jobs=-1)]: Using backend LokyBackend with 8 concurrent workers.\n",
      "[Parallel(n_jobs=-1)]: Done   3 out of   3 | elapsed:  2.6min finished\n",
      "[Parallel(n_jobs=-1)]: Using backend LokyBackend with 8 concurrent workers.\n"
     ]
    },
    {
     "name": "stdout",
     "output_type": "stream",
     "text": [
      "Fitting 3 folds for each of 1 candidates, totalling 3 fits\n"
     ]
    },
    {
     "name": "stderr",
     "output_type": "stream",
     "text": [
      "[Parallel(n_jobs=-1)]: Done   3 out of   3 | elapsed:  1.7min finished\n",
      "[Parallel(n_jobs=-1)]: Using backend LokyBackend with 8 concurrent workers.\n"
     ]
    },
    {
     "name": "stdout",
     "output_type": "stream",
     "text": [
      "Fitting 3 folds for each of 1 candidates, totalling 3 fits\n",
      "Fitting 3 folds for each of 1 candidates, totalling 3 fits\n"
     ]
    },
    {
     "name": "stderr",
     "output_type": "stream",
     "text": [
      "[Parallel(n_jobs=-1)]: Done   3 out of   3 | elapsed:  1.6min finished\n",
      "[Parallel(n_jobs=-1)]: Using backend LokyBackend with 8 concurrent workers.\n"
     ]
    },
    {
     "name": "stdout",
     "output_type": "stream",
     "text": [
      "Fitting 3 folds for each of 1 candidates, totalling 3 fits\n"
     ]
    },
    {
     "name": "stderr",
     "output_type": "stream",
     "text": [
      "[Parallel(n_jobs=-1)]: Done   3 out of   3 | elapsed:  1.8min finished\n",
      "[Parallel(n_jobs=-1)]: Using backend LokyBackend with 8 concurrent workers.\n",
      "[Parallel(n_jobs=-1)]: Done   3 out of   3 | elapsed:  1.9min finished\n",
      "[Parallel(n_jobs=-1)]: Using backend LokyBackend with 8 concurrent workers.\n"
     ]
    },
    {
     "name": "stdout",
     "output_type": "stream",
     "text": [
      "Fitting 3 folds for each of 1 candidates, totalling 3 fits\n",
      "Fitting 3 folds for each of 1 candidates, totalling 3 fits\n"
     ]
    },
    {
     "name": "stderr",
     "output_type": "stream",
     "text": [
      "[Parallel(n_jobs=-1)]: Done   3 out of   3 | elapsed:  1.8min finished\n",
      "[Parallel(n_jobs=-1)]: Using backend LokyBackend with 8 concurrent workers.\n",
      "[Parallel(n_jobs=-1)]: Done   3 out of   3 | elapsed:  2.0min finished\n",
      "[Parallel(n_jobs=-1)]: Using backend LokyBackend with 8 concurrent workers.\n"
     ]
    },
    {
     "name": "stdout",
     "output_type": "stream",
     "text": [
      "Fitting 3 folds for each of 1 candidates, totalling 3 fits\n",
      "Fitting 3 folds for each of 1 candidates, totalling 3 fits\n"
     ]
    },
    {
     "name": "stderr",
     "output_type": "stream",
     "text": [
      "[Parallel(n_jobs=-1)]: Done   3 out of   3 | elapsed:  1.5min finished\n",
      "[Parallel(n_jobs=-1)]: Using backend LokyBackend with 8 concurrent workers.\n",
      "[Parallel(n_jobs=-1)]: Done   3 out of   3 | elapsed:  2.2min finished\n"
     ]
    },
    {
     "name": "stdout",
     "output_type": "stream",
     "text": [
      "Fitting 3 folds for each of 1 candidates, totalling 3 fits\n"
     ]
    },
    {
     "name": "stderr",
     "output_type": "stream",
     "text": [
      "[Parallel(n_jobs=-1)]: Using backend LokyBackend with 8 concurrent workers.\n",
      "[Parallel(n_jobs=-1)]: Done   3 out of   3 | elapsed:  2.8min finished\n"
     ]
    },
    {
     "name": "stdout",
     "output_type": "stream",
     "text": [
      "0:\tlearn: -0.6714402\ttotal: 109ms\tremaining: 1m 27s\n",
      "1:\tlearn: -0.6537105\ttotal: 216ms\tremaining: 1m 26s\n",
      "2:\tlearn: -0.6392345\ttotal: 332ms\tremaining: 1m 28s\n",
      "3:\tlearn: -0.6273146\ttotal: 441ms\tremaining: 1m 27s\n",
      "4:\tlearn: -0.6173446\ttotal: 547ms\tremaining: 1m 26s\n",
      "5:\tlearn: -0.6097443\ttotal: 659ms\tremaining: 1m 27s\n",
      "6:\tlearn: -0.6031818\ttotal: 765ms\tremaining: 1m 26s\n",
      "7:\tlearn: -0.5963570\ttotal: 876ms\tremaining: 1m 26s\n",
      "8:\tlearn: -0.5907892\ttotal: 960ms\tremaining: 1m 24s\n",
      "9:\tlearn: -0.5864528\ttotal: 1.07s\tremaining: 1m 24s\n",
      "10:\tlearn: -0.5824509\ttotal: 1.18s\tremaining: 1m 24s\n",
      "11:\tlearn: -0.5795421\ttotal: 1.29s\tremaining: 1m 24s\n",
      "12:\tlearn: -0.5760747\ttotal: 1.4s\tremaining: 1m 24s\n",
      "13:\tlearn: -0.5731296\ttotal: 1.5s\tremaining: 1m 24s\n",
      "14:\tlearn: -0.5706347\ttotal: 1.61s\tremaining: 1m 24s\n",
      "15:\tlearn: -0.5679874\ttotal: 1.73s\tremaining: 1m 24s\n",
      "16:\tlearn: -0.5670839\ttotal: 1.81s\tremaining: 1m 23s\n",
      "17:\tlearn: -0.5655447\ttotal: 1.93s\tremaining: 1m 23s\n",
      "18:\tlearn: -0.5644277\ttotal: 2.02s\tremaining: 1m 22s\n",
      "19:\tlearn: -0.5634490\ttotal: 2.13s\tremaining: 1m 23s\n",
      "20:\tlearn: -0.5622458\ttotal: 2.25s\tremaining: 1m 23s\n",
      "21:\tlearn: -0.5611686\ttotal: 2.37s\tremaining: 1m 23s\n",
      "22:\tlearn: -0.5604144\ttotal: 2.48s\tremaining: 1m 23s\n",
      "23:\tlearn: -0.5595558\ttotal: 2.59s\tremaining: 1m 23s\n",
      "24:\tlearn: -0.5593974\ttotal: 2.66s\tremaining: 1m 22s\n",
      "25:\tlearn: -0.5589593\ttotal: 2.76s\tremaining: 1m 22s\n",
      "26:\tlearn: -0.5585820\ttotal: 2.82s\tremaining: 1m 20s\n",
      "27:\tlearn: -0.5583372\ttotal: 2.9s\tremaining: 1m 19s\n",
      "28:\tlearn: -0.5576246\ttotal: 2.98s\tremaining: 1m 19s\n",
      "29:\tlearn: -0.5569983\ttotal: 3.08s\tremaining: 1m 18s\n",
      "30:\tlearn: -0.5560339\ttotal: 3.19s\tremaining: 1m 19s\n",
      "31:\tlearn: -0.5551429\ttotal: 3.29s\tremaining: 1m 19s\n",
      "32:\tlearn: -0.5547424\ttotal: 3.4s\tremaining: 1m 19s\n",
      "33:\tlearn: -0.5543206\ttotal: 3.51s\tremaining: 1m 19s\n",
      "34:\tlearn: -0.5541233\ttotal: 3.58s\tremaining: 1m 18s\n",
      "35:\tlearn: -0.5539527\ttotal: 3.66s\tremaining: 1m 17s\n",
      "36:\tlearn: -0.5538849\ttotal: 3.72s\tremaining: 1m 16s\n",
      "37:\tlearn: -0.5534769\ttotal: 3.83s\tremaining: 1m 16s\n",
      "38:\tlearn: -0.5532293\ttotal: 3.92s\tremaining: 1m 16s\n",
      "39:\tlearn: -0.5526268\ttotal: 4.03s\tremaining: 1m 16s\n",
      "40:\tlearn: -0.5522604\ttotal: 4.13s\tremaining: 1m 16s\n",
      "41:\tlearn: -0.5517971\ttotal: 4.25s\tremaining: 1m 16s\n",
      "42:\tlearn: -0.5515938\ttotal: 4.36s\tremaining: 1m 16s\n",
      "43:\tlearn: -0.5511901\ttotal: 4.48s\tremaining: 1m 16s\n",
      "44:\tlearn: -0.5509056\ttotal: 4.6s\tremaining: 1m 17s\n",
      "45:\tlearn: -0.5508133\ttotal: 4.67s\tremaining: 1m 16s\n",
      "46:\tlearn: -0.5503236\ttotal: 4.79s\tremaining: 1m 16s\n",
      "47:\tlearn: -0.5502700\ttotal: 4.86s\tremaining: 1m 16s\n",
      "48:\tlearn: -0.5498202\ttotal: 4.98s\tremaining: 1m 16s\n",
      "49:\tlearn: -0.5497112\ttotal: 5.06s\tremaining: 1m 15s\n",
      "50:\tlearn: -0.5494750\ttotal: 5.16s\tremaining: 1m 15s\n",
      "51:\tlearn: -0.5492451\ttotal: 5.26s\tremaining: 1m 15s\n",
      "52:\tlearn: -0.5490991\ttotal: 5.37s\tremaining: 1m 15s\n",
      "53:\tlearn: -0.5487211\ttotal: 5.47s\tremaining: 1m 15s\n",
      "54:\tlearn: -0.5483294\ttotal: 5.58s\tremaining: 1m 15s\n",
      "55:\tlearn: -0.5482795\ttotal: 5.64s\tremaining: 1m 14s\n",
      "56:\tlearn: -0.5479147\ttotal: 5.75s\tremaining: 1m 14s\n",
      "57:\tlearn: -0.5475906\ttotal: 5.85s\tremaining: 1m 14s\n",
      "58:\tlearn: -0.5472619\ttotal: 5.96s\tremaining: 1m 14s\n",
      "59:\tlearn: -0.5472499\ttotal: 6.02s\tremaining: 1m 14s\n",
      "60:\tlearn: -0.5472129\ttotal: 6.08s\tremaining: 1m 13s\n",
      "61:\tlearn: -0.5471097\ttotal: 6.15s\tremaining: 1m 13s\n",
      "62:\tlearn: -0.5469048\ttotal: 6.23s\tremaining: 1m 12s\n",
      "63:\tlearn: -0.5465382\ttotal: 6.34s\tremaining: 1m 12s\n",
      "64:\tlearn: -0.5462786\ttotal: 6.45s\tremaining: 1m 12s\n",
      "65:\tlearn: -0.5460437\ttotal: 6.55s\tremaining: 1m 12s\n",
      "66:\tlearn: -0.5459638\ttotal: 6.62s\tremaining: 1m 12s\n",
      "67:\tlearn: -0.5457714\ttotal: 6.73s\tremaining: 1m 12s\n",
      "68:\tlearn: -0.5456508\ttotal: 6.83s\tremaining: 1m 12s\n",
      "69:\tlearn: -0.5454655\ttotal: 6.95s\tremaining: 1m 12s\n",
      "70:\tlearn: -0.5451938\ttotal: 7.06s\tremaining: 1m 12s\n",
      "71:\tlearn: -0.5450438\ttotal: 7.14s\tremaining: 1m 12s\n",
      "72:\tlearn: -0.5448782\ttotal: 7.25s\tremaining: 1m 12s\n",
      "73:\tlearn: -0.5447794\ttotal: 7.32s\tremaining: 1m 11s\n",
      "74:\tlearn: -0.5446522\ttotal: 7.43s\tremaining: 1m 11s\n",
      "75:\tlearn: -0.5442705\ttotal: 7.51s\tremaining: 1m 11s\n",
      "76:\tlearn: -0.5440681\ttotal: 7.62s\tremaining: 1m 11s\n",
      "77:\tlearn: -0.5439071\ttotal: 7.73s\tremaining: 1m 11s\n",
      "78:\tlearn: -0.5438802\ttotal: 7.81s\tremaining: 1m 11s\n",
      "79:\tlearn: -0.5437345\ttotal: 7.92s\tremaining: 1m 11s\n",
      "80:\tlearn: -0.5436047\ttotal: 8.04s\tremaining: 1m 11s\n",
      "81:\tlearn: -0.5433250\ttotal: 8.15s\tremaining: 1m 11s\n",
      "82:\tlearn: -0.5432880\ttotal: 8.22s\tremaining: 1m 11s\n",
      "83:\tlearn: -0.5430852\ttotal: 8.33s\tremaining: 1m 10s\n",
      "84:\tlearn: -0.5430330\ttotal: 8.39s\tremaining: 1m 10s\n",
      "85:\tlearn: -0.5430221\ttotal: 8.46s\tremaining: 1m 10s\n",
      "86:\tlearn: -0.5429229\ttotal: 8.54s\tremaining: 1m 9s\n",
      "87:\tlearn: -0.5428499\ttotal: 8.61s\tremaining: 1m 9s\n",
      "88:\tlearn: -0.5428163\ttotal: 8.67s\tremaining: 1m 9s\n",
      "89:\tlearn: -0.5426944\ttotal: 8.75s\tremaining: 1m 8s\n",
      "90:\tlearn: -0.5426813\ttotal: 8.81s\tremaining: 1m 8s\n",
      "91:\tlearn: -0.5425425\ttotal: 8.91s\tremaining: 1m 8s\n",
      "92:\tlearn: -0.5422688\ttotal: 9.03s\tremaining: 1m 8s\n",
      "93:\tlearn: -0.5421378\ttotal: 9.12s\tremaining: 1m 8s\n",
      "94:\tlearn: -0.5419472\ttotal: 9.23s\tremaining: 1m 8s\n",
      "95:\tlearn: -0.5417972\ttotal: 9.31s\tremaining: 1m 8s\n",
      "96:\tlearn: -0.5414393\ttotal: 9.43s\tremaining: 1m 8s\n",
      "97:\tlearn: -0.5412797\ttotal: 9.5s\tremaining: 1m 8s\n",
      "98:\tlearn: -0.5412216\ttotal: 9.58s\tremaining: 1m 7s\n",
      "99:\tlearn: -0.5410817\ttotal: 9.66s\tremaining: 1m 7s\n",
      "100:\tlearn: -0.5410679\ttotal: 9.73s\tremaining: 1m 7s\n",
      "101:\tlearn: -0.5408418\ttotal: 9.8s\tremaining: 1m 7s\n",
      "102:\tlearn: -0.5407355\ttotal: 9.91s\tremaining: 1m 7s\n",
      "103:\tlearn: -0.5406861\ttotal: 9.98s\tremaining: 1m 6s\n",
      "104:\tlearn: -0.5406385\ttotal: 10s\tremaining: 1m 6s\n",
      "105:\tlearn: -0.5405233\ttotal: 10.1s\tremaining: 1m 6s\n",
      "106:\tlearn: -0.5400736\ttotal: 10.2s\tremaining: 1m 6s\n",
      "107:\tlearn: -0.5399959\ttotal: 10.3s\tremaining: 1m 6s\n",
      "108:\tlearn: -0.5397703\ttotal: 10.4s\tremaining: 1m 6s\n",
      "109:\tlearn: -0.5397628\ttotal: 10.5s\tremaining: 1m 5s\n",
      "110:\tlearn: -0.5395925\ttotal: 10.6s\tremaining: 1m 5s\n",
      "111:\tlearn: -0.5393297\ttotal: 10.7s\tremaining: 1m 5s\n",
      "112:\tlearn: -0.5389683\ttotal: 10.8s\tremaining: 1m 5s\n",
      "113:\tlearn: -0.5387971\ttotal: 10.9s\tremaining: 1m 5s\n",
      "114:\tlearn: -0.5386913\ttotal: 11s\tremaining: 1m 5s\n",
      "115:\tlearn: -0.5384606\ttotal: 11.1s\tremaining: 1m 5s\n",
      "116:\tlearn: -0.5383114\ttotal: 11.3s\tremaining: 1m 5s\n",
      "117:\tlearn: -0.5381655\ttotal: 11.3s\tremaining: 1m 5s\n",
      "118:\tlearn: -0.5378978\ttotal: 11.4s\tremaining: 1m 5s\n",
      "119:\tlearn: -0.5378592\ttotal: 11.5s\tremaining: 1m 5s\n",
      "120:\tlearn: -0.5377906\ttotal: 11.6s\tremaining: 1m 5s\n",
      "121:\tlearn: -0.5377530\ttotal: 11.7s\tremaining: 1m 4s\n",
      "122:\tlearn: -0.5375639\ttotal: 11.8s\tremaining: 1m 4s\n",
      "123:\tlearn: -0.5375252\ttotal: 11.8s\tremaining: 1m 4s\n",
      "124:\tlearn: -0.5373280\ttotal: 11.9s\tremaining: 1m 4s\n",
      "125:\tlearn: -0.5370071\ttotal: 12.1s\tremaining: 1m 4s\n",
      "126:\tlearn: -0.5369831\ttotal: 12.1s\tremaining: 1m 4s\n",
      "127:\tlearn: -0.5369119\ttotal: 12.2s\tremaining: 1m 4s\n",
      "128:\tlearn: -0.5367844\ttotal: 12.3s\tremaining: 1m 4s\n",
      "129:\tlearn: -0.5367636\ttotal: 12.4s\tremaining: 1m 3s\n",
      "130:\tlearn: -0.5366345\ttotal: 12.5s\tremaining: 1m 3s\n",
      "131:\tlearn: -0.5366267\ttotal: 12.6s\tremaining: 1m 3s\n",
      "132:\tlearn: -0.5366131\ttotal: 12.7s\tremaining: 1m 3s\n",
      "133:\tlearn: -0.5363402\ttotal: 12.8s\tremaining: 1m 3s\n",
      "134:\tlearn: -0.5363377\ttotal: 12.8s\tremaining: 1m 3s\n",
      "135:\tlearn: -0.5363262\ttotal: 12.9s\tremaining: 1m 2s\n",
      "136:\tlearn: -0.5362579\ttotal: 13s\tremaining: 1m 2s\n",
      "137:\tlearn: -0.5360467\ttotal: 13.1s\tremaining: 1m 2s\n",
      "138:\tlearn: -0.5359565\ttotal: 13.2s\tremaining: 1m 2s\n",
      "139:\tlearn: -0.5358297\ttotal: 13.3s\tremaining: 1m 2s\n",
      "140:\tlearn: -0.5357423\ttotal: 13.4s\tremaining: 1m 2s\n",
      "141:\tlearn: -0.5356397\ttotal: 13.5s\tremaining: 1m 2s\n",
      "142:\tlearn: -0.5352599\ttotal: 13.6s\tremaining: 1m 2s\n",
      "143:\tlearn: -0.5351349\ttotal: 13.7s\tremaining: 1m 2s\n",
      "144:\tlearn: -0.5349843\ttotal: 13.9s\tremaining: 1m 2s\n",
      "145:\tlearn: -0.5348917\ttotal: 14s\tremaining: 1m 2s\n",
      "146:\tlearn: -0.5348010\ttotal: 14.1s\tremaining: 1m 2s\n",
      "147:\tlearn: -0.5347959\ttotal: 14.1s\tremaining: 1m 2s\n",
      "148:\tlearn: -0.5346107\ttotal: 14.2s\tremaining: 1m 2s\n",
      "149:\tlearn: -0.5345251\ttotal: 14.3s\tremaining: 1m 2s\n",
      "150:\tlearn: -0.5343786\ttotal: 14.5s\tremaining: 1m 2s\n",
      "151:\tlearn: -0.5341445\ttotal: 14.6s\tremaining: 1m 2s\n",
      "152:\tlearn: -0.5340692\ttotal: 14.7s\tremaining: 1m 2s\n",
      "153:\tlearn: -0.5339400\ttotal: 14.8s\tremaining: 1m 1s\n",
      "154:\tlearn: -0.5336578\ttotal: 14.9s\tremaining: 1m 1s\n",
      "155:\tlearn: -0.5336043\ttotal: 15s\tremaining: 1m 1s\n",
      "156:\tlearn: -0.5334743\ttotal: 15.1s\tremaining: 1m 1s\n"
     ]
    },
    {
     "name": "stdout",
     "output_type": "stream",
     "text": [
      "157:\tlearn: -0.5333343\ttotal: 15.2s\tremaining: 1m 1s\n",
      "158:\tlearn: -0.5332248\ttotal: 15.3s\tremaining: 1m 1s\n",
      "159:\tlearn: -0.5329206\ttotal: 15.4s\tremaining: 1m 1s\n",
      "160:\tlearn: -0.5328110\ttotal: 15.5s\tremaining: 1m 1s\n",
      "161:\tlearn: -0.5327843\ttotal: 15.6s\tremaining: 1m 1s\n",
      "162:\tlearn: -0.5326555\ttotal: 15.7s\tremaining: 1m 1s\n",
      "163:\tlearn: -0.5325931\ttotal: 15.8s\tremaining: 1m 1s\n",
      "164:\tlearn: -0.5323147\ttotal: 15.9s\tremaining: 1m 1s\n",
      "165:\tlearn: -0.5321447\ttotal: 16s\tremaining: 1m 1s\n",
      "166:\tlearn: -0.5319801\ttotal: 16.1s\tremaining: 1m 1s\n",
      "167:\tlearn: -0.5317622\ttotal: 16.2s\tremaining: 1m 1s\n",
      "168:\tlearn: -0.5315346\ttotal: 16.3s\tremaining: 1m 1s\n",
      "169:\tlearn: -0.5313585\ttotal: 16.4s\tremaining: 1m\n",
      "170:\tlearn: -0.5308385\ttotal: 16.6s\tremaining: 1m\n",
      "171:\tlearn: -0.5307931\ttotal: 16.7s\tremaining: 1m\n",
      "172:\tlearn: -0.5305850\ttotal: 16.8s\tremaining: 1m\n",
      "173:\tlearn: -0.5305375\ttotal: 16.9s\tremaining: 1m\n",
      "174:\tlearn: -0.5303530\ttotal: 17s\tremaining: 1m\n",
      "175:\tlearn: -0.5302130\ttotal: 17.1s\tremaining: 1m\n",
      "176:\tlearn: -0.5300973\ttotal: 17.2s\tremaining: 1m\n",
      "177:\tlearn: -0.5299438\ttotal: 17.3s\tremaining: 1m\n",
      "178:\tlearn: -0.5298206\ttotal: 17.4s\tremaining: 1m\n",
      "179:\tlearn: -0.5297425\ttotal: 17.6s\tremaining: 1m\n",
      "180:\tlearn: -0.5296540\ttotal: 17.7s\tremaining: 1m\n",
      "181:\tlearn: -0.5294350\ttotal: 17.8s\tremaining: 1m\n",
      "182:\tlearn: -0.5294204\ttotal: 17.8s\tremaining: 1m\n",
      "183:\tlearn: -0.5294069\ttotal: 18s\tremaining: 1m\n",
      "184:\tlearn: -0.5291917\ttotal: 18.1s\tremaining: 1m\n",
      "185:\tlearn: -0.5291540\ttotal: 18.2s\tremaining: 1m\n",
      "186:\tlearn: -0.5290440\ttotal: 18.3s\tremaining: 59.9s\n",
      "187:\tlearn: -0.5290079\ttotal: 18.4s\tremaining: 59.9s\n",
      "188:\tlearn: -0.5287483\ttotal: 18.5s\tremaining: 59.8s\n",
      "189:\tlearn: -0.5284001\ttotal: 18.6s\tremaining: 59.8s\n",
      "190:\tlearn: -0.5283975\ttotal: 18.7s\tremaining: 59.6s\n",
      "191:\tlearn: -0.5283514\ttotal: 18.8s\tremaining: 59.5s\n",
      "192:\tlearn: -0.5281470\ttotal: 18.9s\tremaining: 59.5s\n",
      "193:\tlearn: -0.5278503\ttotal: 19s\tremaining: 59.5s\n",
      "194:\tlearn: -0.5277053\ttotal: 19.2s\tremaining: 59.6s\n",
      "195:\tlearn: -0.5274043\ttotal: 19.3s\tremaining: 59.5s\n",
      "196:\tlearn: -0.5271903\ttotal: 19.4s\tremaining: 59.5s\n",
      "197:\tlearn: -0.5270924\ttotal: 19.5s\tremaining: 59.4s\n",
      "198:\tlearn: -0.5268364\ttotal: 19.6s\tremaining: 59.3s\n",
      "199:\tlearn: -0.5267139\ttotal: 19.8s\tremaining: 59.3s\n",
      "200:\tlearn: -0.5265778\ttotal: 19.9s\tremaining: 59.2s\n",
      "201:\tlearn: -0.5264668\ttotal: 20s\tremaining: 59.1s\n",
      "202:\tlearn: -0.5261676\ttotal: 20.1s\tremaining: 59.1s\n",
      "203:\tlearn: -0.5260642\ttotal: 20.2s\tremaining: 59s\n",
      "204:\tlearn: -0.5260490\ttotal: 20.3s\tremaining: 58.9s\n",
      "205:\tlearn: -0.5259910\ttotal: 20.4s\tremaining: 58.9s\n",
      "206:\tlearn: -0.5257423\ttotal: 20.5s\tremaining: 58.8s\n",
      "207:\tlearn: -0.5256820\ttotal: 20.6s\tremaining: 58.8s\n",
      "208:\tlearn: -0.5256330\ttotal: 20.8s\tremaining: 58.7s\n",
      "209:\tlearn: -0.5255395\ttotal: 20.9s\tremaining: 58.6s\n",
      "210:\tlearn: -0.5254779\ttotal: 21s\tremaining: 58.6s\n",
      "211:\tlearn: -0.5253500\ttotal: 21.1s\tremaining: 58.5s\n",
      "212:\tlearn: -0.5251608\ttotal: 21.2s\tremaining: 58.4s\n",
      "213:\tlearn: -0.5250229\ttotal: 21.3s\tremaining: 58.3s\n",
      "214:\tlearn: -0.5249080\ttotal: 21.4s\tremaining: 58.2s\n",
      "215:\tlearn: -0.5247636\ttotal: 21.5s\tremaining: 58.2s\n",
      "216:\tlearn: -0.5243580\ttotal: 21.6s\tremaining: 58.1s\n",
      "217:\tlearn: -0.5241590\ttotal: 21.7s\tremaining: 58s\n",
      "218:\tlearn: -0.5240274\ttotal: 21.9s\tremaining: 58s\n",
      "219:\tlearn: -0.5238720\ttotal: 22s\tremaining: 57.9s\n",
      "220:\tlearn: -0.5238710\ttotal: 22s\tremaining: 57.7s\n",
      "221:\tlearn: -0.5237842\ttotal: 22.1s\tremaining: 57.7s\n",
      "222:\tlearn: -0.5236240\ttotal: 22.3s\tremaining: 57.6s\n",
      "223:\tlearn: -0.5234864\ttotal: 22.4s\tremaining: 57.5s\n",
      "224:\tlearn: -0.5232244\ttotal: 22.5s\tremaining: 57.4s\n",
      "225:\tlearn: -0.5231979\ttotal: 22.6s\tremaining: 57.4s\n",
      "226:\tlearn: -0.5230963\ttotal: 22.7s\tremaining: 57.3s\n",
      "227:\tlearn: -0.5230480\ttotal: 22.8s\tremaining: 57.2s\n",
      "228:\tlearn: -0.5230478\ttotal: 22.9s\tremaining: 57s\n",
      "229:\tlearn: -0.5228885\ttotal: 23s\tremaining: 57s\n",
      "230:\tlearn: -0.5227986\ttotal: 23.1s\tremaining: 57s\n",
      "231:\tlearn: -0.5226227\ttotal: 23.3s\tremaining: 56.9s\n",
      "232:\tlearn: -0.5225267\ttotal: 23.4s\tremaining: 56.8s\n",
      "233:\tlearn: -0.5225111\ttotal: 23.5s\tremaining: 56.8s\n",
      "234:\tlearn: -0.5224568\ttotal: 23.6s\tremaining: 56.7s\n",
      "235:\tlearn: -0.5223845\ttotal: 23.7s\tremaining: 56.6s\n",
      "236:\tlearn: -0.5223841\ttotal: 23.8s\tremaining: 56.4s\n",
      "237:\tlearn: -0.5222313\ttotal: 23.9s\tremaining: 56.3s\n",
      "238:\tlearn: -0.5221146\ttotal: 24s\tremaining: 56.3s\n",
      "239:\tlearn: -0.5220247\ttotal: 24.1s\tremaining: 56.2s\n",
      "240:\tlearn: -0.5218540\ttotal: 24.2s\tremaining: 56.1s\n",
      "241:\tlearn: -0.5216493\ttotal: 24.3s\tremaining: 56s\n",
      "242:\tlearn: -0.5215596\ttotal: 24.4s\tremaining: 55.9s\n",
      "243:\tlearn: -0.5214685\ttotal: 24.5s\tremaining: 55.8s\n",
      "244:\tlearn: -0.5214559\ttotal: 24.6s\tremaining: 55.7s\n",
      "245:\tlearn: -0.5214311\ttotal: 24.7s\tremaining: 55.6s\n",
      "246:\tlearn: -0.5213209\ttotal: 24.8s\tremaining: 55.5s\n",
      "247:\tlearn: -0.5213195\ttotal: 24.9s\tremaining: 55.3s\n",
      "248:\tlearn: -0.5211391\ttotal: 25s\tremaining: 55.3s\n",
      "249:\tlearn: -0.5210650\ttotal: 25.1s\tremaining: 55.2s\n",
      "250:\tlearn: -0.5209687\ttotal: 25.2s\tremaining: 55.1s\n",
      "251:\tlearn: -0.5208936\ttotal: 25.3s\tremaining: 55s\n",
      "252:\tlearn: -0.5208465\ttotal: 25.4s\tremaining: 55s\n",
      "253:\tlearn: -0.5208064\ttotal: 25.5s\tremaining: 54.9s\n",
      "254:\tlearn: -0.5206873\ttotal: 25.6s\tremaining: 54.8s\n",
      "255:\tlearn: -0.5205784\ttotal: 25.8s\tremaining: 54.7s\n",
      "256:\tlearn: -0.5204813\ttotal: 25.9s\tremaining: 54.7s\n",
      "257:\tlearn: -0.5204812\ttotal: 25.9s\tremaining: 54.5s\n",
      "258:\tlearn: -0.5203658\ttotal: 26s\tremaining: 54.4s\n",
      "259:\tlearn: -0.5202722\ttotal: 26.2s\tremaining: 54.3s\n",
      "260:\tlearn: -0.5202721\ttotal: 26.2s\tremaining: 54.1s\n",
      "261:\tlearn: -0.5202544\ttotal: 26.3s\tremaining: 54s\n",
      "262:\tlearn: -0.5201613\ttotal: 26.4s\tremaining: 53.9s\n",
      "263:\tlearn: -0.5201164\ttotal: 26.5s\tremaining: 53.8s\n",
      "264:\tlearn: -0.5200009\ttotal: 26.6s\tremaining: 53.8s\n",
      "265:\tlearn: -0.5199931\ttotal: 26.8s\tremaining: 53.7s\n",
      "266:\tlearn: -0.5198170\ttotal: 26.9s\tremaining: 53.7s\n",
      "267:\tlearn: -0.5196902\ttotal: 27s\tremaining: 53.6s\n",
      "268:\tlearn: -0.5194987\ttotal: 27.1s\tremaining: 53.5s\n",
      "269:\tlearn: -0.5193383\ttotal: 27.2s\tremaining: 53.4s\n",
      "270:\tlearn: -0.5192757\ttotal: 27.3s\tremaining: 53.3s\n",
      "271:\tlearn: -0.5192662\ttotal: 27.4s\tremaining: 53.2s\n",
      "272:\tlearn: -0.5192132\ttotal: 27.5s\tremaining: 53.1s\n",
      "273:\tlearn: -0.5191667\ttotal: 27.6s\tremaining: 53.1s\n",
      "274:\tlearn: -0.5189826\ttotal: 27.7s\tremaining: 53s\n",
      "275:\tlearn: -0.5189675\ttotal: 27.8s\tremaining: 52.9s\n",
      "276:\tlearn: -0.5188988\ttotal: 28s\tremaining: 52.8s\n",
      "277:\tlearn: -0.5187598\ttotal: 28.1s\tremaining: 52.7s\n",
      "278:\tlearn: -0.5187074\ttotal: 28.2s\tremaining: 52.6s\n",
      "279:\tlearn: -0.5186779\ttotal: 28.3s\tremaining: 52.5s\n",
      "280:\tlearn: -0.5185315\ttotal: 28.4s\tremaining: 52.4s\n",
      "281:\tlearn: -0.5184396\ttotal: 28.5s\tremaining: 52.4s\n",
      "282:\tlearn: -0.5183465\ttotal: 28.9s\tremaining: 52.7s\n",
      "283:\tlearn: -0.5182510\ttotal: 29s\tremaining: 52.7s\n",
      "284:\tlearn: -0.5182507\ttotal: 29.1s\tremaining: 52.5s\n",
      "285:\tlearn: -0.5182046\ttotal: 29.2s\tremaining: 52.5s\n",
      "286:\tlearn: -0.5180930\ttotal: 29.3s\tremaining: 52.4s\n",
      "287:\tlearn: -0.5180407\ttotal: 29.4s\tremaining: 52.3s\n",
      "288:\tlearn: -0.5180284\ttotal: 29.5s\tremaining: 52.2s\n",
      "289:\tlearn: -0.5179482\ttotal: 29.7s\tremaining: 52.2s\n",
      "290:\tlearn: -0.5179481\ttotal: 29.7s\tremaining: 52s\n",
      "291:\tlearn: -0.5178304\ttotal: 29.8s\tremaining: 51.9s\n",
      "292:\tlearn: -0.5177724\ttotal: 29.9s\tremaining: 51.8s\n",
      "293:\tlearn: -0.5176353\ttotal: 30s\tremaining: 51.7s\n",
      "294:\tlearn: -0.5175431\ttotal: 30.2s\tremaining: 51.6s\n",
      "295:\tlearn: -0.5174873\ttotal: 30.3s\tremaining: 51.5s\n",
      "296:\tlearn: -0.5174371\ttotal: 30.4s\tremaining: 51.4s\n",
      "297:\tlearn: -0.5173518\ttotal: 30.5s\tremaining: 51.3s\n",
      "298:\tlearn: -0.5172853\ttotal: 30.6s\tremaining: 51.2s\n",
      "299:\tlearn: -0.5172600\ttotal: 30.7s\tremaining: 51.1s\n",
      "300:\tlearn: -0.5170852\ttotal: 30.8s\tremaining: 51s\n",
      "301:\tlearn: -0.5170357\ttotal: 30.9s\tremaining: 50.9s\n",
      "302:\tlearn: -0.5169784\ttotal: 31s\tremaining: 50.8s\n",
      "303:\tlearn: -0.5169186\ttotal: 31.1s\tremaining: 50.8s\n",
      "304:\tlearn: -0.5168748\ttotal: 31.2s\tremaining: 50.7s\n",
      "305:\tlearn: -0.5168748\ttotal: 31.3s\tremaining: 50.5s\n",
      "306:\tlearn: -0.5168146\ttotal: 31.4s\tremaining: 50.4s\n",
      "307:\tlearn: -0.5166112\ttotal: 31.5s\tremaining: 50.3s\n",
      "308:\tlearn: -0.5166111\ttotal: 31.6s\tremaining: 50.2s\n",
      "309:\tlearn: -0.5166111\ttotal: 31.7s\tremaining: 50s\n",
      "310:\tlearn: -0.5164166\ttotal: 31.8s\tremaining: 50s\n",
      "311:\tlearn: -0.5163904\ttotal: 31.9s\tremaining: 49.9s\n",
      "312:\tlearn: -0.5162508\ttotal: 32s\tremaining: 49.8s\n",
      "313:\tlearn: -0.5161885\ttotal: 32.1s\tremaining: 49.7s\n",
      "314:\tlearn: -0.5157082\ttotal: 32.2s\tremaining: 49.6s\n"
     ]
    },
    {
     "name": "stdout",
     "output_type": "stream",
     "text": [
      "315:\tlearn: -0.5155590\ttotal: 32.4s\tremaining: 49.5s\n",
      "316:\tlearn: -0.5154826\ttotal: 32.5s\tremaining: 49.5s\n",
      "317:\tlearn: -0.5152991\ttotal: 32.6s\tremaining: 49.4s\n",
      "318:\tlearn: -0.5151571\ttotal: 32.7s\tremaining: 49.3s\n",
      "319:\tlearn: -0.5151294\ttotal: 32.8s\tremaining: 49.2s\n",
      "320:\tlearn: -0.5150882\ttotal: 32.9s\tremaining: 49.1s\n",
      "321:\tlearn: -0.5149551\ttotal: 33s\tremaining: 49s\n",
      "322:\tlearn: -0.5148481\ttotal: 33.1s\tremaining: 48.9s\n",
      "323:\tlearn: -0.5148116\ttotal: 33.2s\tremaining: 48.8s\n",
      "324:\tlearn: -0.5147141\ttotal: 33.4s\tremaining: 48.7s\n",
      "325:\tlearn: -0.5144567\ttotal: 33.5s\tremaining: 48.7s\n",
      "326:\tlearn: -0.5143484\ttotal: 33.6s\tremaining: 48.6s\n",
      "327:\tlearn: -0.5142905\ttotal: 33.7s\tremaining: 48.5s\n",
      "328:\tlearn: -0.5141504\ttotal: 33.8s\tremaining: 48.4s\n",
      "329:\tlearn: -0.5140748\ttotal: 33.9s\tremaining: 48.3s\n",
      "330:\tlearn: -0.5139684\ttotal: 34s\tremaining: 48.2s\n",
      "331:\tlearn: -0.5138990\ttotal: 34.2s\tremaining: 48.2s\n",
      "332:\tlearn: -0.5137957\ttotal: 34.3s\tremaining: 48.1s\n",
      "333:\tlearn: -0.5136675\ttotal: 34.4s\tremaining: 48s\n",
      "334:\tlearn: -0.5135934\ttotal: 34.6s\tremaining: 48s\n",
      "335:\tlearn: -0.5135153\ttotal: 34.7s\tremaining: 47.9s\n",
      "336:\tlearn: -0.5134366\ttotal: 34.8s\tremaining: 47.8s\n",
      "337:\tlearn: -0.5133724\ttotal: 34.9s\tremaining: 47.8s\n",
      "338:\tlearn: -0.5133362\ttotal: 35.1s\tremaining: 47.7s\n",
      "339:\tlearn: -0.5132594\ttotal: 35.2s\tremaining: 47.7s\n",
      "340:\tlearn: -0.5132592\ttotal: 35.3s\tremaining: 47.5s\n",
      "341:\tlearn: -0.5131538\ttotal: 35.4s\tremaining: 47.4s\n",
      "342:\tlearn: -0.5130290\ttotal: 35.6s\tremaining: 47.4s\n",
      "343:\tlearn: -0.5129622\ttotal: 35.7s\tremaining: 47.3s\n",
      "344:\tlearn: -0.5128798\ttotal: 35.8s\tremaining: 47.2s\n",
      "345:\tlearn: -0.5128685\ttotal: 36s\tremaining: 47.2s\n",
      "346:\tlearn: -0.5128684\ttotal: 36s\tremaining: 47s\n",
      "347:\tlearn: -0.5128252\ttotal: 36.2s\tremaining: 47s\n",
      "348:\tlearn: -0.5128244\ttotal: 36.2s\tremaining: 46.8s\n",
      "349:\tlearn: -0.5126882\ttotal: 36.4s\tremaining: 46.9s\n",
      "350:\tlearn: -0.5126186\ttotal: 36.6s\tremaining: 46.8s\n",
      "351:\tlearn: -0.5125489\ttotal: 36.7s\tremaining: 46.7s\n",
      "352:\tlearn: -0.5124810\ttotal: 36.9s\tremaining: 46.7s\n",
      "353:\tlearn: -0.5120844\ttotal: 37s\tremaining: 46.6s\n",
      "354:\tlearn: -0.5120757\ttotal: 37.1s\tremaining: 46.5s\n",
      "355:\tlearn: -0.5120518\ttotal: 37.2s\tremaining: 46.4s\n",
      "356:\tlearn: -0.5120517\ttotal: 37.3s\tremaining: 46.3s\n",
      "357:\tlearn: -0.5120490\ttotal: 37.4s\tremaining: 46.2s\n",
      "358:\tlearn: -0.5120032\ttotal: 37.5s\tremaining: 46.1s\n",
      "359:\tlearn: -0.5118437\ttotal: 37.7s\tremaining: 46s\n",
      "360:\tlearn: -0.5117794\ttotal: 37.8s\tremaining: 46s\n",
      "361:\tlearn: -0.5116784\ttotal: 38s\tremaining: 45.9s\n",
      "362:\tlearn: -0.5116603\ttotal: 38.1s\tremaining: 45.8s\n",
      "363:\tlearn: -0.5116602\ttotal: 38.1s\tremaining: 45.7s\n",
      "364:\tlearn: -0.5116596\ttotal: 38.2s\tremaining: 45.6s\n",
      "365:\tlearn: -0.5116474\ttotal: 38.3s\tremaining: 45.5s\n",
      "366:\tlearn: -0.5116347\ttotal: 38.4s\tremaining: 45.3s\n",
      "367:\tlearn: -0.5114473\ttotal: 38.6s\tremaining: 45.3s\n",
      "368:\tlearn: -0.5114472\ttotal: 38.6s\tremaining: 45.1s\n",
      "369:\tlearn: -0.5112523\ttotal: 38.8s\tremaining: 45.1s\n",
      "370:\tlearn: -0.5112488\ttotal: 38.9s\tremaining: 45s\n",
      "371:\tlearn: -0.5112236\ttotal: 39.1s\tremaining: 45s\n",
      "372:\tlearn: -0.5111735\ttotal: 39.2s\tremaining: 44.9s\n",
      "373:\tlearn: -0.5111273\ttotal: 39.3s\tremaining: 44.8s\n",
      "374:\tlearn: -0.5111201\ttotal: 39.4s\tremaining: 44.6s\n",
      "375:\tlearn: -0.5110588\ttotal: 39.5s\tremaining: 44.5s\n",
      "376:\tlearn: -0.5109595\ttotal: 39.6s\tremaining: 44.5s\n",
      "377:\tlearn: -0.5108507\ttotal: 39.7s\tremaining: 44.4s\n",
      "378:\tlearn: -0.5108506\ttotal: 39.8s\tremaining: 44.2s\n",
      "379:\tlearn: -0.5107915\ttotal: 39.9s\tremaining: 44.1s\n",
      "380:\tlearn: -0.5107881\ttotal: 40s\tremaining: 44s\n",
      "381:\tlearn: -0.5106215\ttotal: 40.1s\tremaining: 43.9s\n",
      "382:\tlearn: -0.5104715\ttotal: 40.2s\tremaining: 43.8s\n",
      "383:\tlearn: -0.5103978\ttotal: 40.3s\tremaining: 43.7s\n",
      "384:\tlearn: -0.5103486\ttotal: 40.4s\tremaining: 43.6s\n",
      "385:\tlearn: -0.5102276\ttotal: 40.5s\tremaining: 43.5s\n",
      "386:\tlearn: -0.5101393\ttotal: 40.6s\tremaining: 43.4s\n",
      "387:\tlearn: -0.5100588\ttotal: 40.7s\tremaining: 43.3s\n",
      "388:\tlearn: -0.5099730\ttotal: 40.9s\tremaining: 43.2s\n",
      "389:\tlearn: -0.5099699\ttotal: 40.9s\tremaining: 43s\n",
      "390:\tlearn: -0.5099659\ttotal: 41s\tremaining: 42.9s\n",
      "391:\tlearn: -0.5097992\ttotal: 41.1s\tremaining: 42.8s\n",
      "392:\tlearn: -0.5097480\ttotal: 41.2s\tremaining: 42.7s\n",
      "393:\tlearn: -0.5096648\ttotal: 41.3s\tremaining: 42.6s\n",
      "394:\tlearn: -0.5096648\ttotal: 41.4s\tremaining: 42.4s\n",
      "395:\tlearn: -0.5096381\ttotal: 41.5s\tremaining: 42.3s\n",
      "396:\tlearn: -0.5096140\ttotal: 41.6s\tremaining: 42.2s\n",
      "397:\tlearn: -0.5095849\ttotal: 41.7s\tremaining: 42.1s\n",
      "398:\tlearn: -0.5095767\ttotal: 41.8s\tremaining: 42s\n",
      "399:\tlearn: -0.5095746\ttotal: 41.8s\tremaining: 41.8s\n",
      "400:\tlearn: -0.5094863\ttotal: 41.9s\tremaining: 41.7s\n",
      "401:\tlearn: -0.5091829\ttotal: 42.1s\tremaining: 41.6s\n",
      "402:\tlearn: -0.5089007\ttotal: 42.2s\tremaining: 41.5s\n",
      "403:\tlearn: -0.5088734\ttotal: 42.2s\tremaining: 41.4s\n",
      "404:\tlearn: -0.5088733\ttotal: 42.3s\tremaining: 41.3s\n",
      "405:\tlearn: -0.5088509\ttotal: 42.4s\tremaining: 41.2s\n",
      "406:\tlearn: -0.5087058\ttotal: 42.5s\tremaining: 41.1s\n",
      "407:\tlearn: -0.5086442\ttotal: 42.6s\tremaining: 41s\n",
      "408:\tlearn: -0.5086150\ttotal: 42.7s\tremaining: 40.9s\n",
      "409:\tlearn: -0.5086147\ttotal: 42.8s\tremaining: 40.7s\n",
      "410:\tlearn: -0.5085397\ttotal: 42.9s\tremaining: 40.6s\n",
      "411:\tlearn: -0.5085394\ttotal: 43s\tremaining: 40.5s\n",
      "412:\tlearn: -0.5084720\ttotal: 43.1s\tremaining: 40.4s\n",
      "413:\tlearn: -0.5084556\ttotal: 43.2s\tremaining: 40.3s\n",
      "414:\tlearn: -0.5084399\ttotal: 43.3s\tremaining: 40.2s\n",
      "415:\tlearn: -0.5084005\ttotal: 43.4s\tremaining: 40.1s\n",
      "416:\tlearn: -0.5083542\ttotal: 43.5s\tremaining: 40s\n",
      "417:\tlearn: -0.5082833\ttotal: 43.7s\tremaining: 39.9s\n",
      "418:\tlearn: -0.5082832\ttotal: 43.7s\tremaining: 39.8s\n",
      "419:\tlearn: -0.5082724\ttotal: 43.9s\tremaining: 39.7s\n",
      "420:\tlearn: -0.5082723\ttotal: 43.9s\tremaining: 39.6s\n",
      "421:\tlearn: -0.5082208\ttotal: 44.1s\tremaining: 39.5s\n",
      "422:\tlearn: -0.5081890\ttotal: 44.2s\tremaining: 39.4s\n",
      "423:\tlearn: -0.5081602\ttotal: 44.3s\tremaining: 39.3s\n",
      "424:\tlearn: -0.5081095\ttotal: 44.4s\tremaining: 39.2s\n",
      "425:\tlearn: -0.5081074\ttotal: 44.5s\tremaining: 39.1s\n",
      "426:\tlearn: -0.5080404\ttotal: 44.6s\tremaining: 39s\n",
      "427:\tlearn: -0.5080402\ttotal: 44.7s\tremaining: 38.9s\n",
      "428:\tlearn: -0.5079634\ttotal: 44.8s\tremaining: 38.8s\n",
      "429:\tlearn: -0.5079240\ttotal: 44.9s\tremaining: 38.7s\n",
      "430:\tlearn: -0.5077226\ttotal: 45.1s\tremaining: 38.6s\n",
      "431:\tlearn: -0.5076784\ttotal: 45.2s\tremaining: 38.5s\n",
      "432:\tlearn: -0.5072559\ttotal: 45.3s\tremaining: 38.4s\n",
      "433:\tlearn: -0.5071738\ttotal: 45.4s\tremaining: 38.3s\n",
      "434:\tlearn: -0.5070518\ttotal: 45.5s\tremaining: 38.2s\n",
      "435:\tlearn: -0.5070518\ttotal: 45.6s\tremaining: 38.1s\n",
      "436:\tlearn: -0.5070517\ttotal: 45.7s\tremaining: 37.9s\n",
      "437:\tlearn: -0.5069939\ttotal: 45.8s\tremaining: 37.8s\n",
      "438:\tlearn: -0.5069589\ttotal: 45.9s\tremaining: 37.8s\n",
      "439:\tlearn: -0.5067591\ttotal: 46s\tremaining: 37.7s\n",
      "440:\tlearn: -0.5066439\ttotal: 46.1s\tremaining: 37.6s\n",
      "441:\tlearn: -0.5065630\ttotal: 46.2s\tremaining: 37.5s\n",
      "442:\tlearn: -0.5064812\ttotal: 46.4s\tremaining: 37.4s\n",
      "443:\tlearn: -0.5063910\ttotal: 46.5s\tremaining: 37.3s\n",
      "444:\tlearn: -0.5063529\ttotal: 46.6s\tremaining: 37.2s\n",
      "445:\tlearn: -0.5063505\ttotal: 46.7s\tremaining: 37.1s\n",
      "446:\tlearn: -0.5063021\ttotal: 46.8s\tremaining: 37s\n",
      "447:\tlearn: -0.5062049\ttotal: 46.9s\tremaining: 36.9s\n",
      "448:\tlearn: -0.5060062\ttotal: 47s\tremaining: 36.8s\n",
      "449:\tlearn: -0.5059425\ttotal: 47.1s\tremaining: 36.7s\n",
      "450:\tlearn: -0.5056411\ttotal: 47.2s\tremaining: 36.6s\n",
      "451:\tlearn: -0.5056408\ttotal: 47.3s\tremaining: 36.4s\n",
      "452:\tlearn: -0.5056405\ttotal: 47.4s\tremaining: 36.3s\n",
      "453:\tlearn: -0.5055379\ttotal: 47.5s\tremaining: 36.2s\n",
      "454:\tlearn: -0.5054676\ttotal: 47.6s\tremaining: 36.1s\n",
      "455:\tlearn: -0.5054676\ttotal: 47.7s\tremaining: 36s\n",
      "456:\tlearn: -0.5053964\ttotal: 47.8s\tremaining: 35.9s\n",
      "457:\tlearn: -0.5053914\ttotal: 47.9s\tremaining: 35.8s\n",
      "458:\tlearn: -0.5053119\ttotal: 48s\tremaining: 35.7s\n",
      "459:\tlearn: -0.5053118\ttotal: 48.1s\tremaining: 35.5s\n",
      "460:\tlearn: -0.5052959\ttotal: 48.2s\tremaining: 35.4s\n",
      "461:\tlearn: -0.5052958\ttotal: 48.2s\tremaining: 35.3s\n",
      "462:\tlearn: -0.5052958\ttotal: 48.3s\tremaining: 35.2s\n",
      "463:\tlearn: -0.5052636\ttotal: 48.4s\tremaining: 35.1s\n",
      "464:\tlearn: -0.5052614\ttotal: 48.5s\tremaining: 34.9s\n",
      "465:\tlearn: -0.5052564\ttotal: 48.6s\tremaining: 34.8s\n",
      "466:\tlearn: -0.5052227\ttotal: 48.7s\tremaining: 34.7s\n",
      "467:\tlearn: -0.5051914\ttotal: 48.8s\tremaining: 34.6s\n",
      "468:\tlearn: -0.5051088\ttotal: 48.9s\tremaining: 34.5s\n",
      "469:\tlearn: -0.5050289\ttotal: 49s\tremaining: 34.4s\n",
      "470:\tlearn: -0.5050232\ttotal: 49.2s\tremaining: 34.3s\n",
      "471:\tlearn: -0.5049130\ttotal: 49.3s\tremaining: 34.2s\n"
     ]
    },
    {
     "name": "stdout",
     "output_type": "stream",
     "text": [
      "472:\tlearn: -0.5048446\ttotal: 49.4s\tremaining: 34.1s\n",
      "473:\tlearn: -0.5047788\ttotal: 49.5s\tremaining: 34s\n",
      "474:\tlearn: -0.5047135\ttotal: 49.6s\tremaining: 33.9s\n",
      "475:\tlearn: -0.5047129\ttotal: 49.7s\tremaining: 33.8s\n",
      "476:\tlearn: -0.5046579\ttotal: 49.8s\tremaining: 33.7s\n",
      "477:\tlearn: -0.5046072\ttotal: 49.9s\tremaining: 33.6s\n",
      "478:\tlearn: -0.5046072\ttotal: 50s\tremaining: 33.5s\n",
      "479:\tlearn: -0.5044461\ttotal: 50.1s\tremaining: 33.4s\n",
      "480:\tlearn: -0.5043356\ttotal: 50.2s\tremaining: 33.3s\n",
      "481:\tlearn: -0.5042469\ttotal: 50.3s\tremaining: 33.2s\n",
      "482:\tlearn: -0.5042462\ttotal: 50.4s\tremaining: 33.1s\n",
      "483:\tlearn: -0.5042058\ttotal: 50.5s\tremaining: 33s\n",
      "484:\tlearn: -0.5041628\ttotal: 50.6s\tremaining: 32.9s\n",
      "485:\tlearn: -0.5041066\ttotal: 50.7s\tremaining: 32.8s\n",
      "486:\tlearn: -0.5040029\ttotal: 50.9s\tremaining: 32.7s\n",
      "487:\tlearn: -0.5039998\ttotal: 50.9s\tremaining: 32.6s\n",
      "488:\tlearn: -0.5039340\ttotal: 51s\tremaining: 32.5s\n",
      "489:\tlearn: -0.5039328\ttotal: 51.1s\tremaining: 32.3s\n",
      "490:\tlearn: -0.5038549\ttotal: 51.2s\tremaining: 32.2s\n",
      "491:\tlearn: -0.5037957\ttotal: 51.3s\tremaining: 32.1s\n",
      "492:\tlearn: -0.5037772\ttotal: 51.5s\tremaining: 32s\n",
      "493:\tlearn: -0.5036954\ttotal: 51.6s\tremaining: 31.9s\n",
      "494:\tlearn: -0.5036215\ttotal: 51.7s\tremaining: 31.8s\n",
      "495:\tlearn: -0.5035966\ttotal: 51.8s\tremaining: 31.8s\n",
      "496:\tlearn: -0.5034712\ttotal: 52s\tremaining: 31.7s\n",
      "497:\tlearn: -0.5034582\ttotal: 52s\tremaining: 31.6s\n",
      "498:\tlearn: -0.5033518\ttotal: 52.2s\tremaining: 31.5s\n",
      "499:\tlearn: -0.5032306\ttotal: 52.4s\tremaining: 31.4s\n",
      "500:\tlearn: -0.5032137\ttotal: 52.5s\tremaining: 31.3s\n",
      "501:\tlearn: -0.5031563\ttotal: 52.7s\tremaining: 31.3s\n",
      "502:\tlearn: -0.5031563\ttotal: 52.7s\tremaining: 31.1s\n",
      "503:\tlearn: -0.5029629\ttotal: 52.9s\tremaining: 31.1s\n",
      "504:\tlearn: -0.5027933\ttotal: 53s\tremaining: 31s\n",
      "505:\tlearn: -0.5027933\ttotal: 53.1s\tremaining: 30.9s\n",
      "506:\tlearn: -0.5027458\ttotal: 53.3s\tremaining: 30.8s\n",
      "507:\tlearn: -0.5025449\ttotal: 53.4s\tremaining: 30.7s\n",
      "508:\tlearn: -0.5025449\ttotal: 53.5s\tremaining: 30.6s\n",
      "509:\tlearn: -0.5023259\ttotal: 53.6s\tremaining: 30.5s\n",
      "510:\tlearn: -0.5023190\ttotal: 53.7s\tremaining: 30.4s\n",
      "511:\tlearn: -0.5023188\ttotal: 53.8s\tremaining: 30.2s\n",
      "512:\tlearn: -0.5022293\ttotal: 53.9s\tremaining: 30.1s\n",
      "513:\tlearn: -0.5022287\ttotal: 54s\tremaining: 30s\n",
      "514:\tlearn: -0.5020772\ttotal: 54.1s\tremaining: 29.9s\n",
      "515:\tlearn: -0.5020711\ttotal: 54.2s\tremaining: 29.8s\n",
      "516:\tlearn: -0.5020710\ttotal: 54.3s\tremaining: 29.7s\n",
      "517:\tlearn: -0.5020340\ttotal: 54.4s\tremaining: 29.6s\n",
      "518:\tlearn: -0.5019585\ttotal: 54.6s\tremaining: 29.6s\n",
      "519:\tlearn: -0.5019584\ttotal: 54.7s\tremaining: 29.4s\n",
      "520:\tlearn: -0.5019462\ttotal: 54.8s\tremaining: 29.4s\n",
      "521:\tlearn: -0.5019397\ttotal: 55s\tremaining: 29.3s\n",
      "522:\tlearn: -0.5019334\ttotal: 55.1s\tremaining: 29.2s\n",
      "523:\tlearn: -0.5018941\ttotal: 55.3s\tremaining: 29.1s\n",
      "524:\tlearn: -0.5018782\ttotal: 55.4s\tremaining: 29s\n",
      "525:\tlearn: -0.5018243\ttotal: 55.5s\tremaining: 28.9s\n",
      "526:\tlearn: -0.5017492\ttotal: 55.7s\tremaining: 28.8s\n",
      "527:\tlearn: -0.5016528\ttotal: 55.8s\tremaining: 28.7s\n",
      "528:\tlearn: -0.5016499\ttotal: 55.9s\tremaining: 28.6s\n",
      "529:\tlearn: -0.5016487\ttotal: 56s\tremaining: 28.5s\n",
      "530:\tlearn: -0.5016199\ttotal: 56.1s\tremaining: 28.4s\n",
      "531:\tlearn: -0.5016199\ttotal: 56.2s\tremaining: 28.3s\n",
      "532:\tlearn: -0.5016199\ttotal: 56.3s\tremaining: 28.2s\n",
      "533:\tlearn: -0.5015734\ttotal: 56.4s\tremaining: 28.1s\n",
      "534:\tlearn: -0.5015286\ttotal: 56.5s\tremaining: 28s\n",
      "535:\tlearn: -0.5015234\ttotal: 56.6s\tremaining: 27.9s\n",
      "536:\tlearn: -0.5014882\ttotal: 56.7s\tremaining: 27.8s\n",
      "537:\tlearn: -0.5013738\ttotal: 56.9s\tremaining: 27.7s\n",
      "538:\tlearn: -0.5013716\ttotal: 57s\tremaining: 27.6s\n",
      "539:\tlearn: -0.5013692\ttotal: 57.1s\tremaining: 27.5s\n",
      "540:\tlearn: -0.5013507\ttotal: 57.1s\tremaining: 27.3s\n",
      "541:\tlearn: -0.5013129\ttotal: 57.2s\tremaining: 27.2s\n",
      "542:\tlearn: -0.5013018\ttotal: 57.4s\tremaining: 27.1s\n",
      "543:\tlearn: -0.5012464\ttotal: 57.5s\tremaining: 27s\n",
      "544:\tlearn: -0.5012464\ttotal: 57.5s\tremaining: 26.9s\n",
      "545:\tlearn: -0.5011819\ttotal: 57.6s\tremaining: 26.8s\n",
      "546:\tlearn: -0.5010657\ttotal: 57.8s\tremaining: 26.7s\n",
      "547:\tlearn: -0.5010007\ttotal: 57.9s\tremaining: 26.6s\n",
      "548:\tlearn: -0.5007456\ttotal: 58s\tremaining: 26.5s\n",
      "549:\tlearn: -0.5007136\ttotal: 58.1s\tremaining: 26.4s\n",
      "550:\tlearn: -0.5006497\ttotal: 58.2s\tremaining: 26.3s\n",
      "551:\tlearn: -0.5006497\ttotal: 58.2s\tremaining: 26.2s\n",
      "552:\tlearn: -0.5006496\ttotal: 58.3s\tremaining: 26s\n",
      "553:\tlearn: -0.5005934\ttotal: 58.4s\tremaining: 25.9s\n",
      "554:\tlearn: -0.5005599\ttotal: 58.5s\tremaining: 25.8s\n",
      "555:\tlearn: -0.5005593\ttotal: 58.6s\tremaining: 25.7s\n",
      "556:\tlearn: -0.5005508\ttotal: 58.7s\tremaining: 25.6s\n",
      "557:\tlearn: -0.5005498\ttotal: 58.8s\tremaining: 25.5s\n",
      "558:\tlearn: -0.5005157\ttotal: 58.9s\tremaining: 25.4s\n",
      "559:\tlearn: -0.5004901\ttotal: 59s\tremaining: 25.3s\n",
      "560:\tlearn: -0.5004894\ttotal: 59.1s\tremaining: 25.2s\n",
      "561:\tlearn: -0.5004893\ttotal: 59.1s\tremaining: 25s\n",
      "562:\tlearn: -0.5004600\ttotal: 59.2s\tremaining: 24.9s\n",
      "563:\tlearn: -0.5004591\ttotal: 59.3s\tremaining: 24.8s\n",
      "564:\tlearn: -0.5004577\ttotal: 59.4s\tremaining: 24.7s\n",
      "565:\tlearn: -0.5004276\ttotal: 59.5s\tremaining: 24.6s\n",
      "566:\tlearn: -0.5003812\ttotal: 59.6s\tremaining: 24.5s\n",
      "567:\tlearn: -0.5003811\ttotal: 59.7s\tremaining: 24.4s\n",
      "568:\tlearn: -0.5003797\ttotal: 59.8s\tremaining: 24.3s\n",
      "569:\tlearn: -0.5001653\ttotal: 59.9s\tremaining: 24.2s\n",
      "570:\tlearn: -0.5000875\ttotal: 60s\tremaining: 24.1s\n",
      "571:\tlearn: -0.5000513\ttotal: 1m\tremaining: 24s\n",
      "572:\tlearn: -0.5000481\ttotal: 1m\tremaining: 23.8s\n",
      "573:\tlearn: -0.5000479\ttotal: 1m\tremaining: 23.7s\n",
      "574:\tlearn: -0.4999744\ttotal: 1m\tremaining: 23.6s\n",
      "575:\tlearn: -0.4998986\ttotal: 1m\tremaining: 23.5s\n",
      "576:\tlearn: -0.4998699\ttotal: 1m\tremaining: 23.4s\n",
      "577:\tlearn: -0.4998663\ttotal: 1m\tremaining: 23.3s\n",
      "578:\tlearn: -0.4997838\ttotal: 1m\tremaining: 23.2s\n",
      "579:\tlearn: -0.4997829\ttotal: 1m\tremaining: 23.1s\n",
      "580:\tlearn: -0.4997320\ttotal: 1m\tremaining: 23s\n",
      "581:\tlearn: -0.4997288\ttotal: 1m 1s\tremaining: 22.9s\n",
      "582:\tlearn: -0.4997139\ttotal: 1m 1s\tremaining: 22.8s\n",
      "583:\tlearn: -0.4996119\ttotal: 1m 1s\tremaining: 22.7s\n",
      "584:\tlearn: -0.4993700\ttotal: 1m 1s\tremaining: 22.6s\n",
      "585:\tlearn: -0.4991647\ttotal: 1m 1s\tremaining: 22.4s\n",
      "586:\tlearn: -0.4991641\ttotal: 1m 1s\tremaining: 22.3s\n",
      "587:\tlearn: -0.4991611\ttotal: 1m 1s\tremaining: 22.2s\n",
      "588:\tlearn: -0.4991471\ttotal: 1m 1s\tremaining: 22.1s\n",
      "589:\tlearn: -0.4990992\ttotal: 1m 1s\tremaining: 22s\n",
      "590:\tlearn: -0.4990951\ttotal: 1m 1s\tremaining: 21.9s\n",
      "591:\tlearn: -0.4990950\ttotal: 1m 2s\tremaining: 21.8s\n",
      "592:\tlearn: -0.4990661\ttotal: 1m 2s\tremaining: 21.7s\n",
      "593:\tlearn: -0.4990651\ttotal: 1m 2s\tremaining: 21.6s\n",
      "594:\tlearn: -0.4990635\ttotal: 1m 2s\tremaining: 21.5s\n",
      "595:\tlearn: -0.4989944\ttotal: 1m 2s\tremaining: 21.4s\n",
      "596:\tlearn: -0.4989943\ttotal: 1m 2s\tremaining: 21.3s\n",
      "597:\tlearn: -0.4989417\ttotal: 1m 2s\tremaining: 21.1s\n",
      "598:\tlearn: -0.4989343\ttotal: 1m 2s\tremaining: 21s\n",
      "599:\tlearn: -0.4987647\ttotal: 1m 2s\tremaining: 20.9s\n",
      "600:\tlearn: -0.4987647\ttotal: 1m 2s\tremaining: 20.8s\n",
      "601:\tlearn: -0.4987629\ttotal: 1m 2s\tremaining: 20.7s\n",
      "602:\tlearn: -0.4986348\ttotal: 1m 3s\tremaining: 20.6s\n",
      "603:\tlearn: -0.4986305\ttotal: 1m 3s\tremaining: 20.5s\n",
      "604:\tlearn: -0.4985580\ttotal: 1m 3s\tremaining: 20.4s\n",
      "605:\tlearn: -0.4984016\ttotal: 1m 3s\tremaining: 20.3s\n",
      "606:\tlearn: -0.4982966\ttotal: 1m 3s\tremaining: 20.2s\n",
      "607:\tlearn: -0.4982965\ttotal: 1m 3s\tremaining: 20.1s\n",
      "608:\tlearn: -0.4981939\ttotal: 1m 3s\tremaining: 20s\n",
      "609:\tlearn: -0.4980563\ttotal: 1m 3s\tremaining: 19.9s\n",
      "610:\tlearn: -0.4979937\ttotal: 1m 3s\tremaining: 19.8s\n",
      "611:\tlearn: -0.4979478\ttotal: 1m 3s\tremaining: 19.7s\n",
      "612:\tlearn: -0.4978934\ttotal: 1m 4s\tremaining: 19.6s\n",
      "613:\tlearn: -0.4976966\ttotal: 1m 4s\tremaining: 19.4s\n",
      "614:\tlearn: -0.4976526\ttotal: 1m 4s\tremaining: 19.3s\n",
      "615:\tlearn: -0.4974135\ttotal: 1m 4s\tremaining: 19.2s\n",
      "616:\tlearn: -0.4973623\ttotal: 1m 4s\tremaining: 19.1s\n",
      "617:\tlearn: -0.4971509\ttotal: 1m 4s\tremaining: 19s\n",
      "618:\tlearn: -0.4971505\ttotal: 1m 4s\tremaining: 18.9s\n",
      "619:\tlearn: -0.4971363\ttotal: 1m 4s\tremaining: 18.8s\n",
      "620:\tlearn: -0.4971363\ttotal: 1m 4s\tremaining: 18.7s\n",
      "621:\tlearn: -0.4970695\ttotal: 1m 4s\tremaining: 18.6s\n",
      "622:\tlearn: -0.4970585\ttotal: 1m 5s\tremaining: 18.5s\n",
      "623:\tlearn: -0.4969712\ttotal: 1m 5s\tremaining: 18.4s\n",
      "624:\tlearn: -0.4969348\ttotal: 1m 5s\tremaining: 18.3s\n",
      "625:\tlearn: -0.4967933\ttotal: 1m 5s\tremaining: 18.2s\n",
      "626:\tlearn: -0.4967931\ttotal: 1m 5s\tremaining: 18.1s\n",
      "627:\tlearn: -0.4967898\ttotal: 1m 5s\tremaining: 18s\n",
      "628:\tlearn: -0.4967872\ttotal: 1m 5s\tremaining: 17.9s\n"
     ]
    },
    {
     "name": "stdout",
     "output_type": "stream",
     "text": [
      "629:\tlearn: -0.4967811\ttotal: 1m 5s\tremaining: 17.8s\n",
      "630:\tlearn: -0.4967778\ttotal: 1m 5s\tremaining: 17.7s\n",
      "631:\tlearn: -0.4967777\ttotal: 1m 5s\tremaining: 17.5s\n",
      "632:\tlearn: -0.4965791\ttotal: 1m 6s\tremaining: 17.4s\n",
      "633:\tlearn: -0.4965729\ttotal: 1m 6s\tremaining: 17.3s\n",
      "634:\tlearn: -0.4965728\ttotal: 1m 6s\tremaining: 17.2s\n",
      "635:\tlearn: -0.4964785\ttotal: 1m 6s\tremaining: 17.1s\n",
      "636:\tlearn: -0.4964361\ttotal: 1m 6s\tremaining: 17s\n",
      "637:\tlearn: -0.4964348\ttotal: 1m 6s\tremaining: 16.9s\n",
      "638:\tlearn: -0.4964316\ttotal: 1m 6s\tremaining: 16.8s\n",
      "639:\tlearn: -0.4964315\ttotal: 1m 6s\tremaining: 16.7s\n",
      "640:\tlearn: -0.4963825\ttotal: 1m 7s\tremaining: 16.6s\n",
      "641:\tlearn: -0.4962436\ttotal: 1m 7s\tremaining: 16.5s\n",
      "642:\tlearn: -0.4962344\ttotal: 1m 7s\tremaining: 16.4s\n",
      "643:\tlearn: -0.4960452\ttotal: 1m 7s\tremaining: 16.3s\n",
      "644:\tlearn: -0.4959464\ttotal: 1m 7s\tremaining: 16.2s\n",
      "645:\tlearn: -0.4959451\ttotal: 1m 7s\tremaining: 16.1s\n",
      "646:\tlearn: -0.4959418\ttotal: 1m 7s\tremaining: 16s\n",
      "647:\tlearn: -0.4959416\ttotal: 1m 7s\tremaining: 15.9s\n",
      "648:\tlearn: -0.4959415\ttotal: 1m 7s\tremaining: 15.8s\n",
      "649:\tlearn: -0.4958147\ttotal: 1m 8s\tremaining: 15.7s\n",
      "650:\tlearn: -0.4958139\ttotal: 1m 8s\tremaining: 15.6s\n",
      "651:\tlearn: -0.4957608\ttotal: 1m 8s\tremaining: 15.5s\n",
      "652:\tlearn: -0.4957608\ttotal: 1m 8s\tremaining: 15.4s\n",
      "653:\tlearn: -0.4954904\ttotal: 1m 8s\tremaining: 15.3s\n",
      "654:\tlearn: -0.4954845\ttotal: 1m 8s\tremaining: 15.2s\n",
      "655:\tlearn: -0.4954799\ttotal: 1m 8s\tremaining: 15.1s\n",
      "656:\tlearn: -0.4954799\ttotal: 1m 8s\tremaining: 15s\n",
      "657:\tlearn: -0.4954767\ttotal: 1m 9s\tremaining: 14.9s\n",
      "658:\tlearn: -0.4954154\ttotal: 1m 9s\tremaining: 14.8s\n",
      "659:\tlearn: -0.4954137\ttotal: 1m 9s\tremaining: 14.7s\n",
      "660:\tlearn: -0.4953755\ttotal: 1m 9s\tremaining: 14.6s\n",
      "661:\tlearn: -0.4953755\ttotal: 1m 9s\tremaining: 14.5s\n",
      "662:\tlearn: -0.4953619\ttotal: 1m 9s\tremaining: 14.4s\n",
      "663:\tlearn: -0.4953618\ttotal: 1m 9s\tremaining: 14.3s\n",
      "664:\tlearn: -0.4953180\ttotal: 1m 9s\tremaining: 14.2s\n",
      "665:\tlearn: -0.4952777\ttotal: 1m 10s\tremaining: 14.1s\n",
      "666:\tlearn: -0.4952771\ttotal: 1m 10s\tremaining: 14s\n",
      "667:\tlearn: -0.4952770\ttotal: 1m 10s\tremaining: 13.9s\n",
      "668:\tlearn: -0.4952491\ttotal: 1m 10s\tremaining: 13.8s\n",
      "669:\tlearn: -0.4952480\ttotal: 1m 10s\tremaining: 13.7s\n",
      "670:\tlearn: -0.4952479\ttotal: 1m 10s\tremaining: 13.6s\n",
      "671:\tlearn: -0.4951256\ttotal: 1m 10s\tremaining: 13.5s\n",
      "672:\tlearn: -0.4951254\ttotal: 1m 10s\tremaining: 13.4s\n",
      "673:\tlearn: -0.4951247\ttotal: 1m 11s\tremaining: 13.3s\n",
      "674:\tlearn: -0.4950664\ttotal: 1m 11s\tremaining: 13.2s\n",
      "675:\tlearn: -0.4950625\ttotal: 1m 11s\tremaining: 13.1s\n",
      "676:\tlearn: -0.4950582\ttotal: 1m 11s\tremaining: 13s\n",
      "677:\tlearn: -0.4949819\ttotal: 1m 11s\tremaining: 12.9s\n",
      "678:\tlearn: -0.4949786\ttotal: 1m 11s\tremaining: 12.8s\n",
      "679:\tlearn: -0.4949778\ttotal: 1m 11s\tremaining: 12.7s\n",
      "680:\tlearn: -0.4948835\ttotal: 1m 11s\tremaining: 12.6s\n",
      "681:\tlearn: -0.4948813\ttotal: 1m 12s\tremaining: 12.5s\n",
      "682:\tlearn: -0.4948520\ttotal: 1m 12s\tremaining: 12.4s\n",
      "683:\tlearn: -0.4948515\ttotal: 1m 12s\tremaining: 12.3s\n",
      "684:\tlearn: -0.4947089\ttotal: 1m 12s\tremaining: 12.2s\n",
      "685:\tlearn: -0.4947034\ttotal: 1m 12s\tremaining: 12.1s\n",
      "686:\tlearn: -0.4946948\ttotal: 1m 12s\tremaining: 12s\n",
      "687:\tlearn: -0.4946419\ttotal: 1m 12s\tremaining: 11.9s\n",
      "688:\tlearn: -0.4946401\ttotal: 1m 12s\tremaining: 11.8s\n",
      "689:\tlearn: -0.4946394\ttotal: 1m 13s\tremaining: 11.6s\n",
      "690:\tlearn: -0.4946393\ttotal: 1m 13s\tremaining: 11.5s\n",
      "691:\tlearn: -0.4945648\ttotal: 1m 13s\tremaining: 11.4s\n",
      "692:\tlearn: -0.4944741\ttotal: 1m 13s\tremaining: 11.3s\n",
      "693:\tlearn: -0.4943972\ttotal: 1m 13s\tremaining: 11.2s\n",
      "694:\tlearn: -0.4943970\ttotal: 1m 13s\tremaining: 11.1s\n",
      "695:\tlearn: -0.4943678\ttotal: 1m 13s\tremaining: 11s\n",
      "696:\tlearn: -0.4941840\ttotal: 1m 13s\tremaining: 10.9s\n",
      "697:\tlearn: -0.4941740\ttotal: 1m 13s\tremaining: 10.8s\n",
      "698:\tlearn: -0.4940901\ttotal: 1m 13s\tremaining: 10.7s\n",
      "699:\tlearn: -0.4939582\ttotal: 1m 14s\tremaining: 10.6s\n",
      "700:\tlearn: -0.4939564\ttotal: 1m 14s\tremaining: 10.5s\n",
      "701:\tlearn: -0.4938643\ttotal: 1m 14s\tremaining: 10.4s\n",
      "702:\tlearn: -0.4937339\ttotal: 1m 14s\tremaining: 10.3s\n",
      "703:\tlearn: -0.4937225\ttotal: 1m 14s\tremaining: 10.2s\n",
      "704:\tlearn: -0.4937225\ttotal: 1m 14s\tremaining: 10s\n",
      "705:\tlearn: -0.4936517\ttotal: 1m 14s\tremaining: 9.94s\n",
      "706:\tlearn: -0.4936376\ttotal: 1m 14s\tremaining: 9.83s\n",
      "707:\tlearn: -0.4935008\ttotal: 1m 14s\tremaining: 9.73s\n",
      "708:\tlearn: -0.4934990\ttotal: 1m 14s\tremaining: 9.62s\n",
      "709:\tlearn: -0.4934784\ttotal: 1m 15s\tremaining: 9.51s\n",
      "710:\tlearn: -0.4933371\ttotal: 1m 15s\tremaining: 9.41s\n",
      "711:\tlearn: -0.4932970\ttotal: 1m 15s\tremaining: 9.3s\n",
      "712:\tlearn: -0.4932969\ttotal: 1m 15s\tremaining: 9.19s\n",
      "713:\tlearn: -0.4932962\ttotal: 1m 15s\tremaining: 9.09s\n",
      "714:\tlearn: -0.4932785\ttotal: 1m 15s\tremaining: 8.98s\n",
      "715:\tlearn: -0.4932783\ttotal: 1m 15s\tremaining: 8.88s\n",
      "716:\tlearn: -0.4932722\ttotal: 1m 15s\tremaining: 8.77s\n",
      "717:\tlearn: -0.4932472\ttotal: 1m 15s\tremaining: 8.66s\n",
      "718:\tlearn: -0.4931720\ttotal: 1m 15s\tremaining: 8.55s\n",
      "719:\tlearn: -0.4931711\ttotal: 1m 16s\tremaining: 8.45s\n",
      "720:\tlearn: -0.4931674\ttotal: 1m 16s\tremaining: 8.34s\n",
      "721:\tlearn: -0.4931661\ttotal: 1m 16s\tremaining: 8.24s\n",
      "722:\tlearn: -0.4931483\ttotal: 1m 16s\tremaining: 8.13s\n",
      "723:\tlearn: -0.4931474\ttotal: 1m 16s\tremaining: 8.03s\n",
      "724:\tlearn: -0.4930179\ttotal: 1m 16s\tremaining: 7.92s\n",
      "725:\tlearn: -0.4930168\ttotal: 1m 16s\tremaining: 7.82s\n",
      "726:\tlearn: -0.4929255\ttotal: 1m 16s\tremaining: 7.72s\n",
      "727:\tlearn: -0.4929255\ttotal: 1m 16s\tremaining: 7.61s\n",
      "728:\tlearn: -0.4929255\ttotal: 1m 17s\tremaining: 7.5s\n",
      "729:\tlearn: -0.4929254\ttotal: 1m 17s\tremaining: 7.39s\n",
      "730:\tlearn: -0.4928848\ttotal: 1m 17s\tremaining: 7.29s\n",
      "731:\tlearn: -0.4928637\ttotal: 1m 17s\tremaining: 7.19s\n",
      "732:\tlearn: -0.4928637\ttotal: 1m 17s\tremaining: 7.08s\n",
      "733:\tlearn: -0.4927434\ttotal: 1m 17s\tremaining: 6.97s\n",
      "734:\tlearn: -0.4927353\ttotal: 1m 17s\tremaining: 6.86s\n",
      "735:\tlearn: -0.4927342\ttotal: 1m 17s\tremaining: 6.76s\n",
      "736:\tlearn: -0.4926685\ttotal: 1m 17s\tremaining: 6.66s\n",
      "737:\tlearn: -0.4925200\ttotal: 1m 17s\tremaining: 6.55s\n",
      "738:\tlearn: -0.4924820\ttotal: 1m 18s\tremaining: 6.45s\n",
      "739:\tlearn: -0.4924820\ttotal: 1m 18s\tremaining: 6.34s\n",
      "740:\tlearn: -0.4924203\ttotal: 1m 18s\tremaining: 6.24s\n",
      "741:\tlearn: -0.4924202\ttotal: 1m 18s\tremaining: 6.13s\n",
      "742:\tlearn: -0.4924080\ttotal: 1m 18s\tremaining: 6.02s\n",
      "743:\tlearn: -0.4924080\ttotal: 1m 18s\tremaining: 5.91s\n",
      "744:\tlearn: -0.4924074\ttotal: 1m 18s\tremaining: 5.81s\n",
      "745:\tlearn: -0.4923853\ttotal: 1m 18s\tremaining: 5.7s\n",
      "746:\tlearn: -0.4923294\ttotal: 1m 18s\tremaining: 5.6s\n",
      "747:\tlearn: -0.4922094\ttotal: 1m 19s\tremaining: 5.49s\n",
      "748:\tlearn: -0.4922094\ttotal: 1m 19s\tremaining: 5.38s\n",
      "749:\tlearn: -0.4922086\ttotal: 1m 19s\tremaining: 5.28s\n",
      "750:\tlearn: -0.4922086\ttotal: 1m 19s\tremaining: 5.17s\n",
      "751:\tlearn: -0.4922076\ttotal: 1m 19s\tremaining: 5.06s\n",
      "752:\tlearn: -0.4921640\ttotal: 1m 19s\tremaining: 4.96s\n",
      "753:\tlearn: -0.4921639\ttotal: 1m 19s\tremaining: 4.85s\n",
      "754:\tlearn: -0.4921220\ttotal: 1m 19s\tremaining: 4.75s\n",
      "755:\tlearn: -0.4920649\ttotal: 1m 19s\tremaining: 4.64s\n",
      "756:\tlearn: -0.4920443\ttotal: 1m 19s\tremaining: 4.54s\n",
      "757:\tlearn: -0.4919685\ttotal: 1m 19s\tremaining: 4.43s\n",
      "758:\tlearn: -0.4919685\ttotal: 1m 20s\tremaining: 4.32s\n",
      "759:\tlearn: -0.4919022\ttotal: 1m 20s\tremaining: 4.22s\n",
      "760:\tlearn: -0.4918262\ttotal: 1m 20s\tremaining: 4.11s\n",
      "761:\tlearn: -0.4918257\ttotal: 1m 20s\tremaining: 4.01s\n",
      "762:\tlearn: -0.4917824\ttotal: 1m 20s\tremaining: 3.9s\n",
      "763:\tlearn: -0.4916848\ttotal: 1m 20s\tremaining: 3.8s\n",
      "764:\tlearn: -0.4916837\ttotal: 1m 20s\tremaining: 3.69s\n",
      "765:\tlearn: -0.4915989\ttotal: 1m 20s\tremaining: 3.59s\n",
      "766:\tlearn: -0.4914354\ttotal: 1m 20s\tremaining: 3.48s\n",
      "767:\tlearn: -0.4913650\ttotal: 1m 21s\tremaining: 3.38s\n",
      "768:\tlearn: -0.4912103\ttotal: 1m 21s\tremaining: 3.27s\n",
      "769:\tlearn: -0.4912079\ttotal: 1m 21s\tremaining: 3.17s\n",
      "770:\tlearn: -0.4910345\ttotal: 1m 21s\tremaining: 3.06s\n",
      "771:\tlearn: -0.4910345\ttotal: 1m 21s\tremaining: 2.95s\n",
      "772:\tlearn: -0.4909892\ttotal: 1m 21s\tremaining: 2.85s\n",
      "773:\tlearn: -0.4908501\ttotal: 1m 21s\tremaining: 2.74s\n",
      "774:\tlearn: -0.4907900\ttotal: 1m 21s\tremaining: 2.64s\n",
      "775:\tlearn: -0.4907884\ttotal: 1m 21s\tremaining: 2.53s\n",
      "776:\tlearn: -0.4907884\ttotal: 1m 21s\tremaining: 2.42s\n",
      "777:\tlearn: -0.4907883\ttotal: 1m 21s\tremaining: 2.32s\n",
      "778:\tlearn: -0.4907879\ttotal: 1m 22s\tremaining: 2.21s\n",
      "779:\tlearn: -0.4907850\ttotal: 1m 22s\tremaining: 2.11s\n",
      "780:\tlearn: -0.4907848\ttotal: 1m 22s\tremaining: 2s\n",
      "781:\tlearn: -0.4907486\ttotal: 1m 22s\tremaining: 1.9s\n",
      "782:\tlearn: -0.4907486\ttotal: 1m 22s\tremaining: 1.79s\n",
      "783:\tlearn: -0.4906575\ttotal: 1m 22s\tremaining: 1.68s\n"
     ]
    },
    {
     "name": "stdout",
     "output_type": "stream",
     "text": [
      "784:\tlearn: -0.4906575\ttotal: 1m 22s\tremaining: 1.58s\n",
      "785:\tlearn: -0.4906455\ttotal: 1m 22s\tremaining: 1.47s\n",
      "786:\tlearn: -0.4906336\ttotal: 1m 22s\tremaining: 1.37s\n",
      "787:\tlearn: -0.4906331\ttotal: 1m 22s\tremaining: 1.26s\n",
      "788:\tlearn: -0.4905990\ttotal: 1m 23s\tremaining: 1.16s\n",
      "789:\tlearn: -0.4905724\ttotal: 1m 23s\tremaining: 1.05s\n",
      "790:\tlearn: -0.4904994\ttotal: 1m 23s\tremaining: 947ms\n",
      "791:\tlearn: -0.4904985\ttotal: 1m 23s\tremaining: 842ms\n",
      "792:\tlearn: -0.4903199\ttotal: 1m 23s\tremaining: 737ms\n",
      "793:\tlearn: -0.4903020\ttotal: 1m 23s\tremaining: 632ms\n",
      "794:\tlearn: -0.4903019\ttotal: 1m 23s\tremaining: 526ms\n",
      "795:\tlearn: -0.4903019\ttotal: 1m 23s\tremaining: 421ms\n",
      "796:\tlearn: -0.4903018\ttotal: 1m 23s\tremaining: 315ms\n",
      "797:\tlearn: -0.4902885\ttotal: 1m 23s\tremaining: 210ms\n",
      "798:\tlearn: -0.4902269\ttotal: 1m 24s\tremaining: 105ms\n",
      "799:\tlearn: -0.4901170\ttotal: 1m 24s\tremaining: 0us\n"
     ]
    },
    {
     "data": {
      "text/plain": [
       "BayesSearchCV(cv=3, error_score='raise',\n",
       "       estimator=<catboost.core.CatBoostClassifier object at 0x12cb0fb70>,\n",
       "       fit_params=None, iid=True, n_iter=10, n_jobs=-1, n_points=1,\n",
       "       optimizer_kwargs=None, pre_dispatch='2*n_jobs', random_state=None,\n",
       "       refit=True, return_train_score=False, scoring='neg_log_loss',\n",
       "       search_spaces={'one_hot_max_size': [24], 'learning_rate': [0.01, 1], 'loss_function': ['MultiClass'], 'depth': [6, 10], 'n_estimators': [800], 'l2_leaf_reg': [0.01, 0.1, 1]},\n",
       "       verbose=True)"
      ]
     },
     "execution_count": 173,
     "metadata": {},
     "output_type": "execute_result"
    }
   ],
   "source": [
    "cat = CatBoostClassifier(cat_features = [1, 2, 3, 4, 5, 6, 7, 8, 9, 10, 11, 12, 13])\n",
    "\n",
    "tuning_params = {'one_hot_max_size': [24], 'learning_rate': [1e-2, 1], 'loss_function': ['MultiClass'],\n",
    "                 'depth': [6, 10], 'n_estimators': [800], 'l2_leaf_reg': [1e-2, 1e-1, 1]}\n",
    "\n",
    "\n",
    "bs = BayesSearchCV(cat, tuning_params, cv=3, verbose=True, scoring='neg_log_loss', n_jobs=-1, n_iter=10)\n",
    "\n",
    "bs.fit(X_train, y_train)"
   ]
  },
  {
   "cell_type": "code",
   "execution_count": 174,
   "metadata": {},
   "outputs": [
    {
     "data": {
      "text/plain": [
       "-0.5500071240407529"
      ]
     },
     "execution_count": 174,
     "metadata": {},
     "output_type": "execute_result"
    }
   ],
   "source": [
    "bs.best_score_"
   ]
  },
  {
   "cell_type": "code",
   "execution_count": 175,
   "metadata": {},
   "outputs": [
    {
     "data": {
      "text/plain": [
       "{'depth': 9,\n",
       " 'l2_leaf_reg': 1,\n",
       " 'learning_rate': 0.10300050558251683,\n",
       " 'loss_function': 'MultiClass',\n",
       " 'n_estimators': 800,\n",
       " 'one_hot_max_size': 24}"
      ]
     },
     "execution_count": 175,
     "metadata": {},
     "output_type": "execute_result"
    }
   ],
   "source": [
    "bs.best_params_"
   ]
  },
  {
   "cell_type": "code",
   "execution_count": 184,
   "metadata": {},
   "outputs": [],
   "source": [
    "cat_boost = CatBoostClassifier(cat_features=[1, 2, 3, 4, 5, 6, 7, 8, 9, 10, 11, 12, 13],\n",
    "                               depth=8, learning_rate = .023, loss_function='MultiClass',\n",
    "                               n_estimators = 90, one_hot_max_size=24, l2_leaf_reg=1)\n",
    "\n",
    "scores = cross_val_score(cat_boost, X_train, y_train, cv=3, n_jobs=-1, scoring='neg_log_loss')"
   ]
  },
  {
   "cell_type": "code",
   "execution_count": 185,
   "metadata": {},
   "outputs": [
    {
     "data": {
      "text/plain": [
       "array([-0.56663049, -0.56941483, -0.57094245])"
      ]
     },
     "execution_count": 185,
     "metadata": {},
     "output_type": "execute_result"
    }
   ],
   "source": [
    "scores"
   ]
  },
  {
   "cell_type": "code",
   "execution_count": 186,
   "metadata": {},
   "outputs": [
    {
     "name": "stdout",
     "output_type": "stream",
     "text": [
      "0:\tlearn: -0.6883128\ttotal: 81.8ms\tremaining: 7.28s\n",
      "1:\tlearn: -0.6837558\ttotal: 164ms\tremaining: 7.21s\n",
      "2:\tlearn: -0.6791676\ttotal: 247ms\tremaining: 7.17s\n",
      "3:\tlearn: -0.6748582\ttotal: 337ms\tremaining: 7.24s\n",
      "4:\tlearn: -0.6710625\ttotal: 428ms\tremaining: 7.28s\n",
      "5:\tlearn: -0.6670319\ttotal: 514ms\tremaining: 7.2s\n",
      "6:\tlearn: -0.6630992\ttotal: 606ms\tremaining: 7.19s\n",
      "7:\tlearn: -0.6594403\ttotal: 689ms\tremaining: 7.06s\n",
      "8:\tlearn: -0.6558300\ttotal: 771ms\tremaining: 6.94s\n",
      "9:\tlearn: -0.6523890\ttotal: 870ms\tremaining: 6.96s\n",
      "10:\tlearn: -0.6494056\ttotal: 956ms\tremaining: 6.87s\n",
      "11:\tlearn: -0.6462569\ttotal: 1.04s\tremaining: 6.78s\n",
      "12:\tlearn: -0.6432974\ttotal: 1.13s\tremaining: 6.7s\n",
      "13:\tlearn: -0.6405752\ttotal: 1.21s\tremaining: 6.58s\n",
      "14:\tlearn: -0.6379273\ttotal: 1.29s\tremaining: 6.46s\n",
      "15:\tlearn: -0.6352499\ttotal: 1.38s\tremaining: 6.38s\n",
      "16:\tlearn: -0.6328321\ttotal: 1.46s\tremaining: 6.29s\n",
      "17:\tlearn: -0.6303669\ttotal: 1.55s\tremaining: 6.21s\n",
      "18:\tlearn: -0.6279754\ttotal: 1.64s\tremaining: 6.13s\n",
      "19:\tlearn: -0.6256709\ttotal: 1.72s\tremaining: 6.03s\n",
      "20:\tlearn: -0.6233752\ttotal: 1.8s\tremaining: 5.93s\n",
      "21:\tlearn: -0.6211508\ttotal: 1.89s\tremaining: 5.85s\n",
      "22:\tlearn: -0.6189426\ttotal: 1.98s\tremaining: 5.75s\n",
      "23:\tlearn: -0.6169607\ttotal: 2.06s\tremaining: 5.65s\n",
      "24:\tlearn: -0.6150420\ttotal: 2.14s\tremaining: 5.57s\n",
      "25:\tlearn: -0.6133410\ttotal: 2.23s\tremaining: 5.48s\n",
      "26:\tlearn: -0.6115319\ttotal: 2.3s\tremaining: 5.37s\n",
      "27:\tlearn: -0.6097990\ttotal: 2.39s\tremaining: 5.3s\n",
      "28:\tlearn: -0.6079903\ttotal: 2.47s\tremaining: 5.2s\n",
      "29:\tlearn: -0.6064033\ttotal: 2.55s\tremaining: 5.1s\n",
      "30:\tlearn: -0.6048486\ttotal: 2.64s\tremaining: 5.03s\n",
      "31:\tlearn: -0.6034514\ttotal: 2.73s\tremaining: 4.94s\n",
      "32:\tlearn: -0.6019756\ttotal: 2.81s\tremaining: 4.85s\n",
      "33:\tlearn: -0.6006864\ttotal: 2.88s\tremaining: 4.74s\n",
      "34:\tlearn: -0.5994942\ttotal: 2.97s\tremaining: 4.67s\n",
      "35:\tlearn: -0.5981323\ttotal: 3.07s\tremaining: 4.6s\n",
      "36:\tlearn: -0.5967753\ttotal: 3.17s\tremaining: 4.54s\n",
      "37:\tlearn: -0.5955232\ttotal: 3.27s\tremaining: 4.48s\n",
      "38:\tlearn: -0.5943190\ttotal: 3.37s\tremaining: 4.4s\n",
      "39:\tlearn: -0.5931522\ttotal: 3.46s\tremaining: 4.33s\n",
      "40:\tlearn: -0.5920470\ttotal: 3.56s\tremaining: 4.25s\n",
      "41:\tlearn: -0.5908267\ttotal: 3.65s\tremaining: 4.17s\n",
      "42:\tlearn: -0.5898182\ttotal: 3.75s\tremaining: 4.09s\n",
      "43:\tlearn: -0.5888371\ttotal: 3.84s\tremaining: 4.02s\n",
      "44:\tlearn: -0.5877590\ttotal: 3.93s\tremaining: 3.93s\n",
      "45:\tlearn: -0.5869884\ttotal: 4.01s\tremaining: 3.84s\n",
      "46:\tlearn: -0.5861761\ttotal: 4.09s\tremaining: 3.74s\n",
      "47:\tlearn: -0.5853554\ttotal: 4.17s\tremaining: 3.65s\n",
      "48:\tlearn: -0.5846331\ttotal: 4.26s\tremaining: 3.56s\n",
      "49:\tlearn: -0.5836752\ttotal: 4.34s\tremaining: 3.47s\n",
      "50:\tlearn: -0.5829500\ttotal: 4.44s\tremaining: 3.39s\n",
      "51:\tlearn: -0.5822160\ttotal: 4.53s\tremaining: 3.31s\n",
      "52:\tlearn: -0.5815109\ttotal: 4.63s\tremaining: 3.23s\n",
      "53:\tlearn: -0.5809443\ttotal: 4.72s\tremaining: 3.15s\n",
      "54:\tlearn: -0.5802130\ttotal: 4.82s\tremaining: 3.07s\n",
      "55:\tlearn: -0.5796075\ttotal: 4.89s\tremaining: 2.97s\n",
      "56:\tlearn: -0.5790061\ttotal: 5s\tremaining: 2.89s\n",
      "57:\tlearn: -0.5783598\ttotal: 5.09s\tremaining: 2.81s\n",
      "58:\tlearn: -0.5776247\ttotal: 5.19s\tremaining: 2.73s\n",
      "59:\tlearn: -0.5769703\ttotal: 5.29s\tremaining: 2.64s\n",
      "60:\tlearn: -0.5764049\ttotal: 5.38s\tremaining: 2.56s\n",
      "61:\tlearn: -0.5757339\ttotal: 5.46s\tremaining: 2.47s\n",
      "62:\tlearn: -0.5752813\ttotal: 5.54s\tremaining: 2.37s\n",
      "63:\tlearn: -0.5746655\ttotal: 5.62s\tremaining: 2.28s\n",
      "64:\tlearn: -0.5741120\ttotal: 5.71s\tremaining: 2.19s\n",
      "65:\tlearn: -0.5735700\ttotal: 5.8s\tremaining: 2.11s\n",
      "66:\tlearn: -0.5730527\ttotal: 5.89s\tremaining: 2.02s\n",
      "67:\tlearn: -0.5726061\ttotal: 5.97s\tremaining: 1.93s\n",
      "68:\tlearn: -0.5721389\ttotal: 6.06s\tremaining: 1.84s\n",
      "69:\tlearn: -0.5717110\ttotal: 6.15s\tremaining: 1.76s\n",
      "70:\tlearn: -0.5712708\ttotal: 6.23s\tremaining: 1.67s\n",
      "71:\tlearn: -0.5707873\ttotal: 6.31s\tremaining: 1.58s\n",
      "72:\tlearn: -0.5704035\ttotal: 6.39s\tremaining: 1.49s\n",
      "73:\tlearn: -0.5700403\ttotal: 6.49s\tremaining: 1.4s\n",
      "74:\tlearn: -0.5696327\ttotal: 6.57s\tremaining: 1.31s\n",
      "75:\tlearn: -0.5692466\ttotal: 6.66s\tremaining: 1.23s\n",
      "76:\tlearn: -0.5689666\ttotal: 6.74s\tremaining: 1.14s\n",
      "77:\tlearn: -0.5685822\ttotal: 6.82s\tremaining: 1.05s\n",
      "78:\tlearn: -0.5680801\ttotal: 6.91s\tremaining: 962ms\n",
      "79:\tlearn: -0.5677896\ttotal: 6.99s\tremaining: 874ms\n",
      "80:\tlearn: -0.5675537\ttotal: 7.07s\tremaining: 786ms\n",
      "81:\tlearn: -0.5672739\ttotal: 7.16s\tremaining: 698ms\n",
      "82:\tlearn: -0.5670050\ttotal: 7.23s\tremaining: 610ms\n",
      "83:\tlearn: -0.5666261\ttotal: 7.31s\tremaining: 522ms\n",
      "84:\tlearn: -0.5663959\ttotal: 7.39s\tremaining: 435ms\n",
      "85:\tlearn: -0.5661089\ttotal: 7.48s\tremaining: 348ms\n",
      "86:\tlearn: -0.5657806\ttotal: 7.56s\tremaining: 261ms\n",
      "87:\tlearn: -0.5656547\ttotal: 7.63s\tremaining: 174ms\n",
      "88:\tlearn: -0.5652941\ttotal: 7.74s\tremaining: 86.9ms\n",
      "89:\tlearn: -0.5649132\ttotal: 7.83s\tremaining: 0us\n"
     ]
    },
    {
     "data": {
      "text/plain": [
       "<catboost.core.CatBoostClassifier at 0x12cb26e10>"
      ]
     },
     "execution_count": 186,
     "metadata": {},
     "output_type": "execute_result"
    }
   ],
   "source": [
    "cat_boost.fit(X_train, y_train)"
   ]
  },
  {
   "cell_type": "code",
   "execution_count": 195,
   "metadata": {},
   "outputs": [],
   "source": [
    "y_preds = cat_boost.predict_proba(X_test)"
   ]
  },
  {
   "cell_type": "code",
   "execution_count": 188,
   "metadata": {},
   "outputs": [
    {
     "data": {
      "text/plain": [
       "array([0, 1, 0, ..., 0, 1, 0])"
      ]
     },
     "execution_count": 188,
     "metadata": {},
     "output_type": "execute_result"
    }
   ],
   "source": [
    "y_test"
   ]
  },
  {
   "cell_type": "code",
   "execution_count": 197,
   "metadata": {},
   "outputs": [],
   "source": [
    "from sklearn.metrics import accuracy_score\n",
    "from sklearn.metrics import log_loss"
   ]
  },
  {
   "cell_type": "code",
   "execution_count": 193,
   "metadata": {},
   "outputs": [
    {
     "data": {
      "text/plain": [
       "(15911,)"
      ]
     },
     "execution_count": 193,
     "metadata": {},
     "output_type": "execute_result"
    }
   ],
   "source": [
    "y_test.shape[0]"
   ]
  },
  {
   "cell_type": "code",
   "execution_count": 196,
   "metadata": {},
   "outputs": [
    {
     "data": {
      "text/plain": [
       "0.5662281913395384"
      ]
     },
     "execution_count": 196,
     "metadata": {},
     "output_type": "execute_result"
    }
   ],
   "source": [
    "log_loss(y_test, y_preds)"
   ]
  },
  {
   "cell_type": "code",
   "execution_count": 140,
   "metadata": {},
   "outputs": [],
   "source": [
    "pickle.dump(cat_boost, open('cat_model.pkl', 'wb'))"
   ]
  },
  {
   "cell_type": "code",
   "execution_count": 157,
   "metadata": {},
   "outputs": [
    {
     "data": {
      "text/plain": [
       "([0, 1, 2, 3, 4, 5, 6, 7, 8, 9, 10, 11, 12, 13, 14],\n",
       " <a list of 15 Text xticklabel objects>)"
      ]
     },
     "execution_count": 157,
     "metadata": {},
     "output_type": "execute_result"
    },
    {
     "data": {
      "image/png": "[encoded data removed]",
      "text/plain": [
       "<Figure size 864x720 with 1 Axes>"
      ]
     },
     "metadata": {},
     "output_type": "display_data"
    }
   ],
   "source": [
    "plt.figure(figsize=(12, 10))\n",
    "plt.bar(X_train.columns, cat_boost.feature_importances_)\n",
    "plt.xticks(rotation=90)"
   ]
  },
  {
   "cell_type": "markdown",
   "metadata": {},
   "source": [
    "## Catboost with hour+minute data"
   ]
  },
  {
   "cell_type": "code",
   "execution_count": 134,
   "metadata": {},
   "outputs": [],
   "source": [
    "df_raw['outcome_type'] = df_raw['outcome_type'].astype(str)"
   ]
  },
  {
   "cell_type": "code",
   "execution_count": 135,
   "metadata": {},
   "outputs": [],
   "source": [
    "X = df_raw.drop(labels=['outcome_type', 'given_name', 'days_in_shelter'], axis=1)\n",
    "y = df_raw['outcome_type']\n",
    "\n",
    "le = LabelEncoder()\n",
    "le.fit(y)\n",
    "y = le.transform(y.fillna('0'))\n",
    "\n",
    "X_train, X_test, y_train, y_test = train_test_split(X, y)"
   ]
  },
  {
   "cell_type": "code",
   "execution_count": 136,
   "metadata": {},
   "outputs": [
    {
     "data": {
      "text/plain": [
       "array(['age', 'animal_type', 'dow', 'fixed_status', 'gender', 'group',\n",
       "       'intake_condition', 'intake_season', 'intake_type', 'mix', 'name',\n",
       "       'simple_color', 'simple_group', 'shade', 'name_freq', 'hour'],\n",
       "      dtype=object)"
      ]
     },
     "execution_count": 136,
     "metadata": {},
     "output_type": "execute_result"
    }
   ],
   "source": [
    "X_train.columns.values"
   ]
  },
  {
   "cell_type": "code",
   "execution_count": 137,
   "metadata": {},
   "outputs": [],
   "source": [
    "cat_boost = CatBoostClassifier(cat_features=[1, 2, 3, 4, 5, 6, 7, 8, 9, 10, 11, 12, 13],\n",
    "                               depth=8, learning_rate = .023, loss_function='MultiClass',\n",
    "                               n_estimators = 800, one_hot_max_size=24)\n",
    "\n",
    "scores = cross_val_score(cat_boost, X_train, y_train, cv=3, n_jobs=-1, scoring='neg_log_loss')"
   ]
  },
  {
   "cell_type": "code",
   "execution_count": 138,
   "metadata": {},
   "outputs": [
    {
     "data": {
      "text/plain": [
       "array([-0.87345825, -0.88395929, -0.87502304])"
      ]
     },
     "execution_count": 138,
     "metadata": {},
     "output_type": "execute_result"
    }
   ],
   "source": [
    "scores"
   ]
  },
  {
   "cell_type": "markdown",
   "metadata": {},
   "source": [
    "Does not add much to the model."
   ]
  }
 ],
 "metadata": {
  "kernelspec": {
   "display_name": "Python 3",
   "language": "python",
   "name": "python3"
  },
  "language_info": {
   "codemirror_mode": {
    "name": "ipython",
    "version": 3
   },
   "file_extension": ".py",
   "mimetype": "text/x-python",
   "name": "python",
   "nbconvert_exporter": "python",
   "pygments_lexer": "ipython3",
   "version": "3.6.5"
  }
 },
 "nbformat": 4,
 "nbformat_minor": 2
}
