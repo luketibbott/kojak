{
 "cells": [
  {
   "cell_type": "code",
   "execution_count": 1,
   "metadata": {},
   "outputs": [],
   "source": [
    "import pandas as pd\n",
    "import numpy as np\n",
    "import matplotlib.pyplot as plt\n",
    "\n",
    "from sklearn.ensemble import RandomForestClassifier\n",
    "from sklearn.model_selection import cross_val_score\n",
    "from sklearn.model_selection import train_test_split\n",
    "from sklearn.model_selection import RandomizedSearchCV\n",
    "from sklearn.model_selection import StratifiedKFold\n",
    "from sklearn.preprocessing import LabelEncoder\n",
    "from sklearn.preprocessing import StandardScaler\n",
    "from sklearn.pipeline import make_pipeline\n",
    "\n",
    "from catboost import CatBoostClassifier\n",
    "\n",
    "from skopt import BayesSearchCV\n",
    "\n",
    "from xgboost import XGBClassifier\n",
    "\n",
    "%matplotlib inline"
   ]
  },
  {
   "cell_type": "code",
   "execution_count": 2,
   "metadata": {},
   "outputs": [],
   "source": [
    "df = pd.read_csv('./data/model12218.csv', index_col = 0)"
   ]
  },
  {
   "cell_type": "code",
   "execution_count": 7,
   "metadata": {},
   "outputs": [
    {
     "name": "stdout",
     "output_type": "stream",
     "text": [
      "<class 'pandas.core.frame.DataFrame'>\n",
      "Int64Index: 64339 entries, 0 to 75010\n",
      "Data columns (total 18 columns):\n",
      "age                 64339 non-null int64\n",
      "animal_type         64339 non-null object\n",
      "dow                 64339 non-null int64\n",
      "fixed_status        64339 non-null object\n",
      "gender              64339 non-null object\n",
      "group               64339 non-null object\n",
      "intake_condition    64339 non-null object\n",
      "intake_season       64339 non-null object\n",
      "intake_type         64339 non-null object\n",
      "mix                 64339 non-null int64\n",
      "simple_color        64339 non-null object\n",
      "hour_in             64339 non-null int64\n",
      "simple_group        64339 non-null object\n",
      "shade               64339 non-null object\n",
      "given_name          47018 non-null object\n",
      "name_freq           64339 non-null int64\n",
      "days_in_shelter     64339 non-null int64\n",
      "outcome_type        64339 non-null object\n",
      "dtypes: int64(6), object(12)\n",
      "memory usage: 9.3+ MB\n"
     ]
    }
   ],
   "source": [
    "df.info()"
   ]
  },
  {
   "cell_type": "code",
   "execution_count": 5,
   "metadata": {},
   "outputs": [],
   "source": [
    "df['gender'] = df['gender'].astype(str)"
   ]
  },
  {
   "cell_type": "code",
   "execution_count": 8,
   "metadata": {},
   "outputs": [],
   "source": [
    "df['dow'] = df['dow'].astype(str)\n",
    "df['mix'] = df['mix'].astype(str)\n",
    "df['hour_in'] = df['hour_in'].astype(str)"
   ]
  },
  {
   "cell_type": "code",
   "execution_count": 11,
   "metadata": {},
   "outputs": [],
   "source": [
    "df = df.drop(labels=['days_in_shelter'], axis=1)"
   ]
  },
  {
   "cell_type": "code",
   "execution_count": 14,
   "metadata": {},
   "outputs": [],
   "source": [
    "df = df[~df.duplicated()]"
   ]
  },
  {
   "cell_type": "code",
   "execution_count": 15,
   "metadata": {},
   "outputs": [],
   "source": [
    "df.reset_index(inplace=True, drop=True)"
   ]
  },
  {
   "cell_type": "code",
   "execution_count": 20,
   "metadata": {},
   "outputs": [],
   "source": [
    "X = df.iloc[:, :-1]\n",
    "y = df.iloc[:, -1]"
   ]
  },
  {
   "cell_type": "code",
   "execution_count": 29,
   "metadata": {},
   "outputs": [],
   "source": [
    "X = X.drop(labels=['given_name'], axis=1)"
   ]
  },
  {
   "cell_type": "code",
   "execution_count": null,
   "metadata": {},
   "outputs": [],
   "source": [
    "le = LabelEncoder()\n",
    "le.fit(y)\n",
    "y = le.transform(y)"
   ]
  },
  {
   "cell_type": "code",
   "execution_count": 36,
   "metadata": {},
   "outputs": [],
   "source": [
    "X_train, X_test, y_train, y_test = train_test_split(X, y)"
   ]
  },
  {
   "cell_type": "code",
   "execution_count": 40,
   "metadata": {},
   "outputs": [
    {
     "data": {
      "text/html": [
       "<div>\n",
       "<style scoped>\n",
       "    .dataframe tbody tr th:only-of-type {\n",
       "        vertical-align: middle;\n",
       "    }\n",
       "\n",
       "    .dataframe tbody tr th {\n",
       "        vertical-align: top;\n",
       "    }\n",
       "\n",
       "    .dataframe thead th {\n",
       "        text-align: right;\n",
       "    }\n",
       "</style>\n",
       "<table border=\"1\" class=\"dataframe\">\n",
       "  <thead>\n",
       "    <tr style=\"text-align: right;\">\n",
       "      <th></th>\n",
       "      <th>age</th>\n",
       "      <th>animal_type</th>\n",
       "      <th>dow</th>\n",
       "      <th>fixed_status</th>\n",
       "      <th>gender</th>\n",
       "      <th>group</th>\n",
       "      <th>intake_condition</th>\n",
       "      <th>intake_season</th>\n",
       "      <th>intake_type</th>\n",
       "      <th>mix</th>\n",
       "      <th>simple_color</th>\n",
       "      <th>hour_in</th>\n",
       "      <th>simple_group</th>\n",
       "      <th>shade</th>\n",
       "      <th>name_freq</th>\n",
       "    </tr>\n",
       "  </thead>\n",
       "  <tbody>\n",
       "    <tr>\n",
       "      <th>0</th>\n",
       "      <td>2920</td>\n",
       "      <td>Dog</td>\n",
       "      <td>6</td>\n",
       "      <td>fixed</td>\n",
       "      <td>1</td>\n",
       "      <td>Sporting</td>\n",
       "      <td>Normal</td>\n",
       "      <td>summer</td>\n",
       "      <td>Stray</td>\n",
       "      <td>0</td>\n",
       "      <td>White</td>\n",
       "      <td>12</td>\n",
       "      <td>Sporting</td>\n",
       "      <td>Light</td>\n",
       "      <td>52</td>\n",
       "    </tr>\n",
       "    <tr>\n",
       "      <th>1</th>\n",
       "      <td>330</td>\n",
       "      <td>Dog</td>\n",
       "      <td>3</td>\n",
       "      <td>intact</td>\n",
       "      <td>0</td>\n",
       "      <td>Hound</td>\n",
       "      <td>Normal</td>\n",
       "      <td>spring</td>\n",
       "      <td>Stray</td>\n",
       "      <td>1</td>\n",
       "      <td>Sable</td>\n",
       "      <td>18</td>\n",
       "      <td>Non-Sporting</td>\n",
       "      <td>Light</td>\n",
       "      <td>1</td>\n",
       "    </tr>\n",
       "    <tr>\n",
       "      <th>2</th>\n",
       "      <td>1460</td>\n",
       "      <td>Dog</td>\n",
       "      <td>6</td>\n",
       "      <td>fixed</td>\n",
       "      <td>0</td>\n",
       "      <td>Working</td>\n",
       "      <td>Normal</td>\n",
       "      <td>spring</td>\n",
       "      <td>Stray</td>\n",
       "      <td>1</td>\n",
       "      <td>Yellow</td>\n",
       "      <td>10</td>\n",
       "      <td>Non-Sporting</td>\n",
       "      <td>Light</td>\n",
       "      <td>22</td>\n",
       "    </tr>\n",
       "    <tr>\n",
       "      <th>3</th>\n",
       "      <td>730</td>\n",
       "      <td>Dog</td>\n",
       "      <td>5</td>\n",
       "      <td>fixed</td>\n",
       "      <td>0</td>\n",
       "      <td>Sporting</td>\n",
       "      <td>Normal</td>\n",
       "      <td>winter</td>\n",
       "      <td>Owner Surrender</td>\n",
       "      <td>1</td>\n",
       "      <td>Brown</td>\n",
       "      <td>12</td>\n",
       "      <td>Sporting</td>\n",
       "      <td>Medium</td>\n",
       "      <td>32</td>\n",
       "    </tr>\n",
       "    <tr>\n",
       "      <th>4</th>\n",
       "      <td>730</td>\n",
       "      <td>Dog</td>\n",
       "      <td>3</td>\n",
       "      <td>intact</td>\n",
       "      <td>0</td>\n",
       "      <td>Sporting</td>\n",
       "      <td>Normal</td>\n",
       "      <td>summer</td>\n",
       "      <td>Public Assist</td>\n",
       "      <td>1</td>\n",
       "      <td>Black</td>\n",
       "      <td>14</td>\n",
       "      <td>Sporting</td>\n",
       "      <td>Dark</td>\n",
       "      <td>1</td>\n",
       "    </tr>\n",
       "  </tbody>\n",
       "</table>\n",
       "</div>"
      ],
      "text/plain": [
       "    age animal_type dow fixed_status gender     group intake_condition  \\\n",
       "0  2920         Dog   6        fixed      1  Sporting           Normal   \n",
       "1   330         Dog   3       intact      0     Hound           Normal   \n",
       "2  1460         Dog   6        fixed      0   Working           Normal   \n",
       "3   730         Dog   5        fixed      0  Sporting           Normal   \n",
       "4   730         Dog   3       intact      0  Sporting           Normal   \n",
       "\n",
       "  intake_season      intake_type mix simple_color hour_in  simple_group  \\\n",
       "0        summer            Stray   0        White      12      Sporting   \n",
       "1        spring            Stray   1        Sable      18  Non-Sporting   \n",
       "2        spring            Stray   1       Yellow      10  Non-Sporting   \n",
       "3        winter  Owner Surrender   1        Brown      12      Sporting   \n",
       "4        summer    Public Assist   1        Black      14      Sporting   \n",
       "\n",
       "    shade  name_freq  \n",
       "0   Light         52  \n",
       "1   Light          1  \n",
       "2   Light         22  \n",
       "3  Medium         32  \n",
       "4    Dark          1  "
      ]
     },
     "execution_count": 40,
     "metadata": {},
     "output_type": "execute_result"
    }
   ],
   "source": [
    "X.head()"
   ]
  },
  {
   "cell_type": "code",
   "execution_count": 39,
   "metadata": {},
   "outputs": [
    {
     "data": {
      "text/plain": [
       "array([-0.87083723, -0.8677593 , -0.87302842])"
      ]
     },
     "execution_count": 39,
     "metadata": {},
     "output_type": "execute_result"
    }
   ],
   "source": [
    "cb = CatBoostClassifier(one_hot_max_size=24, learning_rate = 0.1, \n",
    "                        cat_features = [1, 2, 3, 4, 5, 6, 7, 8, 9, 10, 11, 12, 13], \n",
    "                        loss_function = 'MultiClass')\n",
    "\n",
    "tuning_params = {'one_hot_max_size': [24], 'learning_rate': [1e-2, 1], \n",
    "                 'cat_features': [1, 2, 3, 4, 5, 6, 7, 8, 9, 10, 11, 12, 13], 'loss_function': ['MultiClass'],\n",
    "                 ''}\n",
    "\n",
    "scores = cross_val_score(cb, cv=3, n_jobs=-1, scoring='neg_log_loss', X=X_train, y=y_train)\n",
    "\n",
    "scores"
   ]
  }
 ],
 "metadata": {
  "kernelspec": {
   "display_name": "Python 3",
   "language": "python",
   "name": "python3"
  },
  "language_info": {
   "codemirror_mode": {
    "name": "ipython",
    "version": 3
   },
   "file_extension": ".py",
   "mimetype": "text/x-python",
   "name": "python",
   "nbconvert_exporter": "python",
   "pygments_lexer": "ipython3",
   "version": "3.6.5"
  }
 },
 "nbformat": 4,
 "nbformat_minor": 2
}
