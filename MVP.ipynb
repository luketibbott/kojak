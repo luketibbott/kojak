{
 "cells": [
  {
   "cell_type": "code",
   "execution_count": 38,
   "metadata": {},
   "outputs": [],
   "source": [
    "import pandas as pd\n",
    "import numpy as np\n",
    "from sklearn.ensemble import RandomForestClassifier\n",
    "from sklearn.model_selection import train_test_split, cross_val_score\n",
    "from sklearn.preprocessing import StandardScaler, OneHotEncoder\n",
    "from sklearn.pipeline import make_pipeline\n",
    "\n",
    "import animalhelper as ah\n",
    "\n",
    "%load_ext autoreload\n",
    "%autoreload 2"
   ]
  },
  {
   "cell_type": "code",
   "execution_count": 5,
   "metadata": {},
   "outputs": [],
   "source": [
    "df = pd.read_csv('master_df.csv', index_col = 0)"
   ]
  },
  {
   "cell_type": "code",
   "execution_count": null,
   "metadata": {},
   "outputs": [],
   "source": []
  },
  {
   "cell_type": "code",
   "execution_count": 7,
   "metadata": {},
   "outputs": [],
   "source": [
    "df=df.drop(labels=['Unnamed: 0.1'], axis=1)"
   ]
  },
  {
   "cell_type": "code",
   "execution_count": 26,
   "metadata": {},
   "outputs": [
    {
     "data": {
      "text/plain": [
       "array(['age_upon_intake', 'animal_id', 'datetime_in', 'intake_condition',\n",
       "       'intake_type', 'fixed_status', 'age_upon_outcome', 'animal_type',\n",
       "       'breed', 'color', 'date_of_birth', 'datetime_out', 'name',\n",
       "       'outcome_subtype', 'outcome_type', 'sex_upon_outcome', 'age',\n",
       "       'gender', 'dow', 'intake_season', 'days_in_shelter'], dtype=object)"
      ]
     },
     "execution_count": 26,
     "metadata": {},
     "output_type": "execute_result"
    }
   ],
   "source": [
    "df.columns.values"
   ]
  },
  {
   "cell_type": "code",
   "execution_count": 29,
   "metadata": {},
   "outputs": [],
   "source": [
    "df = df.drop(labels=['outcome_subtype', 'sex_upon_outcome', 'date_of_birth'], axis=1)"
   ]
  },
  {
   "cell_type": "code",
   "execution_count": 30,
   "metadata": {},
   "outputs": [
    {
     "data": {
      "text/plain": [
       "(71964, 18)"
      ]
     },
     "execution_count": 30,
     "metadata": {},
     "output_type": "execute_result"
    }
   ],
   "source": []
  },
  {
   "cell_type": "code",
   "execution_count": 10,
   "metadata": {},
   "outputs": [],
   "source": [
    "df_ml = df.copy()"
   ]
  },
  {
   "cell_type": "code",
   "execution_count": 23,
   "metadata": {},
   "outputs": [],
   "source": [
    "one_hot = OneHotEncoder(sparse=False)"
   ]
  },
  {
   "cell_type": "code",
   "execution_count": 17,
   "metadata": {},
   "outputs": [
    {
     "data": {
      "text/html": [
       "<div>\n",
       "<style scoped>\n",
       "    .dataframe tbody tr th:only-of-type {\n",
       "        vertical-align: middle;\n",
       "    }\n",
       "\n",
       "    .dataframe tbody tr th {\n",
       "        vertical-align: top;\n",
       "    }\n",
       "\n",
       "    .dataframe thead th {\n",
       "        text-align: right;\n",
       "    }\n",
       "</style>\n",
       "<table border=\"1\" class=\"dataframe\">\n",
       "  <thead>\n",
       "    <tr style=\"text-align: right;\">\n",
       "      <th></th>\n",
       "      <th>age_upon_intake</th>\n",
       "      <th>animal_id</th>\n",
       "      <th>datetime_in</th>\n",
       "      <th>intake_condition</th>\n",
       "      <th>intake_type</th>\n",
       "      <th>fixed_status</th>\n",
       "      <th>age_upon_outcome</th>\n",
       "      <th>animal_type</th>\n",
       "      <th>breed</th>\n",
       "      <th>color</th>\n",
       "      <th>...</th>\n",
       "      <th>datetime_out</th>\n",
       "      <th>name</th>\n",
       "      <th>outcome_subtype</th>\n",
       "      <th>outcome_type</th>\n",
       "      <th>sex_upon_outcome</th>\n",
       "      <th>age</th>\n",
       "      <th>gender</th>\n",
       "      <th>dow</th>\n",
       "      <th>intake_season</th>\n",
       "      <th>days_in_shelter</th>\n",
       "    </tr>\n",
       "  </thead>\n",
       "  <tbody>\n",
       "    <tr>\n",
       "      <th>0</th>\n",
       "      <td>8 years</td>\n",
       "      <td>A706918</td>\n",
       "      <td>2015-07-05 12:59:00</td>\n",
       "      <td>Normal</td>\n",
       "      <td>Stray</td>\n",
       "      <td>fixed</td>\n",
       "      <td>8 years</td>\n",
       "      <td>Dog</td>\n",
       "      <td>English Springer Spaniel</td>\n",
       "      <td>White/Liver</td>\n",
       "      <td>...</td>\n",
       "      <td>2015-07-05 15:13:00</td>\n",
       "      <td>1</td>\n",
       "      <td>Unknown</td>\n",
       "      <td>Return to Owner</td>\n",
       "      <td>Spayed Female</td>\n",
       "      <td>2920</td>\n",
       "      <td>1</td>\n",
       "      <td>6</td>\n",
       "      <td>summer</td>\n",
       "      <td>0</td>\n",
       "    </tr>\n",
       "    <tr>\n",
       "      <th>1</th>\n",
       "      <td>11 months</td>\n",
       "      <td>A724273</td>\n",
       "      <td>2016-04-14 18:43:00</td>\n",
       "      <td>Normal</td>\n",
       "      <td>Stray</td>\n",
       "      <td>intact</td>\n",
       "      <td>1 year</td>\n",
       "      <td>Dog</td>\n",
       "      <td>Basenji Mix</td>\n",
       "      <td>Sable/White</td>\n",
       "      <td>...</td>\n",
       "      <td>2016-04-21 17:17:00</td>\n",
       "      <td>1</td>\n",
       "      <td>Unknown</td>\n",
       "      <td>Return to Owner</td>\n",
       "      <td>Neutered Male</td>\n",
       "      <td>330</td>\n",
       "      <td>0</td>\n",
       "      <td>3</td>\n",
       "      <td>spring</td>\n",
       "      <td>6</td>\n",
       "    </tr>\n",
       "    <tr>\n",
       "      <th>2</th>\n",
       "      <td>4 weeks</td>\n",
       "      <td>A665644</td>\n",
       "      <td>2013-10-21 07:59:00</td>\n",
       "      <td>Sick</td>\n",
       "      <td>Stray</td>\n",
       "      <td>intact</td>\n",
       "      <td>4 weeks</td>\n",
       "      <td>Cat</td>\n",
       "      <td>Domestic Shorthair Mix</td>\n",
       "      <td>Calico</td>\n",
       "      <td>...</td>\n",
       "      <td>2013-10-21 11:39:00</td>\n",
       "      <td>0</td>\n",
       "      <td>Partner</td>\n",
       "      <td>Transfer</td>\n",
       "      <td>Intact Female</td>\n",
       "      <td>28</td>\n",
       "      <td>1</td>\n",
       "      <td>0</td>\n",
       "      <td>fall</td>\n",
       "      <td>0</td>\n",
       "    </tr>\n",
       "    <tr>\n",
       "      <th>3</th>\n",
       "      <td>4 years</td>\n",
       "      <td>A682524</td>\n",
       "      <td>2014-06-29 10:38:00</td>\n",
       "      <td>Normal</td>\n",
       "      <td>Stray</td>\n",
       "      <td>fixed</td>\n",
       "      <td>4 years</td>\n",
       "      <td>Dog</td>\n",
       "      <td>Doberman Pinsch/Australian Cattle Dog</td>\n",
       "      <td>Tan/Gray</td>\n",
       "      <td>...</td>\n",
       "      <td>2014-07-02 14:16:00</td>\n",
       "      <td>1</td>\n",
       "      <td>Unknown</td>\n",
       "      <td>Return to Owner</td>\n",
       "      <td>Neutered Male</td>\n",
       "      <td>1460</td>\n",
       "      <td>0</td>\n",
       "      <td>6</td>\n",
       "      <td>spring</td>\n",
       "      <td>3</td>\n",
       "    </tr>\n",
       "    <tr>\n",
       "      <th>4</th>\n",
       "      <td>2 years</td>\n",
       "      <td>A743852</td>\n",
       "      <td>2017-02-18 12:46:00</td>\n",
       "      <td>Normal</td>\n",
       "      <td>Owner Surrender</td>\n",
       "      <td>fixed</td>\n",
       "      <td>2 years</td>\n",
       "      <td>Dog</td>\n",
       "      <td>Labrador Retriever Mix</td>\n",
       "      <td>Chocolate</td>\n",
       "      <td>...</td>\n",
       "      <td>2017-02-21 17:44:00</td>\n",
       "      <td>1</td>\n",
       "      <td>Unknown</td>\n",
       "      <td>Return to Owner</td>\n",
       "      <td>Neutered Male</td>\n",
       "      <td>730</td>\n",
       "      <td>0</td>\n",
       "      <td>5</td>\n",
       "      <td>winter</td>\n",
       "      <td>3</td>\n",
       "    </tr>\n",
       "  </tbody>\n",
       "</table>\n",
       "<p>5 rows × 21 columns</p>\n",
       "</div>"
      ],
      "text/plain": [
       "  age_upon_intake animal_id          datetime_in intake_condition  \\\n",
       "0         8 years   A706918  2015-07-05 12:59:00           Normal   \n",
       "1       11 months   A724273  2016-04-14 18:43:00           Normal   \n",
       "2         4 weeks   A665644  2013-10-21 07:59:00             Sick   \n",
       "3         4 years   A682524  2014-06-29 10:38:00           Normal   \n",
       "4         2 years   A743852  2017-02-18 12:46:00           Normal   \n",
       "\n",
       "       intake_type fixed_status age_upon_outcome animal_type  \\\n",
       "0            Stray        fixed          8 years         Dog   \n",
       "1            Stray       intact           1 year         Dog   \n",
       "2            Stray       intact          4 weeks         Cat   \n",
       "3            Stray        fixed          4 years         Dog   \n",
       "4  Owner Surrender        fixed          2 years         Dog   \n",
       "\n",
       "                                   breed        color       ...        \\\n",
       "0               English Springer Spaniel  White/Liver       ...         \n",
       "1                            Basenji Mix  Sable/White       ...         \n",
       "2                 Domestic Shorthair Mix       Calico       ...         \n",
       "3  Doberman Pinsch/Australian Cattle Dog     Tan/Gray       ...         \n",
       "4                 Labrador Retriever Mix    Chocolate       ...         \n",
       "\n",
       "          datetime_out name  outcome_subtype     outcome_type  \\\n",
       "0  2015-07-05 15:13:00    1          Unknown  Return to Owner   \n",
       "1  2016-04-21 17:17:00    1          Unknown  Return to Owner   \n",
       "2  2013-10-21 11:39:00    0          Partner         Transfer   \n",
       "3  2014-07-02 14:16:00    1          Unknown  Return to Owner   \n",
       "4  2017-02-21 17:44:00    1          Unknown  Return to Owner   \n",
       "\n",
       "  sex_upon_outcome   age  gender  dow  intake_season days_in_shelter  \n",
       "0    Spayed Female  2920       1    6         summer               0  \n",
       "1    Neutered Male   330       0    3         spring               6  \n",
       "2    Intact Female    28       1    0           fall               0  \n",
       "3    Neutered Male  1460       0    6         spring               3  \n",
       "4    Neutered Male   730       0    5         winter               3  \n",
       "\n",
       "[5 rows x 21 columns]"
      ]
     },
     "execution_count": 17,
     "metadata": {},
     "output_type": "execute_result"
    }
   ],
   "source": [
    "df.head()"
   ]
  },
  {
   "cell_type": "code",
   "execution_count": 24,
   "metadata": {},
   "outputs": [
    {
     "data": {
      "text/plain": [
       "OneHotEncoder(categorical_features=None, categories=None,\n",
       "       dtype=<class 'numpy.float64'>, handle_unknown='error',\n",
       "       n_values=None, sparse=False)"
      ]
     },
     "execution_count": 24,
     "metadata": {},
     "output_type": "execute_result"
    }
   ],
   "source": [
    "one_hot.fit(df[['intake_condition', 'intake_type', 'fixed_status', 'animal_type']])"
   ]
  },
  {
   "cell_type": "code",
   "execution_count": 31,
   "metadata": {},
   "outputs": [],
   "source": [
    "X = one_hot.transform(df[['intake_condition', 'intake_type', 'fixed_status', 'animal_type']])"
   ]
  },
  {
   "cell_type": "code",
   "execution_count": 40,
   "metadata": {},
   "outputs": [],
   "source": [
    "df['outcome_type'] = df['outcome_type'].apply(lambda x: ah. encode_response(x))"
   ]
  },
  {
   "cell_type": "code",
   "execution_count": 41,
   "metadata": {},
   "outputs": [],
   "source": [
    "y = df['outcome_type']"
   ]
  },
  {
   "cell_type": "code",
   "execution_count": 42,
   "metadata": {},
   "outputs": [],
   "source": [
    "X_train, X_test, y_train, y_test = train_test_split(X, y)"
   ]
  },
  {
   "cell_type": "markdown",
   "metadata": {},
   "source": [
    "## Random forest"
   ]
  },
  {
   "cell_type": "code",
   "execution_count": 43,
   "metadata": {},
   "outputs": [],
   "source": [
    "rfc = RandomForestClassifier()"
   ]
  },
  {
   "cell_type": "code",
   "execution_count": 46,
   "metadata": {},
   "outputs": [
    {
     "data": {
      "text/plain": [
       "(53973, 21)"
      ]
     },
     "execution_count": 46,
     "metadata": {},
     "output_type": "execute_result"
    }
   ],
   "source": [
    "X_train.shape"
   ]
  },
  {
   "cell_type": "code",
   "execution_count": 54,
   "metadata": {},
   "outputs": [
    {
     "name": "stderr",
     "output_type": "stream",
     "text": [
      "/anaconda3/lib/python3.6/site-packages/sklearn/ensemble/forest.py:248: FutureWarning: The default value of n_estimators will change from 10 in version 0.20 to 100 in 0.22.\n",
      "  \"10 in version 0.20 to 100 in 0.22.\", FutureWarning)\n",
      "/anaconda3/lib/python3.6/site-packages/sklearn/ensemble/forest.py:248: FutureWarning: The default value of n_estimators will change from 10 in version 0.20 to 100 in 0.22.\n",
      "  \"10 in version 0.20 to 100 in 0.22.\", FutureWarning)\n",
      "/anaconda3/lib/python3.6/site-packages/sklearn/ensemble/forest.py:248: FutureWarning: The default value of n_estimators will change from 10 in version 0.20 to 100 in 0.22.\n",
      "  \"10 in version 0.20 to 100 in 0.22.\", FutureWarning)\n"
     ]
    }
   ],
   "source": [
    "scores = cross_val_score(rfc, X_train, y_train, cv=3, scoring='f1_micro')"
   ]
  },
  {
   "cell_type": "code",
   "execution_count": 55,
   "metadata": {},
   "outputs": [
    {
     "data": {
      "text/plain": [
       "array([0.57730355, 0.57517648, 0.57660663])"
      ]
     },
     "execution_count": 55,
     "metadata": {},
     "output_type": "execute_result"
    }
   ],
   "source": [
    "scores"
   ]
  }
 ],
 "metadata": {
  "kernelspec": {
   "display_name": "Python 3",
   "language": "python",
   "name": "python3"
  },
  "language_info": {
   "codemirror_mode": {
    "name": "ipython",
    "version": 3
   },
   "file_extension": ".py",
   "mimetype": "text/x-python",
   "name": "python",
   "nbconvert_exporter": "python",
   "pygments_lexer": "ipython3",
   "version": "3.6.5"
  }
 },
 "nbformat": 4,
 "nbformat_minor": 2
}
